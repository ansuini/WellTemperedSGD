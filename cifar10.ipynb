{
 "cells": [
  {
   "cell_type": "code",
   "execution_count": 1,
   "metadata": {},
   "outputs": [],
   "source": [
    "%reload_ext autoreload\n",
    "%autoreload 2\n",
    "%matplotlib inline"
   ]
  },
  {
   "cell_type": "markdown",
   "metadata": {},
   "source": [
    "# Dataset and Settings"
   ]
  },
  {
   "cell_type": "code",
   "execution_count": 2,
   "metadata": {},
   "outputs": [],
   "source": [
    "MODIFIED_SGD = True\n",
    "SAVE = True"
   ]
  },
  {
   "cell_type": "code",
   "execution_count": 3,
   "metadata": {},
   "outputs": [],
   "source": [
    "DATASET = 'cifar10'\n",
    "if DATASET     == 'cifar10':\n",
    "    Ntr_samples= 50000\n",
    "    mb_size    = 10         # mini-batch size (default : 10)\n",
    "    n          = 100        # number of mini-batches in a large batch\n",
    "    lb_size    = n*mb_size  # large batch size (after this gradient update with modified SGD rule)  \n",
    "    n_lb       = int(Ntr_samples/(lb_size)) # number of large batches in a epoch\n",
    "    epochs     = 100\n",
    "    lr         = 0.1\n",
    "    momentum   = 0.0    \n",
    "    mean_imgs  = (0.5,0.5,0.5)\n",
    "    std_imgs   = (0.5,0.5,0.5)\n",
    "    imgs_shape = (3,32,32)"
   ]
  },
  {
   "cell_type": "code",
   "execution_count": 4,
   "metadata": {},
   "outputs": [],
   "source": [
    "import os\n",
    "ROOT = '/home/ansuini/repos/WellTemperedSGD/'\n",
    "os.chdir(ROOT)"
   ]
  },
  {
   "cell_type": "code",
   "execution_count": 5,
   "metadata": {},
   "outputs": [],
   "source": [
    "if MODIFIED_SGD:\n",
    "    RES = os.path.join(ROOT,'results', DATASET, 'modified', str(mb_size) + '_' + str(n)  )\n",
    "    if not os.path.exists(RES):\n",
    "        print('Creating directory ' + RES)\n",
    "        os.mkdir(RES)\n",
    "        \n",
    "    FIG = os.path.join(ROOT,'figures', DATASET, 'modified', str(mb_size) + '_' + str(n)  )\n",
    "    if not os.path.exists(FIG):\n",
    "        print('Creating directory ' + FIG)\n",
    "        os.mkdir(FIG)\n",
    "else:\n",
    "    RES = os.path.join(ROOT,'results', DATASET,'original', str(mb_size) + '_' + str(n)  )  \n",
    "    if not os.path.exists(RES):\n",
    "        print('Creating directory ' + RES)\n",
    "        os.mkdir(RES)\n",
    "        \n",
    "    FIG = os.path.join(ROOT,'figures', DATASET,'original', str(mb_size) + '_' + str(n)  )\n",
    "    if not os.path.exists(FIG):\n",
    "        print('Creating directory ' + FIG)\n",
    "        os.mkdir(FIG)"
   ]
  },
  {
   "cell_type": "code",
   "execution_count": 6,
   "metadata": {},
   "outputs": [],
   "source": [
    "from __future__ import print_function\n",
    "import argparse\n",
    "import torch\n",
    "import torch.nn as nn\n",
    "import torch.nn.functional as F\n",
    "import torch.optim as optim\n",
    "from torchvision import datasets, transforms\n",
    "from torch.autograd import Variable\n",
    "import torchvision\n",
    "from torchsummary import summary\n",
    "from tqdm import tqdm\n",
    "import pandas as pd\n",
    "from wtsgd import *\n",
    "\n",
    "import pickle\n",
    "from time import time\n",
    "import numpy as np\n",
    "np.seed = 1101\n",
    "from matplotlib import pyplot as plt\n",
    "plt.style.use('ggplot')"
   ]
  },
  {
   "cell_type": "code",
   "execution_count": 7,
   "metadata": {},
   "outputs": [
    {
     "name": "stdout",
     "output_type": "stream",
     "text": [
      "Device : cuda:0\n"
     ]
    }
   ],
   "source": [
    "device = torch.device(\"cuda:0\" if torch.cuda.is_available() else \"cpu\")\n",
    "kwargs = {'num_workers': 2, 'pin_memory': True} if device.type == 'cuda' else {}\n",
    "print('Device : {}'.format( device ) )"
   ]
  },
  {
   "cell_type": "code",
   "execution_count": 8,
   "metadata": {},
   "outputs": [
    {
     "name": "stdout",
     "output_type": "stream",
     "text": [
      "Files already downloaded and verified\n",
      "Files already downloaded and verified\n"
     ]
    }
   ],
   "source": [
    "transform = transforms.Compose(\n",
    "    [transforms.ToTensor(),\n",
    "     transforms.Normalize(mean_imgs, std_imgs)])\n",
    "\n",
    "trainset = torchvision.datasets.CIFAR10(ROOT +  '/data/' + DATASET, train=True,\n",
    "                                        download=True, transform=transform)\n",
    "\n",
    "train_loader = torch.utils.data.DataLoader(trainset, batch_size=mb_size,\n",
    "                                          shuffle=True, num_workers=2)\n",
    "\n",
    "testset = torchvision.datasets.CIFAR10(ROOT +  '/data/' + DATASET, train=False,\n",
    "                                       download=True, transform=transform)\n",
    "test_loader = torch.utils.data.DataLoader(testset, batch_size=mb_size,\n",
    "                                         shuffle=False, num_workers=2)\n",
    "\n",
    "classes = ('plane', 'car', 'bird', 'cat',\n",
    "           'deer', 'dog', 'frog', 'horse', 'ship', 'truck')\n"
   ]
  },
  {
   "cell_type": "code",
   "execution_count": 9,
   "metadata": {},
   "outputs": [
    {
     "name": "stdout",
     "output_type": "stream",
     "text": [
      "Dataset CIFAR10\n",
      "    Number of datapoints: 50000\n",
      "    Split: train\n",
      "    Root Location: /home/ansuini/repos/WellTemperedSGD//data/cifar10\n",
      "    Transforms (if any): Compose(\n",
      "                             ToTensor()\n",
      "                             Normalize(mean=(0.5, 0.5, 0.5), std=(0.5, 0.5, 0.5))\n",
      "                         )\n",
      "    Target Transforms (if any): None\n",
      "Dataset CIFAR10\n",
      "    Number of datapoints: 10000\n",
      "    Split: test\n",
      "    Root Location: /home/ansuini/repos/WellTemperedSGD//data/cifar10\n",
      "    Transforms (if any): Compose(\n",
      "                             ToTensor()\n",
      "                             Normalize(mean=(0.5, 0.5, 0.5), std=(0.5, 0.5, 0.5))\n",
      "                         )\n",
      "    Target Transforms (if any): None\n"
     ]
    }
   ],
   "source": [
    "print(train_loader.dataset)\n",
    "print(test_loader.dataset)"
   ]
  },
  {
   "cell_type": "code",
   "execution_count": 10,
   "metadata": {},
   "outputs": [],
   "source": [
    "def imshow(img):\n",
    "    npimg = img.numpy()    \n",
    "    plt.imshow(np.transpose(npimg, (1, 2, 0)))\n",
    "    plt.xticks([])\n",
    "    plt.yticks([])"
   ]
  },
  {
   "cell_type": "code",
   "execution_count": 11,
   "metadata": {},
   "outputs": [
    {
     "name": "stderr",
     "output_type": "stream",
     "text": [
      "Clipping input data to the valid range for imshow with RGB data ([0..1] for floats or [0..255] for integers).\n"
     ]
    },
    {
     "name": "stdout",
     "output_type": "stream",
     "text": [
      "torch.Size([10, 3, 32, 32])\n"
     ]
    },
    {
     "data": {
      "image/png": "[encoded data removed]",
      "text/plain": [
       "<Figure size 432x288 with 1 Axes>"
      ]
     },
     "metadata": {},
     "output_type": "display_data"
    }
   ],
   "source": [
    "dataiter = iter(train_loader)\n",
    "images, labels = dataiter.next()\n",
    "imshow(torchvision.utils.make_grid(images))\n",
    "print(images.shape)"
   ]
  },
  {
   "cell_type": "markdown",
   "metadata": {},
   "source": [
    "### Check labelling\n",
    "\n",
    "Useful in case of random shuffling of labels"
   ]
  },
  {
   "cell_type": "code",
   "execution_count": 12,
   "metadata": {},
   "outputs": [
    {
     "name": "stderr",
     "output_type": "stream",
     "text": [
      "Clipping input data to the valid range for imshow with RGB data ([0..1] for floats or [0..255] for integers).\n",
      "Clipping input data to the valid range for imshow with RGB data ([0..1] for floats or [0..255] for integers).\n",
      "Clipping input data to the valid range for imshow with RGB data ([0..1] for floats or [0..255] for integers).\n",
      "Clipping input data to the valid range for imshow with RGB data ([0..1] for floats or [0..255] for integers).\n",
      "Clipping input data to the valid range for imshow with RGB data ([0..1] for floats or [0..255] for integers).\n",
      "Clipping input data to the valid range for imshow with RGB data ([0..1] for floats or [0..255] for integers).\n",
      "Clipping input data to the valid range for imshow with RGB data ([0..1] for floats or [0..255] for integers).\n",
      "Clipping input data to the valid range for imshow with RGB data ([0..1] for floats or [0..255] for integers).\n",
      "Clipping input data to the valid range for imshow with RGB data ([0..1] for floats or [0..255] for integers).\n"
     ]
    },
    {
     "data": {
      "image/png": "[encoded data removed]",
      "text/plain": [
       "<Figure size 432x288 with 9 Axes>"
      ]
     },
     "metadata": {},
     "output_type": "display_data"
    }
   ],
   "source": [
    "for i in range(9):\n",
    "    plt.subplot(3,3,i+1)\n",
    "    imshow(images[i,:])\n",
    "    plt.title(classes[labels[i].item()])"
   ]
  },
  {
   "cell_type": "code",
   "execution_count": 13,
   "metadata": {},
   "outputs": [],
   "source": [
    "def get_stats(loader):   \n",
    "    '''\n",
    "    Compute training statistics (loss and accuracy) on loader data\n",
    "    '''\n",
    "    loss = 0.0\n",
    "    correct = 0\n",
    "    total = 0       \n",
    "    with torch.no_grad():\n",
    "        for data in loader:\n",
    "            inputs, labels = data\n",
    "            inputs = inputs.to(device)\n",
    "            labels = labels.to(device)\n",
    "            outputs = model(inputs)\n",
    "            loss += criterion(outputs, labels)\n",
    "            _, predicted = torch.max(outputs.data, 1)\n",
    "            correct += (predicted == labels).sum().item()\n",
    "            total += labels.size(0)\n",
    "        l = loss.to('cpu').item()/total\n",
    "        acc = 100 * correct/total\n",
    "        return [l,acc]"
   ]
  },
  {
   "cell_type": "markdown",
   "metadata": {},
   "source": [
    "# Initialize network, optimizer and loss"
   ]
  },
  {
   "cell_type": "code",
   "execution_count": 14,
   "metadata": {},
   "outputs": [],
   "source": [
    "from cifar10_archs import Net\n",
    "model = Net()\n",
    "model.to(device)\n",
    "criterion = nn.CrossEntropyLoss()\n",
    "optimizer = optim.SGD(model.parameters(), lr=lr, momentum=momentum)"
   ]
  },
  {
   "cell_type": "code",
   "execution_count": 15,
   "metadata": {},
   "outputs": [
    {
     "name": "stdout",
     "output_type": "stream",
     "text": [
      "Net(\n",
      "  (conv1): Conv2d(3, 6, kernel_size=(5, 5), stride=(1, 1))\n",
      "  (pool): MaxPool2d(kernel_size=2, stride=2, padding=0, dilation=1, ceil_mode=False)\n",
      "  (conv2): Conv2d(6, 16, kernel_size=(5, 5), stride=(1, 1))\n",
      "  (fc1): Linear(in_features=400, out_features=120, bias=True)\n",
      "  (fc2): Linear(in_features=120, out_features=84, bias=True)\n",
      "  (fc3): Linear(in_features=84, out_features=10, bias=True)\n",
      ")\n",
      "----------------------------------------------------------------\n",
      "        Layer (type)               Output Shape         Param #\n",
      "================================================================\n",
      "            Conv2d-1            [-1, 6, 28, 28]             456\n",
      "         MaxPool2d-2            [-1, 6, 14, 14]               0\n",
      "            Conv2d-3           [-1, 16, 10, 10]            2416\n",
      "         MaxPool2d-4             [-1, 16, 5, 5]               0\n",
      "            Linear-5                  [-1, 120]           48120\n",
      "            Linear-6                   [-1, 84]           10164\n",
      "            Linear-7                   [-1, 10]             850\n",
      "================================================================\n",
      "Total params: tensor(62006)\n",
      "Trainable params: tensor(62006)\n",
      "Non-trainable params: tensor(0)\n",
      "----------------------------------------------------------------\n",
      "None\n"
     ]
    }
   ],
   "source": [
    "print(model)\n",
    "print( summary(model, imgs_shape) )"
   ]
  },
  {
   "cell_type": "code",
   "execution_count": null,
   "metadata": {},
   "outputs": [
    {
     "name": "stderr",
     "output_type": "stream",
     "text": [
      "  1%|          | 1/100 [00:13<22:21, 13.56s/it]"
     ]
    },
    {
     "name": "stdout",
     "output_type": "stream",
     "text": [
      "Train loss : 0.229675 --- Train acc : 12.612 %\n",
      "Test  loss : 0.229666 --- Test  acc : 12.49 %\n"
     ]
    },
    {
     "name": "stderr",
     "output_type": "stream",
     "text": [
      "  2%|▏         | 2/100 [00:26<21:49, 13.36s/it]"
     ]
    },
    {
     "name": "stdout",
     "output_type": "stream",
     "text": [
      "Train loss : 0.222998 --- Train acc : 17.038 %\n",
      "Test  loss : 0.222942 --- Test  acc : 17.17 %\n"
     ]
    },
    {
     "name": "stderr",
     "output_type": "stream",
     "text": [
      "  3%|▎         | 3/100 [00:40<21:34, 13.35s/it]"
     ]
    },
    {
     "name": "stdout",
     "output_type": "stream",
     "text": [
      "Train loss : 0.199799 --- Train acc : 27.702 %\n",
      "Test  loss : 0.199866 --- Test  acc : 27.61 %\n"
     ]
    },
    {
     "name": "stderr",
     "output_type": "stream",
     "text": [
      "  4%|▍         | 4/100 [00:53<21:27, 13.41s/it]"
     ]
    },
    {
     "name": "stdout",
     "output_type": "stream",
     "text": [
      "Train loss : 0.191787 --- Train acc : 29.492 %\n",
      "Test  loss : 0.191235 --- Test  acc : 30.61 %\n"
     ]
    },
    {
     "name": "stderr",
     "output_type": "stream",
     "text": [
      "  5%|▌         | 5/100 [01:07<21:15, 13.43s/it]"
     ]
    },
    {
     "name": "stdout",
     "output_type": "stream",
     "text": [
      "Train loss : 0.177528 --- Train acc : 35.538 %\n",
      "Test  loss : 0.176931 --- Test  acc : 35.95 %\n"
     ]
    },
    {
     "name": "stderr",
     "output_type": "stream",
     "text": [
      "  6%|▌         | 6/100 [01:20<21:05, 13.47s/it]"
     ]
    },
    {
     "name": "stdout",
     "output_type": "stream",
     "text": [
      "Train loss : 0.17398 --- Train acc : 36.564 %\n",
      "Test  loss : 0.173818 --- Test  acc : 37.23 %\n"
     ]
    },
    {
     "name": "stderr",
     "output_type": "stream",
     "text": [
      "  7%|▋         | 7/100 [01:34<20:51, 13.46s/it]"
     ]
    },
    {
     "name": "stdout",
     "output_type": "stream",
     "text": [
      "Train loss : 0.169415 --- Train acc : 38.028 %\n",
      "Test  loss : 0.168781 --- Test  acc : 38.29 %\n"
     ]
    },
    {
     "name": "stderr",
     "output_type": "stream",
     "text": [
      "  8%|▊         | 8/100 [01:48<20:46, 13.54s/it]"
     ]
    },
    {
     "name": "stdout",
     "output_type": "stream",
     "text": [
      "Train loss : 0.167971 --- Train acc : 39.43 %\n",
      "Test  loss : 0.168019 --- Test  acc : 39.51 %\n"
     ]
    },
    {
     "name": "stderr",
     "output_type": "stream",
     "text": [
      "  9%|▉         | 9/100 [02:01<20:31, 13.53s/it]"
     ]
    },
    {
     "name": "stdout",
     "output_type": "stream",
     "text": [
      "Train loss : 0.161918 --- Train acc : 41.146 %\n",
      "Test  loss : 0.161969 --- Test  acc : 41.21 %\n"
     ]
    },
    {
     "name": "stderr",
     "output_type": "stream",
     "text": [
      " 10%|█         | 10/100 [02:16<20:24, 13.60s/it]"
     ]
    },
    {
     "name": "stdout",
     "output_type": "stream",
     "text": [
      "Train loss : 0.161768 --- Train acc : 41.296 %\n",
      "Test  loss : 0.161771 --- Test  acc : 40.86 %\n"
     ]
    },
    {
     "name": "stderr",
     "output_type": "stream",
     "text": [
      " 11%|█         | 11/100 [02:29<20:10, 13.60s/it]"
     ]
    },
    {
     "name": "stdout",
     "output_type": "stream",
     "text": [
      "Train loss : 0.158469 --- Train acc : 42.802 %\n",
      "Test  loss : 0.158837 --- Test  acc : 42.57 %\n"
     ]
    },
    {
     "name": "stderr",
     "output_type": "stream",
     "text": [
      " 12%|█▏        | 12/100 [02:42<19:54, 13.57s/it]"
     ]
    },
    {
     "name": "stdout",
     "output_type": "stream",
     "text": [
      "Train loss : 0.152256 --- Train acc : 44.426 %\n",
      "Test  loss : 0.152499 --- Test  acc : 44.63 %\n"
     ]
    },
    {
     "name": "stderr",
     "output_type": "stream",
     "text": [
      " 13%|█▎        | 13/100 [02:56<19:41, 13.58s/it]"
     ]
    },
    {
     "name": "stdout",
     "output_type": "stream",
     "text": [
      "Train loss : 0.150862 --- Train acc : 45.302 %\n",
      "Test  loss : 0.151252 --- Test  acc : 45.12 %\n"
     ]
    },
    {
     "name": "stderr",
     "output_type": "stream",
     "text": [
      " 14%|█▍        | 14/100 [03:10<19:30, 13.61s/it]"
     ]
    },
    {
     "name": "stdout",
     "output_type": "stream",
     "text": [
      "Train loss : 0.144757 --- Train acc : 47.602 %\n",
      "Test  loss : 0.145817 --- Test  acc : 47.76 %\n"
     ]
    },
    {
     "name": "stderr",
     "output_type": "stream",
     "text": [
      " 15%|█▌        | 15/100 [03:24<19:18, 13.63s/it]"
     ]
    },
    {
     "name": "stdout",
     "output_type": "stream",
     "text": [
      "Train loss : 0.142489 --- Train acc : 48.612 %\n",
      "Test  loss : 0.143654 --- Test  acc : 48.02 %\n"
     ]
    },
    {
     "name": "stderr",
     "output_type": "stream",
     "text": [
      " 16%|█▌        | 16/100 [03:38<19:07, 13.66s/it]"
     ]
    },
    {
     "name": "stdout",
     "output_type": "stream",
     "text": [
      "Train loss : 0.157784 --- Train acc : 42.912 %\n",
      "Test  loss : 0.159095 --- Test  acc : 42.64 %\n"
     ]
    },
    {
     "name": "stderr",
     "output_type": "stream",
     "text": [
      " 17%|█▋        | 17/100 [03:52<18:54, 13.67s/it]"
     ]
    },
    {
     "name": "stdout",
     "output_type": "stream",
     "text": [
      "Train loss : 0.14 --- Train acc : 49.112 %\n",
      "Test  loss : 0.14153 --- Test  acc : 48.56 %\n"
     ]
    },
    {
     "name": "stderr",
     "output_type": "stream",
     "text": [
      " 18%|█▊        | 18/100 [04:06<18:43, 13.70s/it]"
     ]
    },
    {
     "name": "stdout",
     "output_type": "stream",
     "text": [
      "Train loss : 0.134812 --- Train acc : 51.036 %\n",
      "Test  loss : 0.136975 --- Test  acc : 50.14 %\n"
     ]
    },
    {
     "name": "stderr",
     "output_type": "stream",
     "text": [
      " 19%|█▉        | 19/100 [04:20<18:30, 13.71s/it]"
     ]
    },
    {
     "name": "stdout",
     "output_type": "stream",
     "text": [
      "Train loss : 0.13202 --- Train acc : 52.662 %\n",
      "Test  loss : 0.134568 --- Test  acc : 50.92 %\n"
     ]
    },
    {
     "name": "stderr",
     "output_type": "stream",
     "text": [
      " 20%|██        | 20/100 [04:34<18:18, 13.73s/it]"
     ]
    },
    {
     "name": "stdout",
     "output_type": "stream",
     "text": [
      "Train loss : 0.133025 --- Train acc : 52.8 %\n",
      "Test  loss : 0.135266 --- Test  acc : 51.63 %\n"
     ]
    },
    {
     "name": "stderr",
     "output_type": "stream",
     "text": [
      " 21%|██        | 21/100 [04:48<18:05, 13.74s/it]"
     ]
    },
    {
     "name": "stdout",
     "output_type": "stream",
     "text": [
      "Train loss : 0.128038 --- Train acc : 54.334 %\n",
      "Test  loss : 0.131364 --- Test  acc : 52.7 %\n"
     ]
    },
    {
     "name": "stderr",
     "output_type": "stream",
     "text": [
      " 22%|██▏       | 22/100 [05:02<17:52, 13.75s/it]"
     ]
    },
    {
     "name": "stdout",
     "output_type": "stream",
     "text": [
      "Train loss : 0.130287 --- Train acc : 53.552 %\n",
      "Test  loss : 0.134175 --- Test  acc : 51.68 %\n"
     ]
    },
    {
     "name": "stderr",
     "output_type": "stream",
     "text": [
      " 23%|██▎       | 23/100 [05:16<17:40, 13.77s/it]"
     ]
    },
    {
     "name": "stdout",
     "output_type": "stream",
     "text": [
      "Train loss : 0.124333 --- Train acc : 55.822 %\n",
      "Test  loss : 0.128769 --- Test  acc : 53.88 %\n"
     ]
    },
    {
     "name": "stderr",
     "output_type": "stream",
     "text": [
      " 24%|██▍       | 24/100 [05:30<17:27, 13.79s/it]"
     ]
    },
    {
     "name": "stdout",
     "output_type": "stream",
     "text": [
      "Train loss : 0.126411 --- Train acc : 54.962 %\n",
      "Test  loss : 0.130898 --- Test  acc : 52.96 %\n"
     ]
    }
   ],
   "source": [
    "train_stats = []\n",
    "test_stats  = []\n",
    "fractions   = []\n",
    "params_stats= []\n",
    "grad_stats  = []\n",
    "grad2_stats = []\n",
    "snr_stats   = []\n",
    "\n",
    "for epoch in tqdm(range(epochs)):\n",
    "    \n",
    "    # init to zero accumulators for grad and grad2\n",
    "    grad  = init_grad(model)\n",
    "    grad2 = init_grad(model)  \n",
    "    \n",
    "    count = 0\n",
    "    \n",
    "    for i, data in enumerate(train_loader, 0):\n",
    "                               \n",
    "        # get the inputs and load it on device\n",
    "        inputs, labels = data\n",
    "        inputs = inputs.to(device)\n",
    "        labels = labels.to(device)  \n",
    "       \n",
    "        # zero the parameter gradients\n",
    "        optimizer.zero_grad()\n",
    "        \n",
    "        # forward + backward pass\n",
    "        outputs = model(inputs)\n",
    "        loss = criterion(outputs, labels)        \n",
    "        loss.backward()\n",
    "                \n",
    "        # accumulate grad and grad2\n",
    "        grad  = acc_grad(grad,model)\n",
    "        grad2 = acc_grad2(grad2,model)\n",
    "        \n",
    "        if (i + 1) % n == 0 :\n",
    "            \n",
    "            count += 1\n",
    "            #print('Epoch : {} mini-epoch/tot : {}/{}'.format(epoch, count, n_lb) )\n",
    "            \n",
    "            with torch.no_grad():\n",
    "                \n",
    "                # compute the snr \n",
    "                snr = compute_snr(grad, grad2, n)\n",
    "\n",
    "                # temper the grad with the information on grad2\n",
    "                fr = []\n",
    "                grad_copy = []\n",
    "                                              \n",
    "                for p, g, s in zip(model.parameters(), grad, snr): \n",
    "                    grad_copy.append(p.grad.clone())\n",
    "                    \n",
    "                    # This is the only line where the true gradient is touched\n",
    "                    # it substitute the gradient p.grad (that is the one computed on\n",
    "                    # the last mini-batch, since optimizer.zero_grad() is always called)\n",
    "                    # with the gradient accumulated in acc_grad. This gradient is averaged\n",
    "                    # over the number of mini-batches in a large batch, so it is divided\n",
    "                    # by n.\n",
    "                    \n",
    "                    # If we use the modified SGD, when the signal to noise \n",
    "                    # ratio is > 1 we leave grad untouched, otherwise the gradient is \n",
    "                    # multiplied by the signal to noise ratio value\n",
    "                    \n",
    "                    if MODIFIED_SGD:\n",
    "                        p.grad = torch.where(s > 1, g/n, s * g/n)          \n",
    "                    else:\n",
    "                        p.grad = g/n\n",
    "                        \n",
    "                    fr.append(  ( s < 1).sum().item() / \n",
    "                             torch.prod(torch.tensor( s.size() ) ).item()  )       \n",
    "            fractions.append(fr)        \n",
    "    \n",
    "            # store statistics about params grad, grad2 and snr    \n",
    "            params_stats.append([ [x.mean().item(), x.std().item()]  for x in model.parameters() ] )\n",
    "            grad_stats.append(  [ [x.mean().item(), x.std().item()]  for x in grad] )\n",
    "            grad2_stats.append( [ [x.mean().item(), x.std().item()]  for x in grad2] )\n",
    "            snr_stats.append(   [ [x.mean().item(), x.std().item()]  for x in snr] )\n",
    "        \n",
    "            # this is called after the large batch of n mini-batches\n",
    "            optimizer.step()\n",
    "            \n",
    "            # set to zero accumulators for grad and grad2\n",
    "            grad  = init_grad(model)\n",
    "            grad2 = init_grad(model)\n",
    "            \n",
    "                          \n",
    "    # save model\n",
    "    if SAVE:\n",
    "        #model.save_state_dict(model, os.path.join( RES, 'model_' + str(epoch) + '.pt') )\n",
    "        torch.save(model, os.path.join( RES, 'model_' + str(epoch) + '.pt') )\n",
    "        \n",
    "    # get statistics\n",
    "    train_stats.append(get_stats(train_loader))\n",
    "    test_stats.append(get_stats(test_loader))\n",
    "        \n",
    "    # print statistics\n",
    "    print('Train loss : %g --- Train acc : %g %%' % ( train_stats[-1][0], train_stats[-1][1] )) \n",
    "    print('Test  loss : %g --- Test  acc : %g %%' % ( test_stats[-1][0],  test_stats[-1][1] ))         "
   ]
  },
  {
   "cell_type": "code",
   "execution_count": null,
   "metadata": {},
   "outputs": [],
   "source": [
    "# save loss and accuracies in a dictionary\n",
    "train_stats = np.asarray(train_stats)\n",
    "test_stats  = np.asarray(test_stats)\n",
    "fractions   = np.asarray(fractions)\n",
    "params_stats= np.asarray(params_stats)\n",
    "grad_stats  = np.asarray(grad_stats)\n",
    "grad2_stats = np.asarray(grad2_stats)\n",
    "snr_stats   = np.asarray(snr_stats)\n",
    "\n",
    "tags = ['train_stats', 'test_stats', 'fractions', 'params_stats', 'grad_stats', 'grad2_stats', 'snr_stats' ]\n",
    "vals = [train_stats, test_stats, fractions, params_stats, grad_stats, grad2_stats, snr_stats ]\n",
    "training_data = dict(zip(tags, vals))\n",
    "if SAVE:\n",
    "    file = open( os.path.join( RES, 'training_data.pt') , 'wb' ) \n",
    "    pickle.dump(training_data,file)"
   ]
  },
  {
   "cell_type": "code",
   "execution_count": null,
   "metadata": {},
   "outputs": [],
   "source": [
    "win = 30\n",
    "nchecks = int( np.floor(len(train_loader.dataset)/(mb_size*n) ))\n",
    "layer_names = [m[0] for idx,m in enumerate(model.named_modules()) ]\n",
    "layer_names.remove('')\n",
    "layer_names.remove('pool')\n",
    "print(layer_names)"
   ]
  },
  {
   "cell_type": "code",
   "execution_count": null,
   "metadata": {},
   "outputs": [],
   "source": [
    "def plot_results(figname, train_stats, test_stats, fractions, grad_stats, grad2_stats):\n",
    "\n",
    "    fig = plt.figure(figsize=(20,20))\n",
    "    plt.subplot(4,4,1)\n",
    "    plt.plot(train_stats[:,0],'-',label='training loss')\n",
    "    plt.plot(test_stats[:,0],'-',label='test loss')\n",
    "    plt.xlabel('epoch')\n",
    "    plt.title('loss')\n",
    "    plt.legend()\n",
    "\n",
    "    plt.subplot(4,4,2)\n",
    "    plt.plot(train_stats[:,1],'-',label='training accuracy')\n",
    "    plt.plot(test_stats[:,1],'-',label='test accuracy')\n",
    "    plt.xlabel('epoch')\n",
    "    plt.title('accuracy')\n",
    "    plt.legend()\n",
    "\n",
    "    plt.subplot(4,4,3)\n",
    "    for i in range(len(layer_names)):\n",
    "        plt.plot(np.arange(nchecks*epochs)/nchecks, pd.rolling_mean(fractions[:,i*2], win ),label=layer_names[i] ) \n",
    "    plt.legend()\n",
    "    plt.xlabel('epoch')\n",
    "    plt.title('fraction of $\\eta < 1$')\n",
    "\n",
    "    plt.subplot(4,4,4)\n",
    "    for i in range(len(layer_names)):\n",
    "        plt.plot(np.arange(nchecks*epochs)/nchecks, pd.rolling_mean( grad_stats[:,i*2,0], win ),label=layer_names[i])\n",
    "    plt.legend()\n",
    "    plt.xlabel('epoch')\n",
    "    plt.title('grad mean')\n",
    "\n",
    "    plt.subplot(4,4,5)\n",
    "    for i in range(len(layer_names)):\n",
    "        plt.plot(np.arange(nchecks*epochs)/nchecks, pd.rolling_mean( grad_stats[:,i*2,1], win ),label=layer_names[i])\n",
    "    plt.legend()\n",
    "    plt.xlabel('epoch')\n",
    "    plt.title('grad std')\n",
    "\n",
    "    plt.subplot(4,4,6)\n",
    "    for i in range(len(layer_names)):\n",
    "        plt.plot(np.arange(nchecks*epochs)/nchecks, pd.rolling_mean( grad2_stats[:,i*2,0], win),label=layer_names[i])\n",
    "    plt.legend()\n",
    "    plt.xlabel('epoch')\n",
    "    plt.title('grad2 mean')\n",
    "\n",
    "    plt.subplot(4,4,7)\n",
    "    for i in range(len(layer_names)):\n",
    "        plt.plot(np.arange(nchecks*epochs)/nchecks, pd.rolling_mean( grad2_stats[:,i*2,1], win),label=layer_names[i])\n",
    "    plt.legend()\n",
    "    plt.xlabel('epoch')\n",
    "    plt.title('grad2 std')\n",
    "\n",
    "    plt.subplot(4,4,8)\n",
    "    for i in range(len(layer_names)):\n",
    "        plt.plot(np.arange(nchecks*epochs)/nchecks, pd.rolling_mean( snr_stats[:,i*2,0], win),label=layer_names[i])\n",
    "    plt.legend()\n",
    "    plt.xlabel('epoch')\n",
    "    plt.title('snr mean')\n",
    "\n",
    "    plt.subplot(4,4,9)\n",
    "    for i in range(len(layer_names)):\n",
    "        plt.plot(np.arange(nchecks*epochs)/nchecks, pd.rolling_mean( snr_stats[:,i*2,1], win),label=layer_names[i])\n",
    "    plt.legend()\n",
    "    plt.xlabel('epoch')\n",
    "    plt.title('snr std')\n",
    "\n",
    "    plt.savefig(os.path.join(FIG, figname))\n",
    "    \n",
    "    plt.show()\n"
   ]
  },
  {
   "cell_type": "code",
   "execution_count": null,
   "metadata": {},
   "outputs": [],
   "source": [
    "plot_results(DATASET, train_stats, test_stats, fractions, grad_stats, grad2_stats)"
   ]
  }
 ],
 "metadata": {
  "kernelspec": {
   "display_name": "PyTorch 0.4.0",
   "language": "python",
   "name": "pytorch"
  },
  "language_info": {
   "codemirror_mode": {
    "name": "ipython",
    "version": 3
   },
   "file_extension": ".py",
   "mimetype": "text/x-python",
   "name": "python",
   "nbconvert_exporter": "python",
   "pygments_lexer": "ipython3",
   "version": "3.5.2"
  }
 },
 "nbformat": 4,
 "nbformat_minor": 2
}
