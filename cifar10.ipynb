{
 "cells": [
  {
   "cell_type": "code",
   "execution_count": 1,
   "metadata": {},
   "outputs": [],
   "source": [
    "%reload_ext autoreload\n",
    "%autoreload 2\n",
    "%matplotlib inline"
   ]
  },
  {
   "cell_type": "markdown",
   "metadata": {},
   "source": [
    "# Dataset and Settings"
   ]
  },
  {
   "cell_type": "code",
   "execution_count": 2,
   "metadata": {},
   "outputs": [],
   "source": [
    "MODIFIED_SGD = False\n",
    "SAVE = True"
   ]
  },
  {
   "cell_type": "code",
   "execution_count": 3,
   "metadata": {},
   "outputs": [],
   "source": [
    "DATASET = 'cifar10'\n",
    "if DATASET     == 'cifar10':\n",
    "    Ntr_samples= 50000\n",
    "    mb_size    = 10         # mini-batch size (default : 10)\n",
    "    n          = 10        # number of mini-batches in a large batch\n",
    "    lb_size    = n*mb_size  # large batch size (after this gradient update with modified SGD rule)  \n",
    "    n_lb       = int(Ntr_samples/(lb_size)) # number of large batches in a epoch\n",
    "    epochs     = 100\n",
    "    lr         = 0.1\n",
    "    momentum   = 0.0    \n",
    "    mean_imgs  = (0.5,0.5,0.5)\n",
    "    std_imgs   = (0.5,0.5,0.5)\n",
    "    imgs_shape = (3,32,32)"
   ]
  },
  {
   "cell_type": "code",
   "execution_count": 4,
   "metadata": {},
   "outputs": [],
   "source": [
    "import os\n",
    "ROOT = '/home/ansuini/repos/WellTemperedSGD/'\n",
    "os.chdir(ROOT)"
   ]
  },
  {
   "cell_type": "code",
   "execution_count": 5,
   "metadata": {},
   "outputs": [
    {
     "name": "stdout",
     "output_type": "stream",
     "text": [
      "Creating directory /home/ansuini/repos/WellTemperedSGD/results/cifar10/original/10_10\n",
      "Creating directory /home/ansuini/repos/WellTemperedSGD/figures/cifar10/original/10_10\n"
     ]
    }
   ],
   "source": [
    "if MODIFIED_SGD:\n",
    "    RES = os.path.join(ROOT,'results', DATASET, 'modified', str(mb_size) + '_' + str(n)  )\n",
    "    if not os.path.exists(RES):\n",
    "        print('Creating directory ' + RES)\n",
    "        os.mkdir(RES)\n",
    "        \n",
    "    FIG = os.path.join(ROOT,'figures', DATASET, 'modified', str(mb_size) + '_' + str(n)  )\n",
    "    if not os.path.exists(FIG):\n",
    "        print('Creating directory ' + FIG)\n",
    "        os.mkdir(FIG)\n",
    "else:\n",
    "    RES = os.path.join(ROOT,'results', DATASET,'original', str(mb_size) + '_' + str(n)  )  \n",
    "    if not os.path.exists(RES):\n",
    "        print('Creating directory ' + RES)\n",
    "        os.mkdir(RES)\n",
    "        \n",
    "    FIG = os.path.join(ROOT,'figures', DATASET,'original', str(mb_size) + '_' + str(n)  )\n",
    "    if not os.path.exists(FIG):\n",
    "        print('Creating directory ' + FIG)\n",
    "        os.mkdir(FIG)"
   ]
  },
  {
   "cell_type": "code",
   "execution_count": 6,
   "metadata": {},
   "outputs": [],
   "source": [
    "from __future__ import print_function\n",
    "import argparse\n",
    "import torch\n",
    "import torch.nn as nn\n",
    "import torch.nn.functional as F\n",
    "import torch.optim as optim\n",
    "from torchvision import datasets, transforms\n",
    "from torch.autograd import Variable\n",
    "import torchvision\n",
    "from torchsummary import summary\n",
    "from tqdm import tqdm\n",
    "import pandas as pd\n",
    "from wtsgd import *\n",
    "\n",
    "import pickle\n",
    "from time import time\n",
    "import numpy as np\n",
    "np.seed = 1101\n",
    "from matplotlib import pyplot as plt\n",
    "plt.style.use('ggplot')"
   ]
  },
  {
   "cell_type": "code",
   "execution_count": 7,
   "metadata": {},
   "outputs": [
    {
     "name": "stdout",
     "output_type": "stream",
     "text": [
      "Device : cuda:0\n"
     ]
    }
   ],
   "source": [
    "device = torch.device(\"cuda:0\" if torch.cuda.is_available() else \"cpu\")\n",
    "kwargs = {'num_workers': 2, 'pin_memory': True} if device.type == 'cuda' else {}\n",
    "print('Device : {}'.format( device ) )"
   ]
  },
  {
   "cell_type": "code",
   "execution_count": 8,
   "metadata": {},
   "outputs": [
    {
     "name": "stdout",
     "output_type": "stream",
     "text": [
      "Files already downloaded and verified\n",
      "Files already downloaded and verified\n"
     ]
    }
   ],
   "source": [
    "transform = transforms.Compose(\n",
    "    [transforms.ToTensor(),\n",
    "     transforms.Normalize(mean_imgs, std_imgs)])\n",
    "\n",
    "trainset = torchvision.datasets.CIFAR10(ROOT +  '/data/' + DATASET, train=True,\n",
    "                                        download=True, transform=transform)\n",
    "\n",
    "train_loader = torch.utils.data.DataLoader(trainset, batch_size=mb_size,\n",
    "                                          shuffle=True, num_workers=2)\n",
    "\n",
    "testset = torchvision.datasets.CIFAR10(ROOT +  '/data/' + DATASET, train=False,\n",
    "                                       download=True, transform=transform)\n",
    "test_loader = torch.utils.data.DataLoader(testset, batch_size=mb_size,\n",
    "                                         shuffle=False, num_workers=2)\n",
    "\n",
    "classes = ('plane', 'car', 'bird', 'cat',\n",
    "           'deer', 'dog', 'frog', 'horse', 'ship', 'truck')\n"
   ]
  },
  {
   "cell_type": "code",
   "execution_count": 9,
   "metadata": {},
   "outputs": [
    {
     "name": "stdout",
     "output_type": "stream",
     "text": [
      "Dataset CIFAR10\n",
      "    Number of datapoints: 50000\n",
      "    Split: train\n",
      "    Root Location: /home/ansuini/repos/WellTemperedSGD//data/cifar10\n",
      "    Transforms (if any): Compose(\n",
      "                             ToTensor()\n",
      "                             Normalize(mean=(0.5, 0.5, 0.5), std=(0.5, 0.5, 0.5))\n",
      "                         )\n",
      "    Target Transforms (if any): None\n",
      "Dataset CIFAR10\n",
      "    Number of datapoints: 10000\n",
      "    Split: test\n",
      "    Root Location: /home/ansuini/repos/WellTemperedSGD//data/cifar10\n",
      "    Transforms (if any): Compose(\n",
      "                             ToTensor()\n",
      "                             Normalize(mean=(0.5, 0.5, 0.5), std=(0.5, 0.5, 0.5))\n",
      "                         )\n",
      "    Target Transforms (if any): None\n"
     ]
    }
   ],
   "source": [
    "print(train_loader.dataset)\n",
    "print(test_loader.dataset)"
   ]
  },
  {
   "cell_type": "code",
   "execution_count": 10,
   "metadata": {},
   "outputs": [],
   "source": [
    "def imshow(img):\n",
    "    npimg = img.numpy()    \n",
    "    plt.imshow(np.transpose(npimg, (1, 2, 0)))\n",
    "    plt.xticks([])\n",
    "    plt.yticks([])"
   ]
  },
  {
   "cell_type": "code",
   "execution_count": 11,
   "metadata": {},
   "outputs": [
    {
     "name": "stderr",
     "output_type": "stream",
     "text": [
      "Clipping input data to the valid range for imshow with RGB data ([0..1] for floats or [0..255] for integers).\n"
     ]
    },
    {
     "name": "stdout",
     "output_type": "stream",
     "text": [
      "torch.Size([10, 3, 32, 32])\n"
     ]
    },
    {
     "data": {
      "image/png": "[encoded data removed]",
      "text/plain": [
       "<Figure size 432x288 with 1 Axes>"
      ]
     },
     "metadata": {},
     "output_type": "display_data"
    }
   ],
   "source": [
    "dataiter = iter(train_loader)\n",
    "images, labels = dataiter.next()\n",
    "imshow(torchvision.utils.make_grid(images))\n",
    "print(images.shape)"
   ]
  },
  {
   "cell_type": "markdown",
   "metadata": {},
   "source": [
    "### Check labelling\n",
    "\n",
    "Useful in case of random shuffling of labels"
   ]
  },
  {
   "cell_type": "code",
   "execution_count": 12,
   "metadata": {},
   "outputs": [
    {
     "name": "stderr",
     "output_type": "stream",
     "text": [
      "Clipping input data to the valid range for imshow with RGB data ([0..1] for floats or [0..255] for integers).\n",
      "Clipping input data to the valid range for imshow with RGB data ([0..1] for floats or [0..255] for integers).\n",
      "Clipping input data to the valid range for imshow with RGB data ([0..1] for floats or [0..255] for integers).\n",
      "Clipping input data to the valid range for imshow with RGB data ([0..1] for floats or [0..255] for integers).\n",
      "Clipping input data to the valid range for imshow with RGB data ([0..1] for floats or [0..255] for integers).\n",
      "Clipping input data to the valid range for imshow with RGB data ([0..1] for floats or [0..255] for integers).\n",
      "Clipping input data to the valid range for imshow with RGB data ([0..1] for floats or [0..255] for integers).\n",
      "Clipping input data to the valid range for imshow with RGB data ([0..1] for floats or [0..255] for integers).\n",
      "Clipping input data to the valid range for imshow with RGB data ([0..1] for floats or [0..255] for integers).\n"
     ]
    },
    {
     "data": {
      "image/png": "[encoded data removed]",
      "text/plain": [
       "<Figure size 432x288 with 9 Axes>"
      ]
     },
     "metadata": {},
     "output_type": "display_data"
    }
   ],
   "source": [
    "for i in range(9):\n",
    "    plt.subplot(3,3,i+1)\n",
    "    imshow(images[i,:])\n",
    "    plt.title(classes[labels[i].item()])"
   ]
  },
  {
   "cell_type": "code",
   "execution_count": 13,
   "metadata": {},
   "outputs": [],
   "source": [
    "def get_stats(loader):   \n",
    "    '''\n",
    "    Compute training statistics (loss and accuracy) on loader data\n",
    "    '''\n",
    "    loss = 0.0\n",
    "    correct = 0\n",
    "    total = 0       \n",
    "    with torch.no_grad():\n",
    "        for data in loader:\n",
    "            inputs, labels = data\n",
    "            inputs = inputs.to(device)\n",
    "            labels = labels.to(device)\n",
    "            outputs = model(inputs)\n",
    "            loss += criterion(outputs, labels)\n",
    "            _, predicted = torch.max(outputs.data, 1)\n",
    "            correct += (predicted == labels).sum().item()\n",
    "            total += labels.size(0)\n",
    "        l = loss.to('cpu').item()/total\n",
    "        acc = 100 * correct/total\n",
    "        return [l,acc]"
   ]
  },
  {
   "cell_type": "markdown",
   "metadata": {},
   "source": [
    "# Initialize network, optimizer and loss"
   ]
  },
  {
   "cell_type": "code",
   "execution_count": 14,
   "metadata": {},
   "outputs": [],
   "source": [
    "from cifar10_archs import Net\n",
    "model = Net()\n",
    "model.to(device)\n",
    "criterion = nn.CrossEntropyLoss()\n",
    "optimizer = optim.SGD(model.parameters(), lr=lr, momentum=momentum)"
   ]
  },
  {
   "cell_type": "code",
   "execution_count": 15,
   "metadata": {},
   "outputs": [
    {
     "name": "stdout",
     "output_type": "stream",
     "text": [
      "Net(\n",
      "  (conv1): Conv2d(3, 6, kernel_size=(5, 5), stride=(1, 1))\n",
      "  (pool): MaxPool2d(kernel_size=2, stride=2, padding=0, dilation=1, ceil_mode=False)\n",
      "  (conv2): Conv2d(6, 16, kernel_size=(5, 5), stride=(1, 1))\n",
      "  (fc1): Linear(in_features=400, out_features=120, bias=True)\n",
      "  (fc2): Linear(in_features=120, out_features=84, bias=True)\n",
      "  (fc3): Linear(in_features=84, out_features=10, bias=True)\n",
      ")\n",
      "----------------------------------------------------------------\n",
      "        Layer (type)               Output Shape         Param #\n",
      "================================================================\n",
      "            Conv2d-1            [-1, 6, 28, 28]             456\n",
      "         MaxPool2d-2            [-1, 6, 14, 14]               0\n",
      "            Conv2d-3           [-1, 16, 10, 10]            2416\n",
      "         MaxPool2d-4             [-1, 16, 5, 5]               0\n",
      "            Linear-5                  [-1, 120]           48120\n",
      "            Linear-6                   [-1, 84]           10164\n",
      "            Linear-7                   [-1, 10]             850\n",
      "================================================================\n",
      "Total params: tensor(62006)\n",
      "Trainable params: tensor(62006)\n",
      "Non-trainable params: tensor(0)\n",
      "----------------------------------------------------------------\n",
      "None\n"
     ]
    }
   ],
   "source": [
    "print(model)\n",
    "print( summary(model, imgs_shape) )"
   ]
  },
  {
   "cell_type": "code",
   "execution_count": 16,
   "metadata": {},
   "outputs": [
    {
     "name": "stderr",
     "output_type": "stream",
     "text": [
      "  1%|          | 1/100 [00:24<39:37, 24.02s/it]"
     ]
    },
    {
     "name": "stdout",
     "output_type": "stream",
     "text": [
      "Train loss : 0.176892 --- Train acc : 35.89 %\n",
      "Test  loss : 0.177182 --- Test  acc : 35.83 %\n"
     ]
    },
    {
     "name": "stderr",
     "output_type": "stream",
     "text": [
      "  2%|▏         | 2/100 [00:47<38:30, 23.58s/it]"
     ]
    },
    {
     "name": "stdout",
     "output_type": "stream",
     "text": [
      "Train loss : 0.137147 --- Train acc : 50.432 %\n",
      "Test  loss : 0.139026 --- Test  acc : 49.85 %\n"
     ]
    },
    {
     "name": "stderr",
     "output_type": "stream",
     "text": [
      "  3%|▎         | 3/100 [01:10<37:58, 23.49s/it]"
     ]
    },
    {
     "name": "stdout",
     "output_type": "stream",
     "text": [
      "Train loss : 0.125398 --- Train acc : 55.012 %\n",
      "Test  loss : 0.130364 --- Test  acc : 53.71 %\n"
     ]
    },
    {
     "name": "stderr",
     "output_type": "stream",
     "text": [
      "  4%|▍         | 4/100 [01:34<37:42, 23.57s/it]"
     ]
    },
    {
     "name": "stdout",
     "output_type": "stream",
     "text": [
      "Train loss : 0.114035 --- Train acc : 59.304 %\n",
      "Test  loss : 0.120946 --- Test  acc : 56.67 %\n"
     ]
    },
    {
     "name": "stderr",
     "output_type": "stream",
     "text": [
      "  5%|▌         | 5/100 [01:58<37:22, 23.60s/it]"
     ]
    },
    {
     "name": "stdout",
     "output_type": "stream",
     "text": [
      "Train loss : 0.107505 --- Train acc : 61.548 %\n",
      "Test  loss : 0.117554 --- Test  acc : 57.86 %\n"
     ]
    },
    {
     "name": "stderr",
     "output_type": "stream",
     "text": [
      "  6%|▌         | 6/100 [02:21<36:54, 23.56s/it]"
     ]
    },
    {
     "name": "stdout",
     "output_type": "stream",
     "text": [
      "Train loss : 0.0999121 --- Train acc : 65.022 %\n",
      "Test  loss : 0.112294 --- Test  acc : 60.3 %\n"
     ]
    },
    {
     "name": "stderr",
     "output_type": "stream",
     "text": [
      "  7%|▋         | 7/100 [02:46<36:46, 23.73s/it]"
     ]
    },
    {
     "name": "stdout",
     "output_type": "stream",
     "text": [
      "Train loss : 0.0944102 --- Train acc : 66.802 %\n",
      "Test  loss : 0.110344 --- Test  acc : 60.93 %\n"
     ]
    },
    {
     "name": "stderr",
     "output_type": "stream",
     "text": [
      "  8%|▊         | 8/100 [03:09<36:21, 23.71s/it]"
     ]
    },
    {
     "name": "stdout",
     "output_type": "stream",
     "text": [
      "Train loss : 0.0934228 --- Train acc : 67.05 %\n",
      "Test  loss : 0.112895 --- Test  acc : 60.54 %\n"
     ]
    },
    {
     "name": "stderr",
     "output_type": "stream",
     "text": [
      "  9%|▉         | 9/100 [03:34<36:08, 23.83s/it]"
     ]
    },
    {
     "name": "stdout",
     "output_type": "stream",
     "text": [
      "Train loss : 0.0862846 --- Train acc : 69.5 %\n",
      "Test  loss : 0.108641 --- Test  acc : 61.91 %\n"
     ]
    },
    {
     "name": "stderr",
     "output_type": "stream",
     "text": [
      " 10%|█         | 10/100 [03:59<35:56, 23.96s/it]"
     ]
    },
    {
     "name": "stdout",
     "output_type": "stream",
     "text": [
      "Train loss : 0.0855295 --- Train acc : 69.394 %\n",
      "Test  loss : 0.111304 --- Test  acc : 61.02 %\n"
     ]
    },
    {
     "name": "stderr",
     "output_type": "stream",
     "text": [
      " 11%|█         | 11/100 [04:24<35:36, 24.01s/it]"
     ]
    },
    {
     "name": "stdout",
     "output_type": "stream",
     "text": [
      "Train loss : 0.0782525 --- Train acc : 72.3 %\n",
      "Test  loss : 0.108229 --- Test  acc : 62.57 %\n"
     ]
    },
    {
     "name": "stderr",
     "output_type": "stream",
     "text": [
      " 12%|█▏        | 12/100 [04:48<35:16, 24.05s/it]"
     ]
    },
    {
     "name": "stdout",
     "output_type": "stream",
     "text": [
      "Train loss : 0.0740363 --- Train acc : 74.24 %\n",
      "Test  loss : 0.107487 --- Test  acc : 62.17 %\n"
     ]
    },
    {
     "name": "stderr",
     "output_type": "stream",
     "text": [
      " 13%|█▎        | 13/100 [05:13<34:57, 24.11s/it]"
     ]
    },
    {
     "name": "stdout",
     "output_type": "stream",
     "text": [
      "Train loss : 0.07333 --- Train acc : 73.99 %\n",
      "Test  loss : 0.111161 --- Test  acc : 62.18 %\n"
     ]
    },
    {
     "name": "stderr",
     "output_type": "stream",
     "text": [
      " 14%|█▍        | 14/100 [05:37<34:31, 24.09s/it]"
     ]
    },
    {
     "name": "stdout",
     "output_type": "stream",
     "text": [
      "Train loss : 0.0677402 --- Train acc : 76.304 %\n",
      "Test  loss : 0.11071 --- Test  acc : 62.75 %\n"
     ]
    },
    {
     "name": "stderr",
     "output_type": "stream",
     "text": [
      " 15%|█▌        | 15/100 [06:01<34:09, 24.12s/it]"
     ]
    },
    {
     "name": "stdout",
     "output_type": "stream",
     "text": [
      "Train loss : 0.0713914 --- Train acc : 74.69 %\n",
      "Test  loss : 0.118071 --- Test  acc : 61.64 %\n"
     ]
    },
    {
     "name": "stderr",
     "output_type": "stream",
     "text": [
      " 16%|█▌        | 16/100 [06:26<33:50, 24.17s/it]"
     ]
    },
    {
     "name": "stdout",
     "output_type": "stream",
     "text": [
      "Train loss : 0.0654678 --- Train acc : 77.064 %\n",
      "Test  loss : 0.113615 --- Test  acc : 62.35 %\n"
     ]
    },
    {
     "name": "stderr",
     "output_type": "stream",
     "text": [
      " 17%|█▋        | 17/100 [06:50<33:25, 24.17s/it]"
     ]
    },
    {
     "name": "stdout",
     "output_type": "stream",
     "text": [
      "Train loss : 0.0590356 --- Train acc : 79.128 %\n",
      "Test  loss : 0.116549 --- Test  acc : 63.14 %\n"
     ]
    },
    {
     "name": "stderr",
     "output_type": "stream",
     "text": [
      " 18%|█▊        | 18/100 [07:15<33:01, 24.17s/it]"
     ]
    },
    {
     "name": "stdout",
     "output_type": "stream",
     "text": [
      "Train loss : 0.061121 --- Train acc : 78.166 %\n",
      "Test  loss : 0.122473 --- Test  acc : 62.19 %\n"
     ]
    },
    {
     "name": "stderr",
     "output_type": "stream",
     "text": [
      " 19%|█▉        | 19/100 [07:39<32:40, 24.21s/it]"
     ]
    },
    {
     "name": "stdout",
     "output_type": "stream",
     "text": [
      "Train loss : 0.0552207 --- Train acc : 80.708 %\n",
      "Test  loss : 0.119467 --- Test  acc : 62.17 %\n"
     ]
    },
    {
     "name": "stderr",
     "output_type": "stream",
     "text": [
      " 20%|██        | 20/100 [08:04<32:18, 24.23s/it]"
     ]
    },
    {
     "name": "stdout",
     "output_type": "stream",
     "text": [
      "Train loss : 0.0522519 --- Train acc : 81.754 %\n",
      "Test  loss : 0.120996 --- Test  acc : 62.35 %\n"
     ]
    },
    {
     "name": "stderr",
     "output_type": "stream",
     "text": [
      " 21%|██        | 21/100 [08:29<31:56, 24.27s/it]"
     ]
    },
    {
     "name": "stdout",
     "output_type": "stream",
     "text": [
      "Train loss : 0.0515793 --- Train acc : 81.796 %\n",
      "Test  loss : 0.124458 --- Test  acc : 61.39 %\n"
     ]
    },
    {
     "name": "stderr",
     "output_type": "stream",
     "text": [
      " 22%|██▏       | 22/100 [08:53<31:33, 24.27s/it]"
     ]
    },
    {
     "name": "stdout",
     "output_type": "stream",
     "text": [
      "Train loss : 0.0486348 --- Train acc : 82.63 %\n",
      "Test  loss : 0.130472 --- Test  acc : 61.97 %\n"
     ]
    },
    {
     "name": "stderr",
     "output_type": "stream",
     "text": [
      " 23%|██▎       | 23/100 [09:19<31:12, 24.32s/it]"
     ]
    },
    {
     "name": "stdout",
     "output_type": "stream",
     "text": [
      "Train loss : 0.0475839 --- Train acc : 83.088 %\n",
      "Test  loss : 0.134516 --- Test  acc : 61.53 %\n"
     ]
    },
    {
     "name": "stderr",
     "output_type": "stream",
     "text": [
      " 24%|██▍       | 24/100 [09:44<30:50, 24.34s/it]"
     ]
    },
    {
     "name": "stdout",
     "output_type": "stream",
     "text": [
      "Train loss : 0.0447052 --- Train acc : 84.32 %\n",
      "Test  loss : 0.136584 --- Test  acc : 61.97 %\n"
     ]
    },
    {
     "name": "stderr",
     "output_type": "stream",
     "text": [
      " 25%|██▌       | 25/100 [10:08<30:26, 24.35s/it]"
     ]
    },
    {
     "name": "stdout",
     "output_type": "stream",
     "text": [
      "Train loss : 0.0430257 --- Train acc : 84.826 %\n",
      "Test  loss : 0.135241 --- Test  acc : 61.61 %\n"
     ]
    },
    {
     "name": "stderr",
     "output_type": "stream",
     "text": [
      " 26%|██▌       | 26/100 [10:34<30:04, 24.39s/it]"
     ]
    },
    {
     "name": "stdout",
     "output_type": "stream",
     "text": [
      "Train loss : 0.0478832 --- Train acc : 82.626 %\n",
      "Test  loss : 0.145712 --- Test  acc : 60.55 %\n"
     ]
    },
    {
     "name": "stderr",
     "output_type": "stream",
     "text": [
      " 27%|██▋       | 27/100 [10:57<29:38, 24.36s/it]"
     ]
    },
    {
     "name": "stdout",
     "output_type": "stream",
     "text": [
      "Train loss : 0.0427209 --- Train acc : 84.686 %\n",
      "Test  loss : 0.147524 --- Test  acc : 61.85 %\n"
     ]
    },
    {
     "name": "stderr",
     "output_type": "stream",
     "text": [
      " 28%|██▊       | 28/100 [11:22<29:15, 24.38s/it]"
     ]
    },
    {
     "name": "stdout",
     "output_type": "stream",
     "text": [
      "Train loss : 0.0423232 --- Train acc : 84.766 %\n",
      "Test  loss : 0.154831 --- Test  acc : 60.47 %\n"
     ]
    },
    {
     "name": "stderr",
     "output_type": "stream",
     "text": [
      " 29%|██▉       | 29/100 [11:46<28:50, 24.37s/it]"
     ]
    },
    {
     "name": "stdout",
     "output_type": "stream",
     "text": [
      "Train loss : 0.045961 --- Train acc : 83.334 %\n",
      "Test  loss : 0.157823 --- Test  acc : 60.19 %\n"
     ]
    },
    {
     "name": "stderr",
     "output_type": "stream",
     "text": [
      " 30%|███       | 30/100 [12:11<28:26, 24.37s/it]"
     ]
    },
    {
     "name": "stdout",
     "output_type": "stream",
     "text": [
      "Train loss : 0.0364286 --- Train acc : 87.11 %\n",
      "Test  loss : 0.158527 --- Test  acc : 60.49 %\n"
     ]
    },
    {
     "name": "stderr",
     "output_type": "stream",
     "text": [
      " 31%|███       | 31/100 [12:36<28:03, 24.39s/it]"
     ]
    },
    {
     "name": "stdout",
     "output_type": "stream",
     "text": [
      "Train loss : 0.0366387 --- Train acc : 86.898 %\n",
      "Test  loss : 0.160991 --- Test  acc : 60.68 %\n"
     ]
    },
    {
     "name": "stderr",
     "output_type": "stream",
     "text": [
      " 32%|███▏      | 32/100 [13:00<27:38, 24.39s/it]"
     ]
    },
    {
     "name": "stdout",
     "output_type": "stream",
     "text": [
      "Train loss : 0.0419619 --- Train acc : 85.08 %\n",
      "Test  loss : 0.172278 --- Test  acc : 59.94 %\n"
     ]
    },
    {
     "name": "stderr",
     "output_type": "stream",
     "text": [
      " 33%|███▎      | 33/100 [13:24<27:13, 24.38s/it]"
     ]
    },
    {
     "name": "stdout",
     "output_type": "stream",
     "text": [
      "Train loss : 0.034607 --- Train acc : 87.888 %\n",
      "Test  loss : 0.164244 --- Test  acc : 59.72 %\n"
     ]
    },
    {
     "name": "stderr",
     "output_type": "stream",
     "text": [
      " 34%|███▍      | 34/100 [13:49<26:50, 24.40s/it]"
     ]
    },
    {
     "name": "stdout",
     "output_type": "stream",
     "text": [
      "Train loss : 0.0362903 --- Train acc : 87.094 %\n",
      "Test  loss : 0.173804 --- Test  acc : 59.92 %\n"
     ]
    },
    {
     "name": "stderr",
     "output_type": "stream",
     "text": [
      " 35%|███▌      | 35/100 [14:14<26:26, 24.41s/it]"
     ]
    },
    {
     "name": "stdout",
     "output_type": "stream",
     "text": [
      "Train loss : 0.0397282 --- Train acc : 85.714 %\n",
      "Test  loss : 0.171651 --- Test  acc : 58.99 %\n"
     ]
    },
    {
     "name": "stderr",
     "output_type": "stream",
     "text": [
      " 36%|███▌      | 36/100 [14:38<26:02, 24.42s/it]"
     ]
    },
    {
     "name": "stdout",
     "output_type": "stream",
     "text": [
      "Train loss : 0.0374409 --- Train acc : 86.734 %\n",
      "Test  loss : 0.17394 --- Test  acc : 59.61 %\n"
     ]
    },
    {
     "name": "stderr",
     "output_type": "stream",
     "text": [
      " 37%|███▋      | 37/100 [15:03<25:38, 24.42s/it]"
     ]
    },
    {
     "name": "stdout",
     "output_type": "stream",
     "text": [
      "Train loss : 0.0326152 --- Train acc : 88.394 %\n",
      "Test  loss : 0.175114 --- Test  acc : 60.27 %\n"
     ]
    },
    {
     "name": "stderr",
     "output_type": "stream",
     "text": [
      " 38%|███▊      | 38/100 [15:27<25:14, 24.42s/it]"
     ]
    },
    {
     "name": "stdout",
     "output_type": "stream",
     "text": [
      "Train loss : 0.0400771 --- Train acc : 85.49 %\n",
      "Test  loss : 0.18369 --- Test  acc : 59.13 %\n"
     ]
    },
    {
     "name": "stderr",
     "output_type": "stream",
     "text": [
      " 39%|███▉      | 39/100 [15:52<24:49, 24.41s/it]"
     ]
    },
    {
     "name": "stdout",
     "output_type": "stream",
     "text": [
      "Train loss : 0.0304454 --- Train acc : 88.964 %\n",
      "Test  loss : 0.189068 --- Test  acc : 59.54 %\n"
     ]
    },
    {
     "name": "stderr",
     "output_type": "stream",
     "text": [
      " 40%|████      | 40/100 [16:16<24:25, 24.42s/it]"
     ]
    },
    {
     "name": "stdout",
     "output_type": "stream",
     "text": [
      "Train loss : 0.0341924 --- Train acc : 87.65 %\n",
      "Test  loss : 0.195986 --- Test  acc : 59.66 %\n"
     ]
    },
    {
     "name": "stderr",
     "output_type": "stream",
     "text": [
      " 41%|████      | 41/100 [16:41<24:00, 24.42s/it]"
     ]
    },
    {
     "name": "stdout",
     "output_type": "stream",
     "text": [
      "Train loss : 0.0306467 --- Train acc : 88.968 %\n",
      "Test  loss : 0.192062 --- Test  acc : 59.93 %\n"
     ]
    },
    {
     "name": "stderr",
     "output_type": "stream",
     "text": [
      " 42%|████▏     | 42/100 [17:06<23:36, 24.43s/it]"
     ]
    },
    {
     "name": "stdout",
     "output_type": "stream",
     "text": [
      "Train loss : 0.0315664 --- Train acc : 88.544 %\n",
      "Test  loss : 0.197336 --- Test  acc : 59.36 %\n"
     ]
    },
    {
     "name": "stderr",
     "output_type": "stream",
     "text": [
      " 43%|████▎     | 43/100 [17:29<23:11, 24.42s/it]"
     ]
    },
    {
     "name": "stdout",
     "output_type": "stream",
     "text": [
      "Train loss : 0.0318471 --- Train acc : 88.56 %\n",
      "Test  loss : 0.204172 --- Test  acc : 59.01 %\n"
     ]
    },
    {
     "name": "stderr",
     "output_type": "stream",
     "text": [
      " 44%|████▍     | 44/100 [17:54<22:47, 24.43s/it]"
     ]
    },
    {
     "name": "stdout",
     "output_type": "stream",
     "text": [
      "Train loss : 0.029643 --- Train acc : 89.398 %\n",
      "Test  loss : 0.203243 --- Test  acc : 59.16 %\n"
     ]
    },
    {
     "name": "stderr",
     "output_type": "stream",
     "text": [
      " 45%|████▌     | 45/100 [18:18<22:22, 24.41s/it]"
     ]
    },
    {
     "name": "stdout",
     "output_type": "stream",
     "text": [
      "Train loss : 0.0404855 --- Train acc : 85.768 %\n",
      "Test  loss : 0.211716 --- Test  acc : 58.79 %\n"
     ]
    },
    {
     "name": "stderr",
     "output_type": "stream",
     "text": [
      " 46%|████▌     | 46/100 [18:43<21:59, 24.43s/it]"
     ]
    },
    {
     "name": "stdout",
     "output_type": "stream",
     "text": [
      "Train loss : 0.0267113 --- Train acc : 90.432 %\n",
      "Test  loss : 0.202385 --- Test  acc : 59.66 %\n"
     ]
    },
    {
     "name": "stderr",
     "output_type": "stream",
     "text": [
      " 47%|████▋     | 47/100 [19:08<21:35, 24.44s/it]"
     ]
    },
    {
     "name": "stdout",
     "output_type": "stream",
     "text": [
      "Train loss : 0.0337375 --- Train acc : 87.88 %\n",
      "Test  loss : 0.214532 --- Test  acc : 58.57 %\n"
     ]
    },
    {
     "name": "stderr",
     "output_type": "stream",
     "text": [
      " 48%|████▊     | 48/100 [19:32<21:09, 24.42s/it]"
     ]
    },
    {
     "name": "stdout",
     "output_type": "stream",
     "text": [
      "Train loss : 0.0362164 --- Train acc : 87.124 %\n",
      "Test  loss : 0.226803 --- Test  acc : 57.8 %\n"
     ]
    },
    {
     "name": "stderr",
     "output_type": "stream",
     "text": [
      " 49%|████▉     | 49/100 [19:56<20:45, 24.43s/it]"
     ]
    },
    {
     "name": "stdout",
     "output_type": "stream",
     "text": [
      "Train loss : 0.028695 --- Train acc : 89.59 %\n",
      "Test  loss : 0.214503 --- Test  acc : 59.43 %\n"
     ]
    },
    {
     "name": "stderr",
     "output_type": "stream",
     "text": [
      " 50%|█████     | 50/100 [20:21<20:21, 24.42s/it]"
     ]
    },
    {
     "name": "stdout",
     "output_type": "stream",
     "text": [
      "Train loss : 0.0283213 --- Train acc : 89.878 %\n",
      "Test  loss : 0.215282 --- Test  acc : 58.75 %\n"
     ]
    },
    {
     "name": "stderr",
     "output_type": "stream",
     "text": [
      " 51%|█████     | 51/100 [20:47<19:58, 24.47s/it]"
     ]
    },
    {
     "name": "stdout",
     "output_type": "stream",
     "text": [
      "Train loss : 0.02825 --- Train acc : 89.964 %\n",
      "Test  loss : 0.222763 --- Test  acc : 58.55 %\n"
     ]
    },
    {
     "name": "stderr",
     "output_type": "stream",
     "text": [
      " 52%|█████▏    | 52/100 [21:13<19:35, 24.49s/it]"
     ]
    },
    {
     "name": "stdout",
     "output_type": "stream",
     "text": [
      "Train loss : 0.0317901 --- Train acc : 88.416 %\n",
      "Test  loss : 0.218568 --- Test  acc : 58.21 %\n"
     ]
    },
    {
     "name": "stderr",
     "output_type": "stream",
     "text": [
      " 53%|█████▎    | 53/100 [21:37<19:10, 24.48s/it]"
     ]
    },
    {
     "name": "stdout",
     "output_type": "stream",
     "text": [
      "Train loss : 0.0272597 --- Train acc : 90.288 %\n",
      "Test  loss : 0.222484 --- Test  acc : 59.45 %\n"
     ]
    },
    {
     "name": "stderr",
     "output_type": "stream",
     "text": [
      " 54%|█████▍    | 54/100 [22:02<18:46, 24.50s/it]"
     ]
    },
    {
     "name": "stdout",
     "output_type": "stream",
     "text": [
      "Train loss : 0.0298759 --- Train acc : 89.26 %\n",
      "Test  loss : 0.224496 --- Test  acc : 58.51 %\n"
     ]
    },
    {
     "name": "stderr",
     "output_type": "stream",
     "text": [
      " 55%|█████▌    | 55/100 [22:27<18:22, 24.49s/it]"
     ]
    },
    {
     "name": "stdout",
     "output_type": "stream",
     "text": [
      "Train loss : 0.0316701 --- Train acc : 88.716 %\n",
      "Test  loss : 0.233839 --- Test  acc : 58.71 %\n"
     ]
    },
    {
     "name": "stderr",
     "output_type": "stream",
     "text": [
      " 56%|█████▌    | 56/100 [22:51<17:57, 24.49s/it]"
     ]
    },
    {
     "name": "stdout",
     "output_type": "stream",
     "text": [
      "Train loss : 0.0252281 --- Train acc : 91.006 %\n",
      "Test  loss : 0.229317 --- Test  acc : 58.52 %\n"
     ]
    },
    {
     "name": "stderr",
     "output_type": "stream",
     "text": [
      " 57%|█████▋    | 57/100 [23:16<17:33, 24.50s/it]"
     ]
    },
    {
     "name": "stdout",
     "output_type": "stream",
     "text": [
      "Train loss : 0.0306126 --- Train acc : 89.232 %\n",
      "Test  loss : 0.247271 --- Test  acc : 57.69 %\n"
     ]
    },
    {
     "name": "stderr",
     "output_type": "stream",
     "text": [
      " 58%|█████▊    | 58/100 [23:41<17:09, 24.50s/it]"
     ]
    },
    {
     "name": "stdout",
     "output_type": "stream",
     "text": [
      "Train loss : 0.0301875 --- Train acc : 89.18 %\n",
      "Test  loss : 0.238147 --- Test  acc : 58.88 %\n"
     ]
    },
    {
     "name": "stderr",
     "output_type": "stream",
     "text": [
      " 59%|█████▉    | 59/100 [24:06<16:44, 24.51s/it]"
     ]
    },
    {
     "name": "stdout",
     "output_type": "stream",
     "text": [
      "Train loss : 0.0229813 --- Train acc : 91.804 %\n",
      "Test  loss : 0.248236 --- Test  acc : 59.63 %\n"
     ]
    },
    {
     "name": "stderr",
     "output_type": "stream",
     "text": [
      " 60%|██████    | 60/100 [24:30<16:20, 24.50s/it]"
     ]
    },
    {
     "name": "stdout",
     "output_type": "stream",
     "text": [
      "Train loss : 0.0322034 --- Train acc : 88.65 %\n",
      "Test  loss : 0.243154 --- Test  acc : 58.6 %\n"
     ]
    },
    {
     "name": "stderr",
     "output_type": "stream",
     "text": [
      " 61%|██████    | 61/100 [24:55<15:56, 24.51s/it]"
     ]
    },
    {
     "name": "stdout",
     "output_type": "stream",
     "text": [
      "Train loss : 0.0349784 --- Train acc : 87.806 %\n",
      "Test  loss : 0.248648 --- Test  acc : 58.47 %\n"
     ]
    },
    {
     "name": "stderr",
     "output_type": "stream",
     "text": [
      " 62%|██████▏   | 62/100 [25:20<15:31, 24.52s/it]"
     ]
    },
    {
     "name": "stdout",
     "output_type": "stream",
     "text": [
      "Train loss : 0.0246445 --- Train acc : 91.294 %\n",
      "Test  loss : 0.240682 --- Test  acc : 58.34 %\n"
     ]
    },
    {
     "name": "stderr",
     "output_type": "stream",
     "text": [
      " 63%|██████▎   | 63/100 [25:43<15:06, 24.51s/it]"
     ]
    },
    {
     "name": "stdout",
     "output_type": "stream",
     "text": [
      "Train loss : 0.0464634 --- Train acc : 84.678 %\n",
      "Test  loss : 0.264482 --- Test  acc : 57 %\n"
     ]
    },
    {
     "name": "stderr",
     "output_type": "stream",
     "text": [
      " 64%|██████▍   | 64/100 [26:08<14:42, 24.51s/it]"
     ]
    },
    {
     "name": "stdout",
     "output_type": "stream",
     "text": [
      "Train loss : 0.0365827 --- Train acc : 87.588 %\n",
      "Test  loss : 0.285619 --- Test  acc : 58.02 %\n"
     ]
    },
    {
     "name": "stderr",
     "output_type": "stream",
     "text": [
      " 65%|██████▌   | 65/100 [26:33<14:18, 24.52s/it]"
     ]
    },
    {
     "name": "stdout",
     "output_type": "stream",
     "text": [
      "Train loss : 0.0272879 --- Train acc : 90.196 %\n",
      "Test  loss : 0.260007 --- Test  acc : 58.35 %\n"
     ]
    },
    {
     "name": "stderr",
     "output_type": "stream",
     "text": [
      " 66%|██████▌   | 66/100 [26:57<13:53, 24.51s/it]"
     ]
    },
    {
     "name": "stdout",
     "output_type": "stream",
     "text": [
      "Train loss : 0.0265133 --- Train acc : 90.522 %\n",
      "Test  loss : 0.250199 --- Test  acc : 58.82 %\n"
     ]
    },
    {
     "name": "stderr",
     "output_type": "stream",
     "text": [
      " 67%|██████▋   | 67/100 [27:22<13:28, 24.51s/it]"
     ]
    },
    {
     "name": "stdout",
     "output_type": "stream",
     "text": [
      "Train loss : 0.0243863 --- Train acc : 91.202 %\n",
      "Test  loss : 0.256016 --- Test  acc : 58.51 %\n"
     ]
    },
    {
     "name": "stderr",
     "output_type": "stream",
     "text": [
      " 68%|██████▊   | 68/100 [27:45<13:03, 24.50s/it]"
     ]
    },
    {
     "name": "stdout",
     "output_type": "stream",
     "text": [
      "Train loss : 0.0313307 --- Train acc : 89.06 %\n",
      "Test  loss : 0.266066 --- Test  acc : 56.98 %\n"
     ]
    },
    {
     "name": "stderr",
     "output_type": "stream",
     "text": [
      " 69%|██████▉   | 69/100 [28:10<12:39, 24.50s/it]"
     ]
    },
    {
     "name": "stdout",
     "output_type": "stream",
     "text": [
      "Train loss : 0.0257917 --- Train acc : 90.868 %\n",
      "Test  loss : 0.263432 --- Test  acc : 58.25 %\n"
     ]
    },
    {
     "name": "stderr",
     "output_type": "stream",
     "text": [
      " 70%|███████   | 70/100 [28:34<12:14, 24.50s/it]"
     ]
    },
    {
     "name": "stdout",
     "output_type": "stream",
     "text": [
      "Train loss : 0.027205 --- Train acc : 90.296 %\n",
      "Test  loss : 0.280199 --- Test  acc : 58.16 %\n"
     ]
    },
    {
     "name": "stderr",
     "output_type": "stream",
     "text": [
      " 71%|███████   | 71/100 [28:58<11:50, 24.49s/it]"
     ]
    },
    {
     "name": "stdout",
     "output_type": "stream",
     "text": [
      "Train loss : 0.0325587 --- Train acc : 88.662 %\n",
      "Test  loss : 0.282492 --- Test  acc : 58.06 %\n"
     ]
    },
    {
     "name": "stderr",
     "output_type": "stream",
     "text": [
      " 72%|███████▏  | 72/100 [29:22<11:25, 24.48s/it]"
     ]
    },
    {
     "name": "stdout",
     "output_type": "stream",
     "text": [
      "Train loss : 0.033481 --- Train acc : 88.526 %\n",
      "Test  loss : 0.275828 --- Test  acc : 57.57 %\n"
     ]
    },
    {
     "name": "stderr",
     "output_type": "stream",
     "text": [
      " 73%|███████▎  | 73/100 [29:46<11:00, 24.47s/it]"
     ]
    },
    {
     "name": "stdout",
     "output_type": "stream",
     "text": [
      "Train loss : 0.0465704 --- Train acc : 84.932 %\n",
      "Test  loss : 0.28867 --- Test  acc : 56.59 %\n"
     ]
    },
    {
     "name": "stderr",
     "output_type": "stream",
     "text": [
      " 74%|███████▍  | 74/100 [30:12<10:36, 24.49s/it]"
     ]
    },
    {
     "name": "stdout",
     "output_type": "stream",
     "text": [
      "Train loss : 0.0284916 --- Train acc : 89.954 %\n",
      "Test  loss : 0.280584 --- Test  acc : 58.39 %\n"
     ]
    },
    {
     "name": "stderr",
     "output_type": "stream",
     "text": [
      " 75%|███████▌  | 75/100 [30:36<10:12, 24.49s/it]"
     ]
    },
    {
     "name": "stdout",
     "output_type": "stream",
     "text": [
      "Train loss : 0.0282642 --- Train acc : 90.152 %\n",
      "Test  loss : 0.277405 --- Test  acc : 58.53 %\n"
     ]
    },
    {
     "name": "stderr",
     "output_type": "stream",
     "text": [
      " 76%|███████▌  | 76/100 [31:01<09:47, 24.49s/it]"
     ]
    },
    {
     "name": "stdout",
     "output_type": "stream",
     "text": [
      "Train loss : 0.0253627 --- Train acc : 91.176 %\n",
      "Test  loss : 0.279673 --- Test  acc : 58.17 %\n"
     ]
    },
    {
     "name": "stderr",
     "output_type": "stream",
     "text": [
      " 77%|███████▋  | 77/100 [31:26<09:23, 24.49s/it]"
     ]
    },
    {
     "name": "stdout",
     "output_type": "stream",
     "text": [
      "Train loss : 0.0259726 --- Train acc : 90.674 %\n",
      "Test  loss : 0.280764 --- Test  acc : 57.65 %\n"
     ]
    },
    {
     "name": "stderr",
     "output_type": "stream",
     "text": [
      " 78%|███████▊  | 78/100 [31:49<08:58, 24.49s/it]"
     ]
    },
    {
     "name": "stdout",
     "output_type": "stream",
     "text": [
      "Train loss : 0.0331155 --- Train acc : 88.736 %\n",
      "Test  loss : 0.284547 --- Test  acc : 58.38 %\n"
     ]
    },
    {
     "name": "stderr",
     "output_type": "stream",
     "text": [
      " 79%|███████▉  | 79/100 [32:15<08:34, 24.49s/it]"
     ]
    },
    {
     "name": "stdout",
     "output_type": "stream",
     "text": [
      "Train loss : 0.031471 --- Train acc : 89.224 %\n",
      "Test  loss : 0.285553 --- Test  acc : 57.7 %\n"
     ]
    },
    {
     "name": "stderr",
     "output_type": "stream",
     "text": [
      " 80%|████████  | 80/100 [32:39<08:09, 24.49s/it]"
     ]
    },
    {
     "name": "stdout",
     "output_type": "stream",
     "text": [
      "Train loss : 0.0267197 --- Train acc : 90.68 %\n",
      "Test  loss : 0.29266 --- Test  acc : 57.95 %\n"
     ]
    },
    {
     "name": "stderr",
     "output_type": "stream",
     "text": [
      " 81%|████████  | 81/100 [33:04<07:45, 24.50s/it]"
     ]
    },
    {
     "name": "stdout",
     "output_type": "stream",
     "text": [
      "Train loss : 0.022623 --- Train acc : 91.99 %\n",
      "Test  loss : 0.285618 --- Test  acc : 58.5 %\n"
     ]
    },
    {
     "name": "stderr",
     "output_type": "stream",
     "text": [
      " 82%|████████▏ | 82/100 [33:29<07:21, 24.51s/it]"
     ]
    },
    {
     "name": "stdout",
     "output_type": "stream",
     "text": [
      "Train loss : 0.0264814 --- Train acc : 90.638 %\n",
      "Test  loss : 0.29043 --- Test  acc : 57.42 %\n"
     ]
    },
    {
     "name": "stderr",
     "output_type": "stream",
     "text": [
      " 83%|████████▎ | 83/100 [33:54<06:56, 24.52s/it]"
     ]
    },
    {
     "name": "stdout",
     "output_type": "stream",
     "text": [
      "Train loss : 0.0281643 --- Train acc : 90.234 %\n",
      "Test  loss : 0.285913 --- Test  acc : 57.6 %\n"
     ]
    },
    {
     "name": "stderr",
     "output_type": "stream",
     "text": [
      " 84%|████████▍ | 84/100 [34:20<06:32, 24.52s/it]"
     ]
    },
    {
     "name": "stdout",
     "output_type": "stream",
     "text": [
      "Train loss : 0.0292215 --- Train acc : 90.014 %\n",
      "Test  loss : 0.298757 --- Test  acc : 57.6 %\n"
     ]
    },
    {
     "name": "stderr",
     "output_type": "stream",
     "text": [
      " 85%|████████▌ | 85/100 [34:44<06:07, 24.53s/it]"
     ]
    },
    {
     "name": "stdout",
     "output_type": "stream",
     "text": [
      "Train loss : 0.0319347 --- Train acc : 89.226 %\n",
      "Test  loss : 0.292029 --- Test  acc : 57.07 %\n"
     ]
    },
    {
     "name": "stderr",
     "output_type": "stream",
     "text": [
      " 86%|████████▌ | 86/100 [35:09<05:43, 24.53s/it]"
     ]
    },
    {
     "name": "stdout",
     "output_type": "stream",
     "text": [
      "Train loss : 0.0299379 --- Train acc : 89.718 %\n",
      "Test  loss : 0.282667 --- Test  acc : 57.84 %\n"
     ]
    },
    {
     "name": "stderr",
     "output_type": "stream",
     "text": [
      " 87%|████████▋ | 87/100 [35:33<05:18, 24.52s/it]"
     ]
    },
    {
     "name": "stdout",
     "output_type": "stream",
     "text": [
      "Train loss : 0.025233 --- Train acc : 91.17 %\n",
      "Test  loss : 0.293824 --- Test  acc : 57.28 %\n"
     ]
    },
    {
     "name": "stderr",
     "output_type": "stream",
     "text": [
      " 88%|████████▊ | 88/100 [35:58<04:54, 24.52s/it]"
     ]
    },
    {
     "name": "stdout",
     "output_type": "stream",
     "text": [
      "Train loss : 0.0351149 --- Train acc : 88.118 %\n",
      "Test  loss : 0.3015 --- Test  acc : 57.05 %\n"
     ]
    },
    {
     "name": "stderr",
     "output_type": "stream",
     "text": [
      " 89%|████████▉ | 89/100 [36:22<04:29, 24.52s/it]"
     ]
    },
    {
     "name": "stdout",
     "output_type": "stream",
     "text": [
      "Train loss : 0.0243517 --- Train acc : 91.59 %\n",
      "Test  loss : 0.307053 --- Test  acc : 58.01 %\n"
     ]
    },
    {
     "name": "stderr",
     "output_type": "stream",
     "text": [
      " 90%|█████████ | 90/100 [36:47<04:05, 24.53s/it]"
     ]
    },
    {
     "name": "stdout",
     "output_type": "stream",
     "text": [
      "Train loss : 0.0291313 --- Train acc : 90.28 %\n",
      "Test  loss : 0.29615 --- Test  acc : 57.74 %\n"
     ]
    },
    {
     "name": "stderr",
     "output_type": "stream",
     "text": [
      " 91%|█████████ | 91/100 [37:12<03:40, 24.53s/it]"
     ]
    },
    {
     "name": "stdout",
     "output_type": "stream",
     "text": [
      "Train loss : 0.0365648 --- Train acc : 88.146 %\n",
      "Test  loss : 0.310825 --- Test  acc : 56.98 %\n"
     ]
    },
    {
     "name": "stderr",
     "output_type": "stream",
     "text": [
      " 92%|█████████▏| 92/100 [37:37<03:16, 24.54s/it]"
     ]
    },
    {
     "name": "stdout",
     "output_type": "stream",
     "text": [
      "Train loss : 0.0329178 --- Train acc : 88.904 %\n",
      "Test  loss : 0.302888 --- Test  acc : 56.99 %\n"
     ]
    },
    {
     "name": "stderr",
     "output_type": "stream",
     "text": [
      " 93%|█████████▎| 93/100 [38:02<02:51, 24.54s/it]"
     ]
    },
    {
     "name": "stdout",
     "output_type": "stream",
     "text": [
      "Train loss : 0.0298363 --- Train acc : 90.064 %\n",
      "Test  loss : 0.320013 --- Test  acc : 57.76 %\n"
     ]
    },
    {
     "name": "stderr",
     "output_type": "stream",
     "text": [
      " 94%|█████████▍| 94/100 [38:27<02:27, 24.55s/it]"
     ]
    },
    {
     "name": "stdout",
     "output_type": "stream",
     "text": [
      "Train loss : 0.0373481 --- Train acc : 87.928 %\n",
      "Test  loss : 0.312965 --- Test  acc : 56.84 %\n"
     ]
    },
    {
     "name": "stderr",
     "output_type": "stream",
     "text": [
      " 95%|█████████▌| 95/100 [38:52<02:02, 24.55s/it]"
     ]
    },
    {
     "name": "stdout",
     "output_type": "stream",
     "text": [
      "Train loss : 0.0242396 --- Train acc : 91.464 %\n",
      "Test  loss : 0.304557 --- Test  acc : 57.87 %\n"
     ]
    },
    {
     "name": "stderr",
     "output_type": "stream",
     "text": [
      " 96%|█████████▌| 96/100 [39:17<01:38, 24.55s/it]"
     ]
    },
    {
     "name": "stdout",
     "output_type": "stream",
     "text": [
      "Train loss : 0.0211608 --- Train acc : 92.648 %\n",
      "Test  loss : 0.313127 --- Test  acc : 58.48 %\n"
     ]
    },
    {
     "name": "stderr",
     "output_type": "stream",
     "text": [
      " 97%|█████████▋| 97/100 [39:42<01:13, 24.56s/it]"
     ]
    },
    {
     "name": "stdout",
     "output_type": "stream",
     "text": [
      "Train loss : 0.0192862 --- Train acc : 93.228 %\n",
      "Test  loss : 0.312759 --- Test  acc : 57.86 %\n"
     ]
    },
    {
     "name": "stderr",
     "output_type": "stream",
     "text": [
      " 98%|█████████▊| 98/100 [40:06<00:49, 24.56s/it]"
     ]
    },
    {
     "name": "stdout",
     "output_type": "stream",
     "text": [
      "Train loss : 0.0253594 --- Train acc : 91.04 %\n",
      "Test  loss : 0.309788 --- Test  acc : 57.54 %\n"
     ]
    },
    {
     "name": "stderr",
     "output_type": "stream",
     "text": [
      " 99%|█████████▉| 99/100 [40:31<00:24, 24.56s/it]"
     ]
    },
    {
     "name": "stdout",
     "output_type": "stream",
     "text": [
      "Train loss : 0.0321331 --- Train acc : 89.412 %\n",
      "Test  loss : 0.328659 --- Test  acc : 57.15 %\n"
     ]
    },
    {
     "name": "stderr",
     "output_type": "stream",
     "text": [
      "100%|██████████| 100/100 [40:56<00:00, 24.56s/it]"
     ]
    },
    {
     "name": "stdout",
     "output_type": "stream",
     "text": [
      "Train loss : 0.0236975 --- Train acc : 91.928 %\n",
      "Test  loss : 0.32083 --- Test  acc : 57.45 %\n"
     ]
    },
    {
     "name": "stderr",
     "output_type": "stream",
     "text": [
      "\n"
     ]
    }
   ],
   "source": [
    "train_stats = []\n",
    "test_stats  = []\n",
    "fractions   = []\n",
    "params_stats= []\n",
    "grad_stats  = []\n",
    "grad2_stats = []\n",
    "snr_stats   = []\n",
    "\n",
    "for epoch in tqdm(range(epochs)):\n",
    "    \n",
    "    # init to zero accumulators for grad and grad2\n",
    "    grad  = init_grad(model)\n",
    "    grad2 = init_grad(model)  \n",
    "    \n",
    "    count = 0\n",
    "    \n",
    "    for i, data in enumerate(train_loader, 0):\n",
    "                               \n",
    "        # get the inputs and load it on device\n",
    "        inputs, labels = data\n",
    "        inputs = inputs.to(device)\n",
    "        labels = labels.to(device)  \n",
    "       \n",
    "        # zero the parameter gradients\n",
    "        optimizer.zero_grad()\n",
    "        \n",
    "        # forward + backward pass\n",
    "        outputs = model(inputs)\n",
    "        loss = criterion(outputs, labels)        \n",
    "        loss.backward()\n",
    "                \n",
    "        # accumulate grad and grad2\n",
    "        grad  = acc_grad(grad,model)\n",
    "        grad2 = acc_grad2(grad2,model)\n",
    "        \n",
    "        if (i + 1) % n == 0 :\n",
    "            \n",
    "            count += 1\n",
    "            #print('Epoch : {} mini-epoch/tot : {}/{}'.format(epoch, count, n_lb) )\n",
    "            \n",
    "            with torch.no_grad():\n",
    "                \n",
    "                # compute the snr \n",
    "                snr = compute_snr(grad, grad2, n)\n",
    "\n",
    "                # temper the grad with the information on grad2\n",
    "                fr = []\n",
    "                grad_copy = []\n",
    "                                              \n",
    "                for p, g, s in zip(model.parameters(), grad, snr): \n",
    "                    grad_copy.append(p.grad.clone())\n",
    "                    \n",
    "                    # This is the only line where the true gradient is touched\n",
    "                    # it substitute the gradient p.grad (that is the one computed on\n",
    "                    # the last mini-batch, since optimizer.zero_grad() is always called)\n",
    "                    # with the gradient accumulated in acc_grad. This gradient is averaged\n",
    "                    # over the number of mini-batches in a large batch, so it is divided\n",
    "                    # by n.\n",
    "                    \n",
    "                    # If we use the modified SGD, when the signal to noise \n",
    "                    # ratio is > 1 we leave grad untouched, otherwise the gradient is \n",
    "                    # multiplied by the signal to noise ratio value\n",
    "                    \n",
    "                    if MODIFIED_SGD:\n",
    "                        p.grad = torch.where(s > 1, g/n, s * g/n)          \n",
    "                    else:\n",
    "                        p.grad = g/n\n",
    "                        \n",
    "                    fr.append(  ( s < 1).sum().item() / \n",
    "                             torch.prod(torch.tensor( s.size() ) ).item()  )       \n",
    "            fractions.append(fr)        \n",
    "    \n",
    "            # store statistics about params grad, grad2 and snr    \n",
    "            params_stats.append([ [x.mean().item(), x.std().item()]  for x in model.parameters() ] )\n",
    "            grad_stats.append(  [ [x.mean().item(), x.std().item()]  for x in grad] )\n",
    "            grad2_stats.append( [ [x.mean().item(), x.std().item()]  for x in grad2] )\n",
    "            snr_stats.append(   [ [x.mean().item(), x.std().item()]  for x in snr] )\n",
    "        \n",
    "            # this is called after the large batch of n mini-batches\n",
    "            optimizer.step()\n",
    "            \n",
    "            # set to zero accumulators for grad and grad2\n",
    "            grad  = init_grad(model)\n",
    "            grad2 = init_grad(model)\n",
    "            \n",
    "                          \n",
    "    # save model\n",
    "    if SAVE:\n",
    "        #model.save_state_dict(model, os.path.join( RES, 'model_' + str(epoch) + '.pt') )\n",
    "        torch.save(model, os.path.join( RES, 'model_' + str(epoch) + '.pt') )\n",
    "        \n",
    "    # get statistics\n",
    "    train_stats.append(get_stats(train_loader))\n",
    "    test_stats.append(get_stats(test_loader))\n",
    "        \n",
    "    # print statistics\n",
    "    print('Train loss : %g --- Train acc : %g %%' % ( train_stats[-1][0], train_stats[-1][1] )) \n",
    "    print('Test  loss : %g --- Test  acc : %g %%' % ( test_stats[-1][0],  test_stats[-1][1] ))         "
   ]
  },
  {
   "cell_type": "code",
   "execution_count": 17,
   "metadata": {},
   "outputs": [],
   "source": [
    "# save loss and accuracies in a dictionary\n",
    "train_stats = np.asarray(train_stats)\n",
    "test_stats  = np.asarray(test_stats)\n",
    "fractions   = np.asarray(fractions)\n",
    "params_stats= np.asarray(params_stats)\n",
    "grad_stats  = np.asarray(grad_stats)\n",
    "grad2_stats = np.asarray(grad2_stats)\n",
    "snr_stats   = np.asarray(snr_stats)\n",
    "\n",
    "tags = ['train_stats', 'test_stats', 'fractions', 'params_stats', 'grad_stats', 'grad2_stats', 'snr_stats' ]\n",
    "vals = [train_stats, test_stats, fractions, params_stats, grad_stats, grad2_stats, snr_stats ]\n",
    "training_data = dict(zip(tags, vals))\n",
    "if SAVE:\n",
    "    file = open( os.path.join( RES, 'training_data.pt') , 'wb' ) \n",
    "    pickle.dump(training_data,file)"
   ]
  },
  {
   "cell_type": "code",
   "execution_count": 18,
   "metadata": {},
   "outputs": [
    {
     "name": "stdout",
     "output_type": "stream",
     "text": [
      "['conv1', 'conv2', 'fc1', 'fc2', 'fc3']\n"
     ]
    }
   ],
   "source": [
    "win = 30\n",
    "nchecks = int( np.floor(len(train_loader.dataset)/(mb_size*n) ))\n",
    "layer_names = [m[0] for idx,m in enumerate(model.named_modules()) ]\n",
    "layer_names.remove('')\n",
    "layer_names.remove('pool')\n",
    "print(layer_names)"
   ]
  },
  {
   "cell_type": "code",
   "execution_count": 19,
   "metadata": {},
   "outputs": [],
   "source": [
    "def plot_results(figname, train_stats, test_stats, fractions, grad_stats, grad2_stats):\n",
    "\n",
    "    fig = plt.figure(figsize=(20,20))\n",
    "    plt.subplot(4,4,1)\n",
    "    plt.plot(train_stats[:,0],'-',label='training loss')\n",
    "    plt.plot(test_stats[:,0],'-',label='test loss')\n",
    "    plt.xlabel('epoch')\n",
    "    plt.title('loss')\n",
    "    plt.legend()\n",
    "\n",
    "    plt.subplot(4,4,2)\n",
    "    plt.plot(train_stats[:,1],'-',label='training accuracy')\n",
    "    plt.plot(test_stats[:,1],'-',label='test accuracy')\n",
    "    plt.xlabel('epoch')\n",
    "    plt.title('accuracy')\n",
    "    plt.legend()\n",
    "\n",
    "    plt.subplot(4,4,3)\n",
    "    for i in range(len(layer_names)):\n",
    "        plt.plot(np.arange(nchecks*epochs)/nchecks, pd.rolling_mean(fractions[:,i*2], win ),label=layer_names[i] ) \n",
    "    plt.legend()\n",
    "    plt.xlabel('epoch')\n",
    "    plt.title('fraction of $\\eta < 1$')\n",
    "\n",
    "    plt.subplot(4,4,4)\n",
    "    for i in range(len(layer_names)):\n",
    "        plt.plot(np.arange(nchecks*epochs)/nchecks, pd.rolling_mean( grad_stats[:,i*2,0], win ),label=layer_names[i])\n",
    "    plt.legend()\n",
    "    plt.xlabel('epoch')\n",
    "    plt.title('grad mean')\n",
    "\n",
    "    plt.subplot(4,4,5)\n",
    "    for i in range(len(layer_names)):\n",
    "        plt.plot(np.arange(nchecks*epochs)/nchecks, pd.rolling_mean( grad_stats[:,i*2,1], win ),label=layer_names[i])\n",
    "    plt.legend()\n",
    "    plt.xlabel('epoch')\n",
    "    plt.title('grad std')\n",
    "\n",
    "    plt.subplot(4,4,6)\n",
    "    for i in range(len(layer_names)):\n",
    "        plt.plot(np.arange(nchecks*epochs)/nchecks, pd.rolling_mean( grad2_stats[:,i*2,0], win),label=layer_names[i])\n",
    "    plt.legend()\n",
    "    plt.xlabel('epoch')\n",
    "    plt.title('grad2 mean')\n",
    "\n",
    "    plt.subplot(4,4,7)\n",
    "    for i in range(len(layer_names)):\n",
    "        plt.plot(np.arange(nchecks*epochs)/nchecks, pd.rolling_mean( grad2_stats[:,i*2,1], win),label=layer_names[i])\n",
    "    plt.legend()\n",
    "    plt.xlabel('epoch')\n",
    "    plt.title('grad2 std')\n",
    "\n",
    "    plt.subplot(4,4,8)\n",
    "    for i in range(len(layer_names)):\n",
    "        plt.plot(np.arange(nchecks*epochs)/nchecks, pd.rolling_mean( snr_stats[:,i*2,0], win),label=layer_names[i])\n",
    "    plt.legend()\n",
    "    plt.xlabel('epoch')\n",
    "    plt.title('snr mean')\n",
    "\n",
    "    plt.subplot(4,4,9)\n",
    "    for i in range(len(layer_names)):\n",
    "        plt.plot(np.arange(nchecks*epochs)/nchecks, pd.rolling_mean( snr_stats[:,i*2,1], win),label=layer_names[i])\n",
    "    plt.legend()\n",
    "    plt.xlabel('epoch')\n",
    "    plt.title('snr std')\n",
    "\n",
    "    plt.savefig(os.path.join(FIG, figname))\n",
    "    \n",
    "    plt.show()\n"
   ]
  },
  {
   "cell_type": "code",
   "execution_count": 20,
   "metadata": {},
   "outputs": [
    {
     "name": "stderr",
     "output_type": "stream",
     "text": [
      "/home/ansuini/.local/envs/pytorch/lib/python3.5/site-packages/ipykernel_launcher.py:20: FutureWarning: pd.rolling_mean is deprecated for ndarrays and will be removed in a future version\n",
      "/home/ansuini/.local/envs/pytorch/lib/python3.5/site-packages/ipykernel_launcher.py:27: FutureWarning: pd.rolling_mean is deprecated for ndarrays and will be removed in a future version\n",
      "/home/ansuini/.local/envs/pytorch/lib/python3.5/site-packages/ipykernel_launcher.py:34: FutureWarning: pd.rolling_mean is deprecated for ndarrays and will be removed in a future version\n",
      "/home/ansuini/.local/envs/pytorch/lib/python3.5/site-packages/ipykernel_launcher.py:41: FutureWarning: pd.rolling_mean is deprecated for ndarrays and will be removed in a future version\n",
      "/home/ansuini/.local/envs/pytorch/lib/python3.5/site-packages/ipykernel_launcher.py:48: FutureWarning: pd.rolling_mean is deprecated for ndarrays and will be removed in a future version\n",
      "/home/ansuini/.local/envs/pytorch/lib/python3.5/site-packages/ipykernel_launcher.py:55: FutureWarning: pd.rolling_mean is deprecated for ndarrays and will be removed in a future version\n",
      "/home/ansuini/.local/envs/pytorch/lib/python3.5/site-packages/ipykernel_launcher.py:62: FutureWarning: pd.rolling_mean is deprecated for ndarrays and will be removed in a future version\n"
     ]
    },
    {
     "data": {
      "image/png": "[encoded data removed]",
      "text/plain": [
       "<Figure size 1440x1440 with 9 Axes>"
      ]
     },
     "metadata": {},
     "output_type": "display_data"
    }
   ],
   "source": [
    "plot_results(DATASET, train_stats, test_stats, fractions, grad_stats, grad2_stats)"
   ]
  },
  {
   "cell_type": "code",
   "execution_count": null,
   "metadata": {},
   "outputs": [],
   "source": []
  },
  {
   "cell_type": "code",
   "execution_count": null,
   "metadata": {},
   "outputs": [],
   "source": []
  },
  {
   "cell_type": "code",
   "execution_count": null,
   "metadata": {},
   "outputs": [],
   "source": []
  },
  {
   "cell_type": "code",
   "execution_count": null,
   "metadata": {},
   "outputs": [],
   "source": []
  }
 ],
 "metadata": {
  "kernelspec": {
   "display_name": "PyTorch 0.4.0",
   "language": "python",
   "name": "pytorch"
  },
  "language_info": {
   "codemirror_mode": {
    "name": "ipython",
    "version": 3
   },
   "file_extension": ".py",
   "mimetype": "text/x-python",
   "name": "python",
   "nbconvert_exporter": "python",
   "pygments_lexer": "ipython3",
   "version": "3.5.2"
  }
 },
 "nbformat": 4,
 "nbformat_minor": 2
}
