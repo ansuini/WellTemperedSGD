{
 "cells": [
  {
   "cell_type": "code",
   "execution_count": 7,
   "metadata": {},
   "outputs": [],
   "source": [
    "%reload_ext autoreload\n",
    "%autoreload 2\n",
    "%matplotlib inline"
   ]
  },
  {
   "cell_type": "code",
   "execution_count": 6,
   "metadata": {},
   "outputs": [],
   "source": [
    "import os\n",
    "ROOT = '/home/ansuini/repos/WellTemperedSGD/'\n",
    "RES = os.path.join(ROOT,'results')"
   ]
  },
  {
   "cell_type": "code",
   "execution_count": 8,
   "metadata": {},
   "outputs": [],
   "source": [
    "import torch\n",
    "import torch.nn as nn\n",
    "import torch.nn.functional as F\n",
    "import torch.optim as optim\n",
    "from torchvision import datasets, transforms\n",
    "from torch.autograd import Variable\n",
    "import torchvision\n",
    "from torchsummary import summary\n",
    "\n",
    "from wtsgd import *\n",
    "from mnist_archs import LeNet\n",
    "from tqdm import tqdm\n",
    "\n",
    "import pickle\n",
    "from time import time\n",
    "import numpy as np\n",
    "np.seed = 1101\n",
    "from matplotlib import pyplot as plt\n",
    "plt.style.use('ggplot')"
   ]
  },
  {
   "cell_type": "code",
   "execution_count": 4,
   "metadata": {},
   "outputs": [
    {
     "name": "stdout",
     "output_type": "stream",
     "text": [
      "Variable      Type        Data/Info\n",
      "-----------------------------------\n",
      "acc_grad      function    <function acc_grad at 0x7fca34de0048>\n",
      "acc_grad2     function    <function acc_grad2 at 0x7fc9cab8af28>\n",
      "compute_snr   function    <function compute_snr at 0x7fc9cab8a950>\n",
      "init_grad     function    <function init_grad at 0x7fca3414c8c8>\n",
      "torch         module      <module 'torch' from '/ho<...>kages/torch/__init__.py'>\n"
     ]
    }
   ],
   "source": []
  },
  {
   "cell_type": "code",
   "execution_count": null,
   "metadata": {},
   "outputs": [],
   "source": []
  }
 ],
 "metadata": {
  "kernelspec": {
   "display_name": "PyTorch 0.4.0",
   "language": "python",
   "name": "pytorch"
  },
  "language_info": {
   "codemirror_mode": {
    "name": "ipython",
    "version": 3
   },
   "file_extension": ".py",
   "mimetype": "text/x-python",
   "name": "python",
   "nbconvert_exporter": "python",
   "pygments_lexer": "ipython3",
   "version": "3.5.2"
  }
 },
 "nbformat": 4,
 "nbformat_minor": 2
}
