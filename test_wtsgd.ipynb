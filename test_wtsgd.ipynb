{
 "cells": [
  {
   "cell_type": "code",
   "execution_count": 150,
   "metadata": {},
   "outputs": [],
   "source": [
    "%reload_ext autoreload\n",
    "%autoreload 2\n",
    "%matplotlib inline"
   ]
  },
  {
   "cell_type": "code",
   "execution_count": 151,
   "metadata": {},
   "outputs": [],
   "source": [
    "import os\n",
    "ROOT = '/home/ansuini/repos/WellTemperedSGD/'\n",
    "RES = os.path.join(ROOT,'results')"
   ]
  },
  {
   "cell_type": "code",
   "execution_count": 152,
   "metadata": {},
   "outputs": [],
   "source": [
    "import torch\n",
    "import torch.nn as nn\n",
    "import torch.nn.functional as F\n",
    "import torch.optim as optim\n",
    "from torchvision import datasets, transforms\n",
    "from torch.autograd import Variable\n",
    "import torchvision\n",
    "from torchsummary import summary\n",
    "\n",
    "from wtsgd import *\n",
    "from mnist_archs import LeNet\n",
    "from tqdm import tqdm\n",
    "\n",
    "import pickle\n",
    "from time import time\n",
    "import numpy as np\n",
    "np.seed = 1101\n",
    "from matplotlib import pyplot as plt\n",
    "plt.style.use('ggplot')"
   ]
  },
  {
   "cell_type": "code",
   "execution_count": 153,
   "metadata": {},
   "outputs": [],
   "source": [
    "DATASET = 'cifar10'\n",
    "mb_size    = 10         # mini-batch size (default : 10)\n",
    "n          = 300        # number of mini-batches in a large batch\n",
    "lb_size    = n*mb_size  # large batch size (after this gradient update with modified SGD rule)  \n",
    "n_lb       = int(50000.0/(lb_size)) # number of large batches in a epoch\n",
    "epochs     = 100\n",
    "lr         = 0.1\n",
    "momentum   = 0.0    \n",
    "mean_imgs  = (0.5,0.5,0.5)\n",
    "std_imgs   = (0.5,0.5,0.5)\n",
    "imgs_shape = (3,32,32)"
   ]
  },
  {
   "cell_type": "code",
   "execution_count": 154,
   "metadata": {},
   "outputs": [],
   "source": [
    "import os\n",
    "ROOT = '/home/ansuini/repos/WellTemperedSGD/'\n",
    "os.chdir(ROOT)"
   ]
  },
  {
   "cell_type": "code",
   "execution_count": 155,
   "metadata": {},
   "outputs": [
    {
     "name": "stdout",
     "output_type": "stream",
     "text": [
      "Device : cuda:0\n"
     ]
    }
   ],
   "source": [
    "device = torch.device(\"cuda:0\" if torch.cuda.is_available() else \"cpu\")\n",
    "kwargs = {'num_workers': 2, 'pin_memory': True} if device.type == 'cuda' else {}\n",
    "print('Device : {}'.format( device ) )"
   ]
  },
  {
   "cell_type": "code",
   "execution_count": 156,
   "metadata": {},
   "outputs": [
    {
     "name": "stdout",
     "output_type": "stream",
     "text": [
      "Files already downloaded and verified\n",
      "Files already downloaded and verified\n"
     ]
    }
   ],
   "source": [
    "transform = transforms.Compose(\n",
    "    [transforms.ToTensor(),\n",
    "     transforms.Normalize(mean_imgs, std_imgs)])\n",
    "\n",
    "trainset = torchvision.datasets.CIFAR10(ROOT +  '/data/' + DATASET, train=True,\n",
    "                                        download=True, transform=transform)\n",
    "\n",
    "train_loader = torch.utils.data.DataLoader(trainset, batch_size=mb_size,\n",
    "                                          shuffle=True, num_workers=2)\n",
    "\n",
    "testset = torchvision.datasets.CIFAR10(ROOT +  '/data/' + DATASET, train=False,\n",
    "                                       download=True, transform=transform)\n",
    "test_loader = torch.utils.data.DataLoader(testset, batch_size=mb_size,\n",
    "                                         shuffle=False, num_workers=2)\n",
    "\n",
    "classes = ('plane', 'car', 'bird', 'cat',\n",
    "           'deer', 'dog', 'frog', 'horse', 'ship', 'truck')"
   ]
  },
  {
   "cell_type": "code",
   "execution_count": 157,
   "metadata": {},
   "outputs": [],
   "source": [
    "def imshow(img):\n",
    "    npimg = img.numpy()    \n",
    "    plt.imshow(np.transpose(npimg, (1, 2, 0)))\n",
    "    plt.xticks([])\n",
    "    plt.yticks([])"
   ]
  },
  {
   "cell_type": "code",
   "execution_count": 158,
   "metadata": {},
   "outputs": [
    {
     "name": "stderr",
     "output_type": "stream",
     "text": [
      "Clipping input data to the valid range for imshow with RGB data ([0..1] for floats or [0..255] for integers).\n"
     ]
    },
    {
     "name": "stdout",
     "output_type": "stream",
     "text": [
      "torch.Size([10, 3, 32, 32])\n"
     ]
    },
    {
     "data": {
      "image/png": "[encoded data removed]",
      "text/plain": [
       "<Figure size 432x288 with 1 Axes>"
      ]
     },
     "metadata": {},
     "output_type": "display_data"
    }
   ],
   "source": [
    "dataiter = iter(train_loader)\n",
    "images, labels = dataiter.next()\n",
    "imshow(torchvision.utils.make_grid(images))\n",
    "print(images.shape)"
   ]
  },
  {
   "cell_type": "code",
   "execution_count": 159,
   "metadata": {},
   "outputs": [],
   "source": [
    "from cifar10_archs import Net\n",
    "model = Net()\n",
    "model.to(device)\n",
    "criterion = nn.CrossEntropyLoss()\n",
    "optimizer = optim.SGD(model.parameters(), lr=lr, momentum=momentum)"
   ]
  },
  {
   "cell_type": "code",
   "execution_count": 160,
   "metadata": {},
   "outputs": [
    {
     "name": "stdout",
     "output_type": "stream",
     "text": [
      "tensor([[ 0.,  0.,  0.,  0.,  0.],\n",
      "        [ 0.,  0.,  0.,  0.,  0.],\n",
      "        [ 0.,  0.,  0.,  0.,  0.],\n",
      "        [ 0.,  0.,  0.,  0.,  0.],\n",
      "        [ 0.,  0.,  0.,  0.,  0.]], device='cuda:0')\n",
      "tensor([[ 0.,  0.,  0.,  0.,  0.],\n",
      "        [ 0.,  0.,  0.,  0.,  0.],\n",
      "        [ 0.,  0.,  0.,  0.,  0.],\n",
      "        [ 0.,  0.,  0.,  0.,  0.],\n",
      "        [ 0.,  0.,  0.,  0.,  0.]], device='cuda:0')\n"
     ]
    }
   ],
   "source": [
    "grad  = init_grad(model)\n",
    "grad2 = init_grad(model)  \n",
    "print(grad[0][0][0])\n",
    "print(grad2[0][0][0])"
   ]
  },
  {
   "cell_type": "code",
   "execution_count": 161,
   "metadata": {},
   "outputs": [],
   "source": [
    "inputs, labels = dataiter.next()\n",
    "inputs = inputs.to(device)\n",
    "labels = labels.to(device)     "
   ]
  },
  {
   "cell_type": "code",
   "execution_count": 162,
   "metadata": {},
   "outputs": [
    {
     "name": "stdout",
     "output_type": "stream",
     "text": [
      "torch.Size([10, 3, 32, 32])\n",
      "torch.Size([10])\n"
     ]
    }
   ],
   "source": [
    "print(inputs.shape)\n",
    "print(labels.shape)"
   ]
  },
  {
   "cell_type": "code",
   "execution_count": 163,
   "metadata": {},
   "outputs": [],
   "source": [
    "# zero the parameter gradients\n",
    "optimizer.zero_grad()      "
   ]
  },
  {
   "cell_type": "code",
   "execution_count": 164,
   "metadata": {},
   "outputs": [],
   "source": [
    "# forward\n",
    "outputs = model(inputs)"
   ]
  },
  {
   "cell_type": "code",
   "execution_count": 165,
   "metadata": {},
   "outputs": [
    {
     "name": "stdout",
     "output_type": "stream",
     "text": [
      "tensor(2.2935, device='cuda:0')\n"
     ]
    }
   ],
   "source": [
    "# loss computation\n",
    "loss = criterion(outputs, labels)\n",
    "print(loss)"
   ]
  },
  {
   "cell_type": "code",
   "execution_count": 166,
   "metadata": {},
   "outputs": [],
   "source": [
    "# compute the grad\n",
    "loss.backward()"
   ]
  },
  {
   "cell_type": "code",
   "execution_count": 167,
   "metadata": {},
   "outputs": [
    {
     "name": "stdout",
     "output_type": "stream",
     "text": [
      "Par : -0.019195161759853363\n",
      "Grad : 0.0004487727419473231\n",
      "Par : 0.07806044816970825\n",
      "Grad : -0.0008843161049298942\n"
     ]
    }
   ],
   "source": [
    "# show gradient\n",
    "with torch.no_grad():\n",
    "    for p in model.parameters(): \n",
    "        if len(list(p.grad.size())) == 4:\n",
    "            print('Par : {}'.format( p[0,0,0,0]) )\n",
    "            print('Grad : {}'.format( p.grad[0,0,0,0]) )"
   ]
  },
  {
   "cell_type": "code",
   "execution_count": 168,
   "metadata": {},
   "outputs": [],
   "source": [
    "# accumulate grad and grad2\n",
    "grad  = acc_grad(grad,model)\n",
    "grad2 = acc_grad2(grad2,model)"
   ]
  },
  {
   "cell_type": "code",
   "execution_count": 169,
   "metadata": {},
   "outputs": [
    {
     "name": "stdout",
     "output_type": "stream",
     "text": [
      "tensor(1.00000e-04 *\n",
      "       4.4877, device='cuda:0')\n",
      "tensor(1.00000e-07 *\n",
      "       2.0140, device='cuda:0')\n",
      "tensor(1.00000e-04 *\n",
      "       -8.8432, device='cuda:0')\n",
      "tensor(1.00000e-07 *\n",
      "       7.8201, device='cuda:0')\n"
     ]
    }
   ],
   "source": [
    "# show gradient\n",
    "with torch.no_grad():\n",
    "    for g, g2 in zip( grad, grad2): \n",
    "        if len(list(g.size())) == 4:\n",
    "            print(g[0,0,0,0])\n",
    "            print(g2[0,0,0,0])          \n",
    "            # only the first time\n",
    "            np.testing.assert_array_equal( g2.cpu().numpy(),  (g**2).cpu().numpy() ) "
   ]
  },
  {
   "cell_type": "code",
   "execution_count": 259,
   "metadata": {},
   "outputs": [],
   "source": [
    "n = 10"
   ]
  },
  {
   "cell_type": "code",
   "execution_count": 260,
   "metadata": {},
   "outputs": [],
   "source": [
    "# init accumulators grad and grad2\n",
    "grad  = init_grad(model)\n",
    "grad2 = init_grad(model) "
   ]
  },
  {
   "cell_type": "code",
   "execution_count": 261,
   "metadata": {},
   "outputs": [],
   "source": [
    "for i, data in enumerate(train_loader, 0):\n",
    "\n",
    "    # get the inputs\n",
    "    inputs, labels = data\n",
    "    inputs = inputs.to(device)\n",
    "    labels = labels.to(device)  \n",
    "\n",
    "    # zero the parameter gradients\n",
    "    optimizer.zero_grad()\n",
    "\n",
    "    # forward + backward\n",
    "    outputs = model(inputs)\n",
    "    loss = criterion(outputs, labels)        \n",
    "    # compute the grad\n",
    "    loss.backward()\n",
    "\n",
    "    # accumulate grad and grad2\n",
    "    grad  = acc_grad(grad,model)\n",
    "    grad2 = acc_grad2(grad2,model)\n",
    "\n",
    "    \n",
    "    if (i + 1) % n == 0 :             \n",
    "        # compute the snr \n",
    "        snr = compute_snr(grad, grad2, n, mb_size)\n",
    "        break  "
   ]
  },
  {
   "cell_type": "code",
   "execution_count": 262,
   "metadata": {},
   "outputs": [
    {
     "data": {
      "text/plain": [
       "tensor([[[[ 1,  1,  1,  1,  1],\n",
       "          [ 1,  1,  1,  1,  1],\n",
       "          [ 1,  1,  1,  1,  1],\n",
       "          [ 1,  1,  0,  0,  1],\n",
       "          [ 1,  0,  0,  0,  1]],\n",
       "\n",
       "         [[ 1,  1,  1,  1,  1],\n",
       "          [ 1,  1,  0,  1,  1],\n",
       "          [ 1,  1,  0,  0,  1],\n",
       "          [ 1,  0,  0,  0,  0],\n",
       "          [ 1,  0,  0,  0,  0]],\n",
       "\n",
       "         [[ 1,  1,  0,  1,  0],\n",
       "          [ 1,  1,  0,  1,  0],\n",
       "          [ 1,  1,  0,  0,  0],\n",
       "          [ 1,  1,  0,  0,  0],\n",
       "          [ 1,  0,  0,  0,  0]]],\n",
       "\n",
       "\n",
       "        [[[ 1,  1,  0,  0,  0],\n",
       "          [ 1,  0,  0,  0,  0],\n",
       "          [ 1,  1,  0,  0,  1],\n",
       "          [ 1,  1,  1,  1,  1],\n",
       "          [ 1,  1,  1,  1,  1]],\n",
       "\n",
       "         [[ 1,  0,  0,  0,  0],\n",
       "          [ 1,  0,  0,  0,  0],\n",
       "          [ 1,  0,  0,  0,  0],\n",
       "          [ 1,  0,  0,  0,  0],\n",
       "          [ 0,  0,  0,  1,  1]],\n",
       "\n",
       "         [[ 1,  0,  0,  0,  0],\n",
       "          [ 0,  0,  0,  0,  0],\n",
       "          [ 1,  0,  0,  0,  0],\n",
       "          [ 0,  0,  0,  0,  0],\n",
       "          [ 0,  0,  0,  0,  1]]],\n",
       "\n",
       "\n",
       "        [[[ 1,  1,  1,  1,  0],\n",
       "          [ 1,  1,  1,  1,  0],\n",
       "          [ 1,  1,  1,  1,  0],\n",
       "          [ 1,  1,  1,  1,  0],\n",
       "          [ 1,  1,  0,  1,  1]],\n",
       "\n",
       "         [[ 1,  1,  1,  1,  0],\n",
       "          [ 1,  1,  1,  1,  0],\n",
       "          [ 1,  1,  1,  1,  0],\n",
       "          [ 1,  1,  1,  1,  0],\n",
       "          [ 1,  1,  1,  1,  1]],\n",
       "\n",
       "         [[ 1,  1,  1,  1,  0],\n",
       "          [ 1,  1,  1,  1,  0],\n",
       "          [ 1,  1,  1,  1,  1],\n",
       "          [ 1,  1,  1,  1,  1],\n",
       "          [ 1,  1,  0,  1,  1]]],\n",
       "\n",
       "\n",
       "        [[[ 1,  1,  1,  1,  1],\n",
       "          [ 1,  1,  1,  1,  1],\n",
       "          [ 0,  1,  1,  1,  1],\n",
       "          [ 1,  1,  1,  1,  1],\n",
       "          [ 1,  1,  1,  1,  1]],\n",
       "\n",
       "         [[ 1,  1,  1,  1,  1],\n",
       "          [ 1,  1,  1,  1,  1],\n",
       "          [ 1,  1,  0,  1,  1],\n",
       "          [ 1,  1,  1,  1,  1],\n",
       "          [ 1,  1,  1,  1,  1]],\n",
       "\n",
       "         [[ 1,  1,  1,  1,  1],\n",
       "          [ 1,  1,  1,  1,  1],\n",
       "          [ 1,  1,  1,  1,  1],\n",
       "          [ 1,  1,  1,  1,  1],\n",
       "          [ 1,  1,  1,  1,  1]]],\n",
       "\n",
       "\n",
       "        [[[ 0,  1,  1,  0,  1],\n",
       "          [ 0,  0,  0,  0,  0],\n",
       "          [ 0,  0,  0,  0,  0],\n",
       "          [ 1,  1,  1,  1,  0],\n",
       "          [ 1,  1,  1,  1,  1]],\n",
       "\n",
       "         [[ 1,  1,  1,  1,  1],\n",
       "          [ 1,  1,  1,  1,  1],\n",
       "          [ 1,  1,  1,  1,  1],\n",
       "          [ 1,  1,  1,  1,  1],\n",
       "          [ 1,  1,  1,  1,  1]],\n",
       "\n",
       "         [[ 1,  1,  1,  1,  1],\n",
       "          [ 1,  1,  1,  1,  1],\n",
       "          [ 1,  1,  1,  1,  1],\n",
       "          [ 1,  1,  1,  1,  1],\n",
       "          [ 1,  1,  1,  1,  1]]],\n",
       "\n",
       "\n",
       "        [[[ 1,  1,  1,  1,  1],\n",
       "          [ 1,  1,  1,  1,  1],\n",
       "          [ 1,  1,  1,  1,  1],\n",
       "          [ 1,  1,  1,  1,  1],\n",
       "          [ 1,  1,  1,  1,  1]],\n",
       "\n",
       "         [[ 1,  1,  1,  1,  1],\n",
       "          [ 1,  1,  0,  0,  0],\n",
       "          [ 1,  1,  0,  0,  0],\n",
       "          [ 1,  1,  1,  1,  0],\n",
       "          [ 0,  0,  1,  1,  1]],\n",
       "\n",
       "         [[ 0,  0,  0,  0,  0],\n",
       "          [ 0,  0,  0,  0,  0],\n",
       "          [ 0,  0,  0,  0,  0],\n",
       "          [ 0,  0,  0,  0,  0],\n",
       "          [ 0,  0,  0,  0,  0]]]], dtype=torch.uint8, device='cuda:0')"
      ]
     },
     "execution_count": 262,
     "metadata": {},
     "output_type": "execute_result"
    }
   ],
   "source": [
    "snr[0] <= 1"
   ]
  },
  {
   "cell_type": "code",
   "execution_count": 263,
   "metadata": {},
   "outputs": [],
   "source": [
    "MODIFIED_SGD = True\n",
    "with torch.no_grad():\n",
    "    for p, g, s in zip(model.parameters(), grad, snr):                     \n",
    "        # average the grad                            \n",
    "        # this is the only line where the true gradient is touched\n",
    "        if MODIFIED_SGD:\n",
    "            p.grad = torch.where(s >= 1, g/n, s * g/n)          \n",
    "        else:\n",
    "            p.grad = g/n"
   ]
  },
  {
   "cell_type": "code",
   "execution_count": null,
   "metadata": {},
   "outputs": [],
   "source": []
  },
  {
   "cell_type": "code",
   "execution_count": 270,
   "metadata": {},
   "outputs": [
    {
     "name": "stdout",
     "output_type": "stream",
     "text": [
      "tensor(1.00000e-04 *\n",
      "       [[ 0.8778,  1.6197,  1.3887,  1.3856,  1.6049],\n",
      "        [-0.1749,  1.1892,  0.6802,  1.3186,  0.5109],\n",
      "        [-0.7057,  0.4674,  0.8066,  0.9285,  1.2018],\n",
      "        [ 1.6640,  0.2765,  0.0000,  0.0000,  1.2604],\n",
      "        [ 1.6990,  0.0000,  0.0000,  0.0000,  0.8007]], device='cuda:0')\n",
      "tensor([[ 0,  0,  0,  0,  0],\n",
      "        [ 0,  0,  0,  0,  0],\n",
      "        [ 0,  0,  0,  0,  0],\n",
      "        [ 0,  0,  1,  1,  0],\n",
      "        [ 0,  1,  1,  1,  0]], dtype=torch.uint8, device='cuda:0')\n",
      "tensor(1.00000e-04 *\n",
      "       1.8316, device='cuda:0')\n",
      "tensor(0, dtype=torch.uint8, device='cuda:0')\n",
      "tensor(1.00000e-04 *\n",
      "       [[-0.5109,  1.2412,  0.0627, -0.4502,  0.0000],\n",
      "        [-1.0690, -0.8075, -0.9945, -1.2674, -1.1157],\n",
      "        [ 0.0000,  0.0000, -0.3018,  0.0000, -0.8686],\n",
      "        [ 0.0000,  0.0000,  0.0000, -0.8874, -1.0082],\n",
      "        [-0.8841,  0.0000,  0.0000, -0.1907, -0.7022]], device='cuda:0')\n",
      "tensor([[ 0,  0,  0,  0,  1],\n",
      "        [ 0,  0,  0,  0,  0],\n",
      "        [ 1,  1,  0,  1,  0],\n",
      "        [ 1,  1,  1,  0,  0],\n",
      "        [ 0,  1,  1,  0,  0]], dtype=torch.uint8, device='cuda:0')\n",
      "tensor(1.00000e-04 *\n",
      "       -3.6155, device='cuda:0')\n",
      "tensor(0, dtype=torch.uint8, device='cuda:0')\n",
      "tensor(0., device='cuda:0')\n",
      "tensor(0, dtype=torch.uint8, device='cuda:0')\n",
      "tensor(0., device='cuda:0')\n",
      "tensor(0, dtype=torch.uint8, device='cuda:0')\n",
      "tensor(0., device='cuda:0')\n",
      "tensor(0, dtype=torch.uint8, device='cuda:0')\n",
      "tensor(0., device='cuda:0')\n",
      "tensor(1, dtype=torch.uint8, device='cuda:0')\n",
      "tensor(0., device='cuda:0')\n",
      "tensor(1, dtype=torch.uint8, device='cuda:0')\n",
      "tensor(1.00000e-03 *\n",
      "       -1.4431, device='cuda:0')\n",
      "tensor(0, dtype=torch.uint8, device='cuda:0')\n"
     ]
    },
    {
     "name": "stderr",
     "output_type": "stream",
     "text": [
      "/home/ansuini/.local/envs/pytorch/lib/python3.5/site-packages/ipykernel_launcher.py:7: UserWarning: invalid index of a 0-dim tensor. This will be an error in PyTorch 0.5. Use tensor.item() to convert a 0-dim tensor to a Python number\n",
      "  import sys\n",
      "/home/ansuini/.local/envs/pytorch/lib/python3.5/site-packages/ipykernel_launcher.py:8: UserWarning: invalid index of a 0-dim tensor. This will be an error in PyTorch 0.5. Use tensor.item() to convert a 0-dim tensor to a Python number\n",
      "  \n"
     ]
    }
   ],
   "source": [
    "with torch.no_grad():\n",
    "    for p, g, s in zip(model.parameters(), grad, snr):                     \n",
    "        a = ( (p.grad - g/n ).abs().cpu() > 0 ).numpy()\n",
    "        b = ( s.cpu() < 1 ).numpy()\n",
    "        \n",
    "        \n",
    "        print((p.grad - g/n)[0][0] )\n",
    "        print( (s >= 1)[0][0] ) \n",
    "        \n",
    "        "
   ]
  }
 ],
 "metadata": {
  "kernelspec": {
   "display_name": "PyTorch 0.4.0",
   "language": "python",
   "name": "pytorch"
  },
  "language_info": {
   "codemirror_mode": {
    "name": "ipython",
    "version": 3
   },
   "file_extension": ".py",
   "mimetype": "text/x-python",
   "name": "python",
   "nbconvert_exporter": "python",
   "pygments_lexer": "ipython3",
   "version": "3.5.2"
  }
 },
 "nbformat": 4,
 "nbformat_minor": 2
}
