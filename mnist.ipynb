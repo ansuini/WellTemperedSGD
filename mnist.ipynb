{
 "cells": [
  {
   "cell_type": "code",
   "execution_count": 4,
   "metadata": {},
   "outputs": [],
   "source": [
    "%reload_ext autoreload\n",
    "%autoreload 2\n",
    "%matplotlib inline"
   ]
  },
  {
   "cell_type": "markdown",
   "metadata": {},
   "source": [
    "### Choose Dataset"
   ]
  },
  {
   "cell_type": "code",
   "execution_count": 5,
   "metadata": {},
   "outputs": [],
   "source": [
    "DATASET = 'mnist'\n",
    "if DATASET     == 'mnist':\n",
    "    epochs     = 100\n",
    "    #lr         = 0.00004\n",
    "    lr         = 0.03\n",
    "    momentum   = 0.0    \n",
    "    mean_imgs  = 0.1307\n",
    "    std_imgs   = 0.3081\n",
    "    imgs_shape = (1,28,28)"
   ]
  },
  {
   "cell_type": "code",
   "execution_count": 6,
   "metadata": {},
   "outputs": [],
   "source": [
    "import os\n",
    "ROOT = '/home/ansuini/repos/WellTemperedSGD/'\n",
    "RES = os.path.join(ROOT,'results')"
   ]
  },
  {
   "cell_type": "code",
   "execution_count": 7,
   "metadata": {},
   "outputs": [],
   "source": [
    "from __future__ import print_function\n",
    "import argparse\n",
    "import torch\n",
    "import torch.nn as nn\n",
    "import torch.nn.functional as F\n",
    "import torch.optim as optim\n",
    "from torchvision import datasets, transforms\n",
    "from torch.autograd import Variable\n",
    "import torchvision\n",
    "from torchsummary import summary\n",
    "from tqdm import tqdm\n",
    "\n",
    "from mnist_archs import LeNet\n",
    "from wtsgd import *\n",
    "\n",
    "import pickle\n",
    "from time import time\n",
    "import numpy as np\n",
    "np.seed = 1101\n",
    "from matplotlib import pyplot as plt\n",
    "plt.style.use('ggplot')"
   ]
  },
  {
   "cell_type": "code",
   "execution_count": 8,
   "metadata": {},
   "outputs": [
    {
     "name": "stdout",
     "output_type": "stream",
     "text": [
      "{'num_workers': 2, 'pin_memory': True}\n"
     ]
    }
   ],
   "source": [
    "bs = 64\n",
    "device = torch.device(\"cuda:0\" if torch.cuda.is_available() else \"cpu\")\n",
    "kwargs = {'num_workers': 2, 'pin_memory': True} if device.type == 'cuda' else {}\n",
    "print(kwargs)"
   ]
  },
  {
   "cell_type": "code",
   "execution_count": 9,
   "metadata": {},
   "outputs": [],
   "source": [
    "train_loader = torch.utils.data.DataLoader(\n",
    "    datasets.MNIST(ROOT +  '/data/' + DATASET, train=True, download=True,\n",
    "                   transform=transforms.Compose([\n",
    "                       transforms.ToTensor(),\n",
    "                       transforms.Normalize((mean_imgs,), (std_imgs,))                                           \n",
    "                   ])),\n",
    "    batch_size=bs, shuffle=True, **kwargs)\n",
    "\n",
    "test_loader = torch.utils.data.DataLoader(\n",
    "    \n",
    "    datasets.MNIST(ROOT + '/data/' + DATASET, train=False, transform=transforms.Compose([\n",
    "                       transforms.ToTensor(),\n",
    "                       transforms.Normalize((mean_imgs,), (std_imgs,))                       \n",
    "                   ])),\n",
    "    batch_size=bs, shuffle=True, **kwargs)"
   ]
  },
  {
   "cell_type": "code",
   "execution_count": 10,
   "metadata": {},
   "outputs": [],
   "source": [
    "def imshow(img):\n",
    "    npimg = img.numpy()    \n",
    "    plt.imshow(np.transpose(npimg, (1, 2, 0)))\n",
    "    plt.xticks([])\n",
    "    plt.yticks([])"
   ]
  },
  {
   "cell_type": "code",
   "execution_count": 11,
   "metadata": {},
   "outputs": [
    {
     "name": "stderr",
     "output_type": "stream",
     "text": [
      "Clipping input data to the valid range for imshow with RGB data ([0..1] for floats or [0..255] for integers).\n"
     ]
    },
    {
     "name": "stdout",
     "output_type": "stream",
     "text": [
      "torch.Size([64, 1, 28, 28])\n"
     ]
    },
    {
     "data": {
      "image/png": "[encoded data removed]",
      "text/plain": [
       "<Figure size 432x288 with 1 Axes>"
      ]
     },
     "metadata": {},
     "output_type": "display_data"
    }
   ],
   "source": [
    "dataiter = iter(train_loader)\n",
    "images, labels = dataiter.next()\n",
    "imshow(torchvision.utils.make_grid(images))\n",
    "print(images.shape)"
   ]
  },
  {
   "cell_type": "markdown",
   "metadata": {},
   "source": [
    "### Check labelling\n",
    "\n",
    "Useful in case of random shuffling of labels"
   ]
  },
  {
   "cell_type": "code",
   "execution_count": 12,
   "metadata": {},
   "outputs": [
    {
     "data": {
      "image/png": "[encoded data removed]",
      "text/plain": [
       "<Figure size 432x288 with 9 Axes>"
      ]
     },
     "metadata": {},
     "output_type": "display_data"
    }
   ],
   "source": [
    "for i in range(9):\n",
    "    plt.subplot(3,3,i+1)\n",
    "    plt.imshow(images[i,0,:,:])\n",
    "    plt.xticks([])\n",
    "    plt.yticks([])\n",
    "    plt.title(labels[i].item())"
   ]
  },
  {
   "cell_type": "markdown",
   "metadata": {},
   "source": [
    "# Initialize network, optimizer and loss"
   ]
  },
  {
   "cell_type": "code",
   "execution_count": 13,
   "metadata": {},
   "outputs": [],
   "source": [
    "model = LeNet()\n",
    "model.to(device)\n",
    "optimizer = optim.SGD(model.parameters(), lr=lr, momentum=momentum)\n",
    "criterion = F.nll_loss"
   ]
  },
  {
   "cell_type": "code",
   "execution_count": 14,
   "metadata": {},
   "outputs": [
    {
     "name": "stdout",
     "output_type": "stream",
     "text": [
      "LeNet(\n",
      "  (conv1): Conv2d(1, 10, kernel_size=(5, 5), stride=(1, 1))\n",
      "  (conv2): Conv2d(10, 20, kernel_size=(5, 5), stride=(1, 1))\n",
      "  (fc1): Linear(in_features=320, out_features=50, bias=True)\n",
      "  (fc2): Linear(in_features=50, out_features=10, bias=True)\n",
      ")\n",
      "----------------------------------------------------------------\n",
      "        Layer (type)               Output Shape         Param #\n",
      "================================================================\n",
      "            Conv2d-1           [-1, 10, 24, 24]             260\n",
      "            Conv2d-2             [-1, 20, 8, 8]            5020\n",
      "            Linear-3                   [-1, 50]           16050\n",
      "            Linear-4                   [-1, 10]             510\n",
      "================================================================\n",
      "Total params: tensor(21840)\n",
      "Trainable params: tensor(21840)\n",
      "Non-trainable params: tensor(0)\n",
      "----------------------------------------------------------------\n",
      "None\n"
     ]
    }
   ],
   "source": [
    "print(model)\n",
    "print( summary(model, imgs_shape) )"
   ]
  },
  {
   "cell_type": "code",
   "execution_count": 15,
   "metadata": {},
   "outputs": [],
   "source": [
    "train_loss   = []\n",
    "train_acc    = []\n",
    "valid_loss   = []\n",
    "valid_acc    = []"
   ]
  },
  {
   "cell_type": "code",
   "execution_count": 16,
   "metadata": {},
   "outputs": [
    {
     "name": "stderr",
     "output_type": "stream",
     "text": [
      "  0%|          | 0/100 [00:00<?, ?it/s]"
     ]
    },
    {
     "name": "stdout",
     "output_type": "stream",
     "text": [
      "tensor(7, device='cuda:0')\n",
      "tensor(0, device='cuda:0')\n",
      "tensor(153, device='cuda:0')\n",
      "tensor(2, device='cuda:0')\n",
      "tensor(856, device='cuda:0')\n",
      "tensor(1, device='cuda:0')\n",
      "tensor(28, device='cuda:0')\n",
      "tensor(1, device='cuda:0')\n"
     ]
    },
    {
     "name": "stderr",
     "output_type": "stream",
     "text": [
      "  1%|          | 1/100 [00:07<12:31,  7.59s/it]"
     ]
    },
    {
     "name": "stdout",
     "output_type": "stream",
     "text": [
      "Test loss : 0.0366082 --- Test acc : 10.33 %\n",
      "tensor(4, device='cuda:0')\n",
      "tensor(0, device='cuda:0')\n",
      "tensor(165, device='cuda:0')\n",
      "tensor(0, device='cuda:0')\n",
      "tensor(898, device='cuda:0')\n",
      "tensor(1, device='cuda:0')\n",
      "tensor(12, device='cuda:0')\n",
      "tensor(0, device='cuda:0')\n"
     ]
    },
    {
     "name": "stderr",
     "output_type": "stream",
     "text": [
      "  2%|▏         | 2/100 [00:15<12:24,  7.60s/it]"
     ]
    },
    {
     "name": "stdout",
     "output_type": "stream",
     "text": [
      "Test loss : 0.0364911 --- Test acc : 10.37 %\n",
      "tensor(11, device='cuda:0')\n",
      "tensor(0, device='cuda:0')\n",
      "tensor(169, device='cuda:0')\n",
      "tensor(0, device='cuda:0')\n",
      "tensor(852, device='cuda:0')\n",
      "tensor(5, device='cuda:0')\n",
      "tensor(17, device='cuda:0')\n",
      "tensor(0, device='cuda:0')\n"
     ]
    },
    {
     "name": "stderr",
     "output_type": "stream",
     "text": [
      "  3%|▎         | 3/100 [00:22<12:17,  7.61s/it]"
     ]
    },
    {
     "name": "stdout",
     "output_type": "stream",
     "text": [
      "Test loss : 0.0364141 --- Test acc : 10.43 %\n",
      "tensor(10, device='cuda:0')\n",
      "tensor(0, device='cuda:0')\n",
      "tensor(175, device='cuda:0')\n",
      "tensor(0, device='cuda:0')\n",
      "tensor(801, device='cuda:0')\n",
      "tensor(3, device='cuda:0')\n",
      "tensor(20, device='cuda:0')\n",
      "tensor(1, device='cuda:0')\n"
     ]
    },
    {
     "name": "stderr",
     "output_type": "stream",
     "text": [
      "  4%|▍         | 4/100 [00:30<12:14,  7.65s/it]"
     ]
    },
    {
     "name": "stdout",
     "output_type": "stream",
     "text": [
      "Test loss : 0.0364542 --- Test acc : 10.28 %\n",
      "tensor(11, device='cuda:0')\n",
      "tensor(1, device='cuda:0')\n",
      "tensor(144, device='cuda:0')\n",
      "tensor(1, device='cuda:0')\n",
      "tensor(845, device='cuda:0')\n",
      "tensor(2, device='cuda:0')\n",
      "tensor(22, device='cuda:0')\n",
      "tensor(2, device='cuda:0')\n"
     ]
    },
    {
     "name": "stderr",
     "output_type": "stream",
     "text": [
      "  5%|▌         | 5/100 [00:38<12:03,  7.61s/it]"
     ]
    },
    {
     "name": "stdout",
     "output_type": "stream",
     "text": [
      "Test loss : 0.0363838 --- Test acc : 10.34 %\n",
      "tensor(7, device='cuda:0')\n",
      "tensor(0, device='cuda:0')\n",
      "tensor(155, device='cuda:0')\n",
      "tensor(1, device='cuda:0')\n",
      "tensor(870, device='cuda:0')\n",
      "tensor(3, device='cuda:0')\n",
      "tensor(19, device='cuda:0')\n",
      "tensor(1, device='cuda:0')\n"
     ]
    },
    {
     "name": "stderr",
     "output_type": "stream",
     "text": [
      "  6%|▌         | 6/100 [00:46<12:03,  7.70s/it]"
     ]
    },
    {
     "name": "stdout",
     "output_type": "stream",
     "text": [
      "Test loss : 0.0362489 --- Test acc : 10.46 %\n",
      "tensor(12, device='cuda:0')\n",
      "tensor(1, device='cuda:0')\n",
      "tensor(150, device='cuda:0')\n",
      "tensor(0, device='cuda:0')\n",
      "tensor(789, device='cuda:0')\n",
      "tensor(2, device='cuda:0')\n",
      "tensor(22, device='cuda:0')\n",
      "tensor(2, device='cuda:0')\n"
     ]
    },
    {
     "name": "stderr",
     "output_type": "stream",
     "text": [
      "  7%|▋         | 7/100 [00:53<11:55,  7.70s/it]"
     ]
    },
    {
     "name": "stdout",
     "output_type": "stream",
     "text": [
      "Test loss : 0.0360825 --- Test acc : 10.94 %\n",
      "tensor(14, device='cuda:0')\n",
      "tensor(0, device='cuda:0')\n",
      "tensor(163, device='cuda:0')\n",
      "tensor(0, device='cuda:0')\n",
      "tensor(755, device='cuda:0')\n",
      "tensor(1, device='cuda:0')\n",
      "tensor(14, device='cuda:0')\n",
      "tensor(2, device='cuda:0')\n"
     ]
    },
    {
     "name": "stderr",
     "output_type": "stream",
     "text": [
      "  8%|▊         | 8/100 [01:01<11:45,  7.67s/it]"
     ]
    },
    {
     "name": "stdout",
     "output_type": "stream",
     "text": [
      "Test loss : 0.0358814 --- Test acc : 17.48 %\n",
      "tensor(12, device='cuda:0')\n",
      "tensor(1, device='cuda:0')\n",
      "tensor(159, device='cuda:0')\n",
      "tensor(2, device='cuda:0')\n",
      "tensor(986, device='cuda:0')\n",
      "tensor(2, device='cuda:0')\n",
      "tensor(20, device='cuda:0')\n",
      "tensor(1, device='cuda:0')\n"
     ]
    },
    {
     "name": "stderr",
     "output_type": "stream",
     "text": [
      "  9%|▉         | 9/100 [01:09<11:38,  7.68s/it]"
     ]
    },
    {
     "name": "stdout",
     "output_type": "stream",
     "text": [
      "Test loss : 0.0358194 --- Test acc : 15.93 %\n",
      "tensor(11, device='cuda:0')\n",
      "tensor(2, device='cuda:0')\n",
      "tensor(171, device='cuda:0')\n",
      "tensor(3, device='cuda:0')\n",
      "tensor(922, device='cuda:0')\n",
      "tensor(4, device='cuda:0')\n",
      "tensor(18, device='cuda:0')\n",
      "tensor(1, device='cuda:0')\n"
     ]
    },
    {
     "name": "stderr",
     "output_type": "stream",
     "text": [
      " 10%|█         | 10/100 [01:16<11:29,  7.66s/it]"
     ]
    },
    {
     "name": "stdout",
     "output_type": "stream",
     "text": [
      "Test loss : 0.0357047 --- Test acc : 19.79 %\n",
      "tensor(6, device='cuda:0')\n",
      "tensor(1, device='cuda:0')\n",
      "tensor(152, device='cuda:0')\n",
      "tensor(2, device='cuda:0')\n",
      "tensor(769, device='cuda:0')\n",
      "tensor(1, device='cuda:0')\n",
      "tensor(21, device='cuda:0')\n",
      "tensor(1, device='cuda:0')\n"
     ]
    },
    {
     "name": "stderr",
     "output_type": "stream",
     "text": [
      " 11%|█         | 11/100 [01:24<11:22,  7.67s/it]"
     ]
    },
    {
     "name": "stdout",
     "output_type": "stream",
     "text": [
      "Test loss : 0.0356446 --- Test acc : 23.2 %\n",
      "tensor(7, device='cuda:0')\n",
      "tensor(0, device='cuda:0')\n",
      "tensor(147, device='cuda:0')\n",
      "tensor(2, device='cuda:0')\n",
      "tensor(738, device='cuda:0')\n",
      "tensor(2, device='cuda:0')\n",
      "tensor(16, device='cuda:0')\n",
      "tensor(1, device='cuda:0')\n"
     ]
    },
    {
     "name": "stderr",
     "output_type": "stream",
     "text": [
      " 12%|█▏        | 12/100 [01:31<11:14,  7.66s/it]"
     ]
    },
    {
     "name": "stdout",
     "output_type": "stream",
     "text": [
      "Test loss : 0.0355368 --- Test acc : 18.1 %\n",
      "tensor(6, device='cuda:0')\n",
      "tensor(0, device='cuda:0')\n",
      "tensor(179, device='cuda:0')\n",
      "tensor(0, device='cuda:0')\n",
      "tensor(962, device='cuda:0')\n",
      "tensor(3, device='cuda:0')\n",
      "tensor(20, device='cuda:0')\n",
      "tensor(0, device='cuda:0')\n"
     ]
    },
    {
     "name": "stderr",
     "output_type": "stream",
     "text": [
      " 13%|█▎        | 13/100 [01:39<11:07,  7.67s/it]"
     ]
    },
    {
     "name": "stdout",
     "output_type": "stream",
     "text": [
      "Test loss : 0.0354449 --- Test acc : 19.74 %\n",
      "tensor(7, device='cuda:0')\n",
      "tensor(0, device='cuda:0')\n",
      "tensor(156, device='cuda:0')\n",
      "tensor(1, device='cuda:0')\n",
      "tensor(1017, device='cuda:0')\n",
      "tensor(3, device='cuda:0')\n",
      "tensor(10, device='cuda:0')\n",
      "tensor(0, device='cuda:0')\n"
     ]
    },
    {
     "name": "stderr",
     "output_type": "stream",
     "text": [
      " 14%|█▍        | 14/100 [01:47<10:59,  7.67s/it]"
     ]
    },
    {
     "name": "stdout",
     "output_type": "stream",
     "text": [
      "Test loss : 0.035372 --- Test acc : 18.97 %\n",
      "tensor(7, device='cuda:0')\n",
      "tensor(0, device='cuda:0')\n",
      "tensor(148, device='cuda:0')\n",
      "tensor(1, device='cuda:0')\n",
      "tensor(955, device='cuda:0')\n",
      "tensor(2, device='cuda:0')\n",
      "tensor(16, device='cuda:0')\n",
      "tensor(0, device='cuda:0')\n"
     ]
    },
    {
     "name": "stderr",
     "output_type": "stream",
     "text": [
      " 15%|█▌        | 15/100 [01:54<10:51,  7.66s/it]"
     ]
    },
    {
     "name": "stdout",
     "output_type": "stream",
     "text": [
      "Test loss : 0.0352819 --- Test acc : 18.73 %\n",
      "tensor(5, device='cuda:0')\n",
      "tensor(0, device='cuda:0')\n",
      "tensor(161, device='cuda:0')\n",
      "tensor(1, device='cuda:0')\n",
      "tensor(993, device='cuda:0')\n",
      "tensor(3, device='cuda:0')\n",
      "tensor(16, device='cuda:0')\n",
      "tensor(0, device='cuda:0')\n"
     ]
    },
    {
     "name": "stderr",
     "output_type": "stream",
     "text": [
      " 16%|█▌        | 16/100 [02:02<10:43,  7.67s/it]"
     ]
    },
    {
     "name": "stdout",
     "output_type": "stream",
     "text": [
      "Test loss : 0.0351568 --- Test acc : 25.24 %\n",
      "tensor(2, device='cuda:0')\n",
      "tensor(0, device='cuda:0')\n",
      "tensor(173, device='cuda:0')\n",
      "tensor(1, device='cuda:0')\n",
      "tensor(1050, device='cuda:0')\n",
      "tensor(7, device='cuda:0')\n",
      "tensor(23, device='cuda:0')\n",
      "tensor(0, device='cuda:0')\n"
     ]
    },
    {
     "name": "stderr",
     "output_type": "stream",
     "text": [
      " 17%|█▋        | 17/100 [02:10<10:37,  7.68s/it]"
     ]
    },
    {
     "name": "stdout",
     "output_type": "stream",
     "text": [
      "Test loss : 0.0350862 --- Test acc : 26.38 %\n",
      "tensor(5, device='cuda:0')\n",
      "tensor(0, device='cuda:0')\n",
      "tensor(167, device='cuda:0')\n",
      "tensor(3, device='cuda:0')\n",
      "tensor(861, device='cuda:0')\n",
      "tensor(5, device='cuda:0')\n",
      "tensor(24, device='cuda:0')\n",
      "tensor(0, device='cuda:0')\n"
     ]
    },
    {
     "name": "stderr",
     "output_type": "stream",
     "text": [
      " 18%|█▊        | 18/100 [02:19<10:34,  7.73s/it]"
     ]
    },
    {
     "name": "stdout",
     "output_type": "stream",
     "text": [
      "Test loss : 0.0349776 --- Test acc : 26.38 %\n",
      "tensor(3, device='cuda:0')\n",
      "tensor(0, device='cuda:0')\n",
      "tensor(164, device='cuda:0')\n",
      "tensor(1, device='cuda:0')\n",
      "tensor(1122, device='cuda:0')\n",
      "tensor(5, device='cuda:0')\n",
      "tensor(24, device='cuda:0')\n",
      "tensor(0, device='cuda:0')\n"
     ]
    },
    {
     "name": "stderr",
     "output_type": "stream",
     "text": [
      " 19%|█▉        | 19/100 [02:27<10:27,  7.74s/it]"
     ]
    },
    {
     "name": "stdout",
     "output_type": "stream",
     "text": [
      "Test loss : 0.0348517 --- Test acc : 30.29 %\n",
      "tensor(3, device='cuda:0')\n",
      "tensor(0, device='cuda:0')\n",
      "tensor(156, device='cuda:0')\n",
      "tensor(0, device='cuda:0')\n",
      "tensor(1018, device='cuda:0')\n",
      "tensor(4, device='cuda:0')\n",
      "tensor(18, device='cuda:0')\n",
      "tensor(0, device='cuda:0')\n"
     ]
    },
    {
     "name": "stderr",
     "output_type": "stream",
     "text": [
      " 20%|██        | 20/100 [02:35<10:21,  7.77s/it]"
     ]
    },
    {
     "name": "stdout",
     "output_type": "stream",
     "text": [
      "Test loss : 0.0347162 --- Test acc : 30.95 %\n",
      "tensor(6, device='cuda:0')\n",
      "tensor(0, device='cuda:0')\n",
      "tensor(132, device='cuda:0')\n",
      "tensor(0, device='cuda:0')\n",
      "tensor(1069, device='cuda:0')\n",
      "tensor(3, device='cuda:0')\n",
      "tensor(24, device='cuda:0')\n",
      "tensor(0, device='cuda:0')\n"
     ]
    },
    {
     "name": "stderr",
     "output_type": "stream",
     "text": [
      " 21%|██        | 21/100 [02:43<10:15,  7.79s/it]"
     ]
    },
    {
     "name": "stdout",
     "output_type": "stream",
     "text": [
      "Test loss : 0.0346404 --- Test acc : 25.67 %\n",
      "tensor(4, device='cuda:0')\n",
      "tensor(0, device='cuda:0')\n",
      "tensor(177, device='cuda:0')\n",
      "tensor(1, device='cuda:0')\n",
      "tensor(1053, device='cuda:0')\n",
      "tensor(4, device='cuda:0')\n",
      "tensor(18, device='cuda:0')\n",
      "tensor(1, device='cuda:0')\n"
     ]
    },
    {
     "name": "stderr",
     "output_type": "stream",
     "text": [
      " 22%|██▏       | 22/100 [02:51<10:07,  7.78s/it]"
     ]
    },
    {
     "name": "stdout",
     "output_type": "stream",
     "text": [
      "Test loss : 0.0344904 --- Test acc : 30.77 %\n",
      "tensor(10, device='cuda:0')\n",
      "tensor(0, device='cuda:0')\n",
      "tensor(163, device='cuda:0')\n",
      "tensor(0, device='cuda:0')\n",
      "tensor(851, device='cuda:0')\n",
      "tensor(2, device='cuda:0')\n",
      "tensor(24, device='cuda:0')\n",
      "tensor(2, device='cuda:0')\n"
     ]
    },
    {
     "name": "stderr",
     "output_type": "stream",
     "text": [
      " 23%|██▎       | 23/100 [02:59<09:59,  7.79s/it]"
     ]
    },
    {
     "name": "stdout",
     "output_type": "stream",
     "text": [
      "Test loss : 0.0343204 --- Test acc : 34.84 %\n",
      "tensor(6, device='cuda:0')\n",
      "tensor(0, device='cuda:0')\n",
      "tensor(149, device='cuda:0')\n",
      "tensor(1, device='cuda:0')\n",
      "tensor(951, device='cuda:0')\n",
      "tensor(4, device='cuda:0')\n",
      "tensor(15, device='cuda:0')\n",
      "tensor(2, device='cuda:0')\n"
     ]
    },
    {
     "name": "stderr",
     "output_type": "stream",
     "text": [
      " 24%|██▍       | 24/100 [03:07<09:53,  7.81s/it]"
     ]
    },
    {
     "name": "stdout",
     "output_type": "stream",
     "text": [
      "Test loss : 0.0341987 --- Test acc : 33.36 %\n",
      "tensor(3, device='cuda:0')\n",
      "tensor(0, device='cuda:0')\n",
      "tensor(167, device='cuda:0')\n",
      "tensor(0, device='cuda:0')\n",
      "tensor(1021, device='cuda:0')\n",
      "tensor(3, device='cuda:0')\n",
      "tensor(23, device='cuda:0')\n",
      "tensor(0, device='cuda:0')\n"
     ]
    },
    {
     "name": "stderr",
     "output_type": "stream",
     "text": [
      " 25%|██▌       | 25/100 [03:15<09:45,  7.81s/it]"
     ]
    },
    {
     "name": "stdout",
     "output_type": "stream",
     "text": [
      "Test loss : 0.0339996 --- Test acc : 36.81 %\n",
      "tensor(7, device='cuda:0')\n",
      "tensor(0, device='cuda:0')\n",
      "tensor(165, device='cuda:0')\n",
      "tensor(1, device='cuda:0')\n",
      "tensor(1006, device='cuda:0')\n",
      "tensor(4, device='cuda:0')\n",
      "tensor(24, device='cuda:0')\n",
      "tensor(0, device='cuda:0')\n"
     ]
    },
    {
     "name": "stderr",
     "output_type": "stream",
     "text": [
      " 26%|██▌       | 26/100 [03:22<09:37,  7.80s/it]"
     ]
    },
    {
     "name": "stdout",
     "output_type": "stream",
     "text": [
      "Test loss : 0.0338925 --- Test acc : 34.67 %\n",
      "tensor(6, device='cuda:0')\n",
      "tensor(0, device='cuda:0')\n",
      "tensor(159, device='cuda:0')\n",
      "tensor(1, device='cuda:0')\n",
      "tensor(1074, device='cuda:0')\n",
      "tensor(4, device='cuda:0')\n",
      "tensor(29, device='cuda:0')\n",
      "tensor(0, device='cuda:0')\n"
     ]
    },
    {
     "name": "stderr",
     "output_type": "stream",
     "text": [
      " 27%|██▋       | 27/100 [03:30<09:29,  7.81s/it]"
     ]
    },
    {
     "name": "stdout",
     "output_type": "stream",
     "text": [
      "Test loss : 0.033781 --- Test acc : 31.65 %\n",
      "tensor(2, device='cuda:0')\n",
      "tensor(0, device='cuda:0')\n",
      "tensor(148, device='cuda:0')\n",
      "tensor(0, device='cuda:0')\n",
      "tensor(1088, device='cuda:0')\n",
      "tensor(4, device='cuda:0')\n",
      "tensor(26, device='cuda:0')\n",
      "tensor(0, device='cuda:0')\n"
     ]
    },
    {
     "name": "stderr",
     "output_type": "stream",
     "text": [
      " 28%|██▊       | 28/100 [03:38<09:22,  7.81s/it]"
     ]
    },
    {
     "name": "stdout",
     "output_type": "stream",
     "text": [
      "Test loss : 0.033659 --- Test acc : 43.02 %\n",
      "tensor(5, device='cuda:0')\n",
      "tensor(0, device='cuda:0')\n",
      "tensor(158, device='cuda:0')\n",
      "tensor(1, device='cuda:0')\n",
      "tensor(1002, device='cuda:0')\n",
      "tensor(3, device='cuda:0')\n",
      "tensor(20, device='cuda:0')\n",
      "tensor(0, device='cuda:0')\n"
     ]
    },
    {
     "name": "stderr",
     "output_type": "stream",
     "text": [
      " 29%|██▉       | 29/100 [03:46<09:14,  7.81s/it]"
     ]
    },
    {
     "name": "stdout",
     "output_type": "stream",
     "text": [
      "Test loss : 0.0333802 --- Test acc : 41.44 %\n",
      "tensor(6, device='cuda:0')\n",
      "tensor(0, device='cuda:0')\n",
      "tensor(154, device='cuda:0')\n",
      "tensor(0, device='cuda:0')\n",
      "tensor(1059, device='cuda:0')\n",
      "tensor(7, device='cuda:0')\n",
      "tensor(28, device='cuda:0')\n",
      "tensor(1, device='cuda:0')\n"
     ]
    },
    {
     "name": "stderr",
     "output_type": "stream",
     "text": [
      " 30%|███       | 30/100 [03:54<09:06,  7.80s/it]"
     ]
    },
    {
     "name": "stdout",
     "output_type": "stream",
     "text": [
      "Test loss : 0.0331895 --- Test acc : 35.12 %\n",
      "tensor(4, device='cuda:0')\n",
      "tensor(0, device='cuda:0')\n",
      "tensor(148, device='cuda:0')\n",
      "tensor(1, device='cuda:0')\n",
      "tensor(1048, device='cuda:0')\n",
      "tensor(4, device='cuda:0')\n",
      "tensor(26, device='cuda:0')\n",
      "tensor(0, device='cuda:0')\n"
     ]
    },
    {
     "name": "stderr",
     "output_type": "stream",
     "text": [
      " 31%|███       | 31/100 [04:01<08:57,  7.79s/it]"
     ]
    },
    {
     "name": "stdout",
     "output_type": "stream",
     "text": [
      "Test loss : 0.0329455 --- Test acc : 34.56 %\n",
      "tensor(3, device='cuda:0')\n",
      "tensor(0, device='cuda:0')\n",
      "tensor(148, device='cuda:0')\n",
      "tensor(0, device='cuda:0')\n",
      "tensor(1133, device='cuda:0')\n",
      "tensor(4, device='cuda:0')\n",
      "tensor(24, device='cuda:0')\n",
      "tensor(1, device='cuda:0')\n"
     ]
    },
    {
     "name": "stderr",
     "output_type": "stream",
     "text": [
      " 32%|███▏      | 32/100 [04:10<08:51,  7.81s/it]"
     ]
    },
    {
     "name": "stdout",
     "output_type": "stream",
     "text": [
      "Test loss : 0.0327141 --- Test acc : 38.01 %\n",
      "tensor(2, device='cuda:0')\n",
      "tensor(0, device='cuda:0')\n",
      "tensor(136, device='cuda:0')\n",
      "tensor(2, device='cuda:0')\n",
      "tensor(1131, device='cuda:0')\n",
      "tensor(3, device='cuda:0')\n",
      "tensor(23, device='cuda:0')\n",
      "tensor(0, device='cuda:0')\n"
     ]
    },
    {
     "name": "stderr",
     "output_type": "stream",
     "text": [
      " 33%|███▎      | 33/100 [04:17<08:43,  7.82s/it]"
     ]
    },
    {
     "name": "stdout",
     "output_type": "stream",
     "text": [
      "Test loss : 0.0324825 --- Test acc : 40.82 %\n",
      "tensor(1, device='cuda:0')\n",
      "tensor(0, device='cuda:0')\n",
      "tensor(119, device='cuda:0')\n",
      "tensor(0, device='cuda:0')\n",
      "tensor(1096, device='cuda:0')\n",
      "tensor(4, device='cuda:0')\n",
      "tensor(20, device='cuda:0')\n",
      "tensor(0, device='cuda:0')\n"
     ]
    },
    {
     "name": "stderr",
     "output_type": "stream",
     "text": [
      " 34%|███▍      | 34/100 [04:26<08:36,  7.83s/it]"
     ]
    },
    {
     "name": "stdout",
     "output_type": "stream",
     "text": [
      "Test loss : 0.0321911 --- Test acc : 47.37 %\n",
      "tensor(3, device='cuda:0')\n",
      "tensor(0, device='cuda:0')\n",
      "tensor(146, device='cuda:0')\n",
      "tensor(0, device='cuda:0')\n",
      "tensor(1115, device='cuda:0')\n",
      "tensor(3, device='cuda:0')\n",
      "tensor(22, device='cuda:0')\n",
      "tensor(1, device='cuda:0')\n"
     ]
    },
    {
     "name": "stderr",
     "output_type": "stream",
     "text": [
      " 35%|███▌      | 35/100 [04:34<08:29,  7.84s/it]"
     ]
    },
    {
     "name": "stdout",
     "output_type": "stream",
     "text": [
      "Test loss : 0.0319197 --- Test acc : 52.46 %\n",
      "tensor(2, device='cuda:0')\n",
      "tensor(0, device='cuda:0')\n",
      "tensor(124, device='cuda:0')\n",
      "tensor(1, device='cuda:0')\n",
      "tensor(1077, device='cuda:0')\n",
      "tensor(4, device='cuda:0')\n",
      "tensor(21, device='cuda:0')\n",
      "tensor(0, device='cuda:0')\n"
     ]
    },
    {
     "name": "stderr",
     "output_type": "stream",
     "text": [
      " 36%|███▌      | 36/100 [04:42<08:21,  7.84s/it]"
     ]
    },
    {
     "name": "stdout",
     "output_type": "stream",
     "text": [
      "Test loss : 0.0317337 --- Test acc : 47.93 %\n",
      "tensor(2, device='cuda:0')\n",
      "tensor(0, device='cuda:0')\n",
      "tensor(128, device='cuda:0')\n",
      "tensor(2, device='cuda:0')\n",
      "tensor(867, device='cuda:0')\n",
      "tensor(3, device='cuda:0')\n",
      "tensor(17, device='cuda:0')\n",
      "tensor(0, device='cuda:0')\n"
     ]
    },
    {
     "name": "stderr",
     "output_type": "stream",
     "text": [
      " 37%|███▋      | 37/100 [04:50<08:13,  7.84s/it]"
     ]
    },
    {
     "name": "stdout",
     "output_type": "stream",
     "text": [
      "Test loss : 0.0313623 --- Test acc : 47.31 %\n",
      "tensor(2, device='cuda:0')\n",
      "tensor(0, device='cuda:0')\n",
      "tensor(136, device='cuda:0')\n",
      "tensor(1, device='cuda:0')\n",
      "tensor(894, device='cuda:0')\n",
      "tensor(4, device='cuda:0')\n",
      "tensor(19, device='cuda:0')\n",
      "tensor(0, device='cuda:0')\n"
     ]
    },
    {
     "name": "stderr",
     "output_type": "stream",
     "text": [
      " 38%|███▊      | 38/100 [04:58<08:06,  7.84s/it]"
     ]
    },
    {
     "name": "stdout",
     "output_type": "stream",
     "text": [
      "Test loss : 0.0310491 --- Test acc : 51.32 %\n",
      "tensor(3, device='cuda:0')\n",
      "tensor(0, device='cuda:0')\n",
      "tensor(145, device='cuda:0')\n",
      "tensor(1, device='cuda:0')\n",
      "tensor(805, device='cuda:0')\n",
      "tensor(2, device='cuda:0')\n",
      "tensor(14, device='cuda:0')\n",
      "tensor(1, device='cuda:0')\n"
     ]
    },
    {
     "name": "stderr",
     "output_type": "stream",
     "text": [
      " 39%|███▉      | 39/100 [05:06<07:59,  7.86s/it]"
     ]
    },
    {
     "name": "stdout",
     "output_type": "stream",
     "text": [
      "Test loss : 0.0305714 --- Test acc : 49.81 %\n",
      "tensor(3, device='cuda:0')\n",
      "tensor(0, device='cuda:0')\n",
      "tensor(147, device='cuda:0')\n",
      "tensor(1, device='cuda:0')\n",
      "tensor(834, device='cuda:0')\n",
      "tensor(3, device='cuda:0')\n",
      "tensor(25, device='cuda:0')\n",
      "tensor(2, device='cuda:0')\n"
     ]
    },
    {
     "name": "stderr",
     "output_type": "stream",
     "text": [
      " 40%|████      | 40/100 [05:14<07:51,  7.86s/it]"
     ]
    },
    {
     "name": "stdout",
     "output_type": "stream",
     "text": [
      "Test loss : 0.0301956 --- Test acc : 53.11 %\n",
      "tensor(4, device='cuda:0')\n",
      "tensor(0, device='cuda:0')\n",
      "tensor(130, device='cuda:0')\n",
      "tensor(1, device='cuda:0')\n",
      "tensor(608, device='cuda:0')\n",
      "tensor(0, device='cuda:0')\n",
      "tensor(17, device='cuda:0')\n",
      "tensor(0, device='cuda:0')\n"
     ]
    },
    {
     "name": "stderr",
     "output_type": "stream",
     "text": [
      " 41%|████      | 41/100 [05:22<07:44,  7.87s/it]"
     ]
    },
    {
     "name": "stdout",
     "output_type": "stream",
     "text": [
      "Test loss : 0.0298806 --- Test acc : 42.28 %\n",
      "tensor(4, device='cuda:0')\n",
      "tensor(0, device='cuda:0')\n",
      "tensor(117, device='cuda:0')\n",
      "tensor(0, device='cuda:0')\n",
      "tensor(791, device='cuda:0')\n",
      "tensor(1, device='cuda:0')\n",
      "tensor(19, device='cuda:0')\n",
      "tensor(1, device='cuda:0')\n"
     ]
    },
    {
     "name": "stderr",
     "output_type": "stream",
     "text": [
      " 42%|████▏     | 42/100 [05:30<07:36,  7.86s/it]"
     ]
    },
    {
     "name": "stdout",
     "output_type": "stream",
     "text": [
      "Test loss : 0.029366 --- Test acc : 49.83 %\n",
      "tensor(2, device='cuda:0')\n",
      "tensor(0, device='cuda:0')\n",
      "tensor(121, device='cuda:0')\n",
      "tensor(1, device='cuda:0')\n",
      "tensor(551, device='cuda:0')\n",
      "tensor(3, device='cuda:0')\n",
      "tensor(12, device='cuda:0')\n",
      "tensor(0, device='cuda:0')\n"
     ]
    },
    {
     "name": "stderr",
     "output_type": "stream",
     "text": [
      " 43%|████▎     | 43/100 [05:38<07:28,  7.87s/it]"
     ]
    },
    {
     "name": "stdout",
     "output_type": "stream",
     "text": [
      "Test loss : 0.0286134 --- Test acc : 56 %\n",
      "tensor(2, device='cuda:0')\n",
      "tensor(0, device='cuda:0')\n",
      "tensor(124, device='cuda:0')\n",
      "tensor(0, device='cuda:0')\n",
      "tensor(534, device='cuda:0')\n",
      "tensor(2, device='cuda:0')\n",
      "tensor(15, device='cuda:0')\n",
      "tensor(0, device='cuda:0')\n"
     ]
    },
    {
     "name": "stderr",
     "output_type": "stream",
     "text": [
      " 44%|████▍     | 44/100 [05:46<07:21,  7.88s/it]"
     ]
    },
    {
     "name": "stdout",
     "output_type": "stream",
     "text": [
      "Test loss : 0.0277628 --- Test acc : 55.29 %\n",
      "tensor(2, device='cuda:0')\n",
      "tensor(0, device='cuda:0')\n",
      "tensor(125, device='cuda:0')\n",
      "tensor(1, device='cuda:0')\n",
      "tensor(591, device='cuda:0')\n",
      "tensor(1, device='cuda:0')\n",
      "tensor(19, device='cuda:0')\n",
      "tensor(1, device='cuda:0')\n"
     ]
    },
    {
     "name": "stderr",
     "output_type": "stream",
     "text": [
      " 45%|████▌     | 45/100 [05:54<07:13,  7.89s/it]"
     ]
    },
    {
     "name": "stdout",
     "output_type": "stream",
     "text": [
      "Test loss : 0.0272732 --- Test acc : 61.72 %\n",
      "tensor(4, device='cuda:0')\n",
      "tensor(0, device='cuda:0')\n",
      "tensor(133, device='cuda:0')\n",
      "tensor(1, device='cuda:0')\n",
      "tensor(542, device='cuda:0')\n",
      "tensor(2, device='cuda:0')\n",
      "tensor(16, device='cuda:0')\n",
      "tensor(0, device='cuda:0')\n"
     ]
    },
    {
     "name": "stderr",
     "output_type": "stream",
     "text": [
      " 46%|████▌     | 46/100 [06:02<07:06,  7.89s/it]"
     ]
    },
    {
     "name": "stdout",
     "output_type": "stream",
     "text": [
      "Test loss : 0.0267261 --- Test acc : 53.09 %\n",
      "tensor(4, device='cuda:0')\n",
      "tensor(0, device='cuda:0')\n",
      "tensor(111, device='cuda:0')\n",
      "tensor(1, device='cuda:0')\n",
      "tensor(506, device='cuda:0')\n",
      "tensor(2, device='cuda:0')\n",
      "tensor(19, device='cuda:0')\n",
      "tensor(1, device='cuda:0')\n"
     ]
    },
    {
     "name": "stderr",
     "output_type": "stream",
     "text": [
      " 47%|████▋     | 47/100 [06:11<06:58,  7.90s/it]"
     ]
    },
    {
     "name": "stdout",
     "output_type": "stream",
     "text": [
      "Test loss : 0.0261407 --- Test acc : 55.98 %\n",
      "tensor(4, device='cuda:0')\n",
      "tensor(0, device='cuda:0')\n",
      "tensor(95, device='cuda:0')\n",
      "tensor(0, device='cuda:0')\n",
      "tensor(499, device='cuda:0')\n",
      "tensor(3, device='cuda:0')\n",
      "tensor(24, device='cuda:0')\n",
      "tensor(0, device='cuda:0')\n"
     ]
    },
    {
     "name": "stderr",
     "output_type": "stream",
     "text": [
      " 48%|████▊     | 48/100 [06:19<06:50,  7.90s/it]"
     ]
    },
    {
     "name": "stdout",
     "output_type": "stream",
     "text": [
      "Test loss : 0.0251757 --- Test acc : 63.39 %\n",
      "tensor(1, device='cuda:0')\n",
      "tensor(0, device='cuda:0')\n",
      "tensor(99, device='cuda:0')\n",
      "tensor(0, device='cuda:0')\n",
      "tensor(576, device='cuda:0')\n",
      "tensor(4, device='cuda:0')\n",
      "tensor(11, device='cuda:0')\n",
      "tensor(0, device='cuda:0')\n"
     ]
    },
    {
     "name": "stderr",
     "output_type": "stream",
     "text": [
      " 49%|████▉     | 49/100 [06:27<06:42,  7.90s/it]"
     ]
    },
    {
     "name": "stdout",
     "output_type": "stream",
     "text": [
      "Test loss : 0.0247393 --- Test acc : 57.15 %\n",
      "tensor(1, device='cuda:0')\n",
      "tensor(0, device='cuda:0')\n",
      "tensor(115, device='cuda:0')\n",
      "tensor(1, device='cuda:0')\n",
      "tensor(600, device='cuda:0')\n",
      "tensor(3, device='cuda:0')\n",
      "tensor(21, device='cuda:0')\n",
      "tensor(1, device='cuda:0')\n"
     ]
    },
    {
     "name": "stderr",
     "output_type": "stream",
     "text": [
      " 50%|█████     | 50/100 [06:35<06:35,  7.91s/it]"
     ]
    },
    {
     "name": "stdout",
     "output_type": "stream",
     "text": [
      "Test loss : 0.0241665 --- Test acc : 56.62 %\n",
      "tensor(5, device='cuda:0')\n",
      "tensor(0, device='cuda:0')\n",
      "tensor(111, device='cuda:0')\n",
      "tensor(1, device='cuda:0')\n",
      "tensor(431, device='cuda:0')\n",
      "tensor(2, device='cuda:0')\n",
      "tensor(19, device='cuda:0')\n",
      "tensor(0, device='cuda:0')\n"
     ]
    },
    {
     "name": "stderr",
     "output_type": "stream",
     "text": [
      " 51%|█████     | 51/100 [06:43<06:27,  7.90s/it]"
     ]
    },
    {
     "name": "stdout",
     "output_type": "stream",
     "text": [
      "Test loss : 0.0256036 --- Test acc : 41.88 %\n",
      "tensor(0, device='cuda:0')\n",
      "tensor(0, device='cuda:0')\n",
      "tensor(54, device='cuda:0')\n",
      "tensor(1, device='cuda:0')\n",
      "tensor(511, device='cuda:0')\n",
      "tensor(1, device='cuda:0')\n",
      "tensor(19, device='cuda:0')\n",
      "tensor(0, device='cuda:0')\n"
     ]
    },
    {
     "name": "stderr",
     "output_type": "stream",
     "text": [
      " 52%|█████▏    | 52/100 [06:51<06:19,  7.91s/it]"
     ]
    },
    {
     "name": "stdout",
     "output_type": "stream",
     "text": [
      "Test loss : 0.0248961 --- Test acc : 49.42 %\n",
      "tensor(2, device='cuda:0')\n",
      "tensor(0, device='cuda:0')\n",
      "tensor(81, device='cuda:0')\n",
      "tensor(1, device='cuda:0')\n",
      "tensor(402, device='cuda:0')\n",
      "tensor(0, device='cuda:0')\n",
      "tensor(4, device='cuda:0')\n",
      "tensor(0, device='cuda:0')\n"
     ]
    },
    {
     "name": "stderr",
     "output_type": "stream",
     "text": [
      " 53%|█████▎    | 53/100 [06:59<06:11,  7.91s/it]"
     ]
    },
    {
     "name": "stdout",
     "output_type": "stream",
     "text": [
      "Test loss : 0.0218142 --- Test acc : 68.29 %\n",
      "tensor(2, device='cuda:0')\n",
      "tensor(0, device='cuda:0')\n",
      "tensor(98, device='cuda:0')\n",
      "tensor(0, device='cuda:0')\n",
      "tensor(542, device='cuda:0')\n",
      "tensor(2, device='cuda:0')\n",
      "tensor(20, device='cuda:0')\n",
      "tensor(0, device='cuda:0')\n"
     ]
    },
    {
     "name": "stderr",
     "output_type": "stream",
     "text": [
      " 54%|█████▍    | 54/100 [07:07<06:03,  7.91s/it]"
     ]
    },
    {
     "name": "stdout",
     "output_type": "stream",
     "text": [
      "Test loss : 0.0214698 --- Test acc : 59.26 %\n",
      "tensor(2, device='cuda:0')\n",
      "tensor(0, device='cuda:0')\n",
      "tensor(100, device='cuda:0')\n",
      "tensor(1, device='cuda:0')\n",
      "tensor(456, device='cuda:0')\n",
      "tensor(1, device='cuda:0')\n",
      "tensor(11, device='cuda:0')\n",
      "tensor(0, device='cuda:0')\n"
     ]
    },
    {
     "name": "stderr",
     "output_type": "stream",
     "text": [
      " 55%|█████▌    | 55/100 [07:15<05:55,  7.91s/it]"
     ]
    },
    {
     "name": "stdout",
     "output_type": "stream",
     "text": [
      "Test loss : 0.0213296 --- Test acc : 68.47 %\n",
      "tensor(3, device='cuda:0')\n",
      "tensor(0, device='cuda:0')\n",
      "tensor(88, device='cuda:0')\n",
      "tensor(0, device='cuda:0')\n",
      "tensor(508, device='cuda:0')\n",
      "tensor(2, device='cuda:0')\n",
      "tensor(16, device='cuda:0')\n",
      "tensor(0, device='cuda:0')\n"
     ]
    },
    {
     "name": "stderr",
     "output_type": "stream",
     "text": [
      " 56%|█████▌    | 56/100 [07:23<05:48,  7.91s/it]"
     ]
    },
    {
     "name": "stdout",
     "output_type": "stream",
     "text": [
      "Test loss : 0.0194506 --- Test acc : 69.18 %\n",
      "tensor(2, device='cuda:0')\n",
      "tensor(1, device='cuda:0')\n",
      "tensor(158, device='cuda:0')\n",
      "tensor(0, device='cuda:0')\n",
      "tensor(603, device='cuda:0')\n",
      "tensor(0, device='cuda:0')\n",
      "tensor(22, device='cuda:0')\n",
      "tensor(0, device='cuda:0')\n"
     ]
    },
    {
     "name": "stderr",
     "output_type": "stream",
     "text": [
      " 57%|█████▋    | 57/100 [07:30<05:40,  7.91s/it]"
     ]
    },
    {
     "name": "stdout",
     "output_type": "stream",
     "text": [
      "Test loss : 0.0203924 --- Test acc : 59.24 %\n",
      "tensor(3, device='cuda:0')\n",
      "tensor(0, device='cuda:0')\n",
      "tensor(111, device='cuda:0')\n",
      "tensor(0, device='cuda:0')\n",
      "tensor(356, device='cuda:0')\n",
      "tensor(1, device='cuda:0')\n",
      "tensor(18, device='cuda:0')\n",
      "tensor(0, device='cuda:0')\n"
     ]
    },
    {
     "name": "stderr",
     "output_type": "stream",
     "text": [
      " 58%|█████▊    | 58/100 [07:38<05:32,  7.91s/it]"
     ]
    },
    {
     "name": "stdout",
     "output_type": "stream",
     "text": [
      "Test loss : 0.0187052 --- Test acc : 70.32 %\n",
      "tensor(3, device='cuda:0')\n",
      "tensor(0, device='cuda:0')\n",
      "tensor(108, device='cuda:0')\n",
      "tensor(0, device='cuda:0')\n",
      "tensor(543, device='cuda:0')\n",
      "tensor(0, device='cuda:0')\n",
      "tensor(12, device='cuda:0')\n",
      "tensor(0, device='cuda:0')\n"
     ]
    },
    {
     "name": "stderr",
     "output_type": "stream",
     "text": [
      " 59%|█████▉    | 59/100 [07:46<05:24,  7.91s/it]"
     ]
    },
    {
     "name": "stdout",
     "output_type": "stream",
     "text": [
      "Test loss : 0.0209069 --- Test acc : 48.31 %\n",
      "tensor(3, device='cuda:0')\n",
      "tensor(0, device='cuda:0')\n",
      "tensor(74, device='cuda:0')\n",
      "tensor(0, device='cuda:0')\n",
      "tensor(333, device='cuda:0')\n",
      "tensor(0, device='cuda:0')\n",
      "tensor(14, device='cuda:0')\n",
      "tensor(0, device='cuda:0')\n"
     ]
    },
    {
     "name": "stderr",
     "output_type": "stream",
     "text": [
      " 60%|██████    | 60/100 [07:54<05:16,  7.91s/it]"
     ]
    },
    {
     "name": "stdout",
     "output_type": "stream",
     "text": [
      "Test loss : 0.0203528 --- Test acc : 55.62 %\n",
      "tensor(5, device='cuda:0')\n",
      "tensor(0, device='cuda:0')\n",
      "tensor(78, device='cuda:0')\n",
      "tensor(0, device='cuda:0')\n",
      "tensor(491, device='cuda:0')\n",
      "tensor(1, device='cuda:0')\n",
      "tensor(15, device='cuda:0')\n",
      "tensor(0, device='cuda:0')\n"
     ]
    },
    {
     "name": "stderr",
     "output_type": "stream",
     "text": [
      " 61%|██████    | 61/100 [08:03<05:08,  7.92s/it]"
     ]
    },
    {
     "name": "stdout",
     "output_type": "stream",
     "text": [
      "Test loss : 0.0181301 --- Test acc : 65.63 %\n",
      "tensor(7, device='cuda:0')\n",
      "tensor(0, device='cuda:0')\n",
      "tensor(96, device='cuda:0')\n",
      "tensor(1, device='cuda:0')\n",
      "tensor(378, device='cuda:0')\n",
      "tensor(2, device='cuda:0')\n",
      "tensor(15, device='cuda:0')\n",
      "tensor(0, device='cuda:0')\n"
     ]
    },
    {
     "name": "stderr",
     "output_type": "stream",
     "text": [
      " 62%|██████▏   | 62/100 [08:11<05:01,  7.92s/it]"
     ]
    },
    {
     "name": "stdout",
     "output_type": "stream",
     "text": [
      "Test loss : 0.0170349 --- Test acc : 68.77 %\n",
      "tensor(6, device='cuda:0')\n",
      "tensor(0, device='cuda:0')\n",
      "tensor(118, device='cuda:0')\n",
      "tensor(0, device='cuda:0')\n",
      "tensor(405, device='cuda:0')\n",
      "tensor(1, device='cuda:0')\n",
      "tensor(10, device='cuda:0')\n",
      "tensor(0, device='cuda:0')\n"
     ]
    },
    {
     "name": "stderr",
     "output_type": "stream",
     "text": [
      " 63%|██████▎   | 63/100 [08:18<04:52,  7.92s/it]"
     ]
    },
    {
     "name": "stdout",
     "output_type": "stream",
     "text": [
      "Test loss : 0.0177118 --- Test acc : 62.14 %\n",
      "tensor(8, device='cuda:0')\n",
      "tensor(0, device='cuda:0')\n",
      "tensor(68, device='cuda:0')\n",
      "tensor(0, device='cuda:0')\n",
      "tensor(523, device='cuda:0')\n",
      "tensor(1, device='cuda:0')\n",
      "tensor(12, device='cuda:0')\n",
      "tensor(0, device='cuda:0')\n"
     ]
    },
    {
     "name": "stderr",
     "output_type": "stream",
     "text": [
      " 64%|██████▍   | 64/100 [08:26<04:45,  7.92s/it]"
     ]
    },
    {
     "name": "stdout",
     "output_type": "stream",
     "text": [
      "Test loss : 0.0157866 --- Test acc : 77.38 %\n",
      "tensor(4, device='cuda:0')\n",
      "tensor(0, device='cuda:0')\n",
      "tensor(117, device='cuda:0')\n",
      "tensor(0, device='cuda:0')\n",
      "tensor(512, device='cuda:0')\n",
      "tensor(1, device='cuda:0')\n",
      "tensor(16, device='cuda:0')\n",
      "tensor(0, device='cuda:0')\n"
     ]
    },
    {
     "name": "stderr",
     "output_type": "stream",
     "text": [
      " 65%|██████▌   | 65/100 [08:35<04:37,  7.93s/it]"
     ]
    },
    {
     "name": "stdout",
     "output_type": "stream",
     "text": [
      "Test loss : 0.0161896 --- Test acc : 66.92 %\n",
      "tensor(7, device='cuda:0')\n",
      "tensor(1, device='cuda:0')\n",
      "tensor(117, device='cuda:0')\n",
      "tensor(0, device='cuda:0')\n",
      "tensor(695, device='cuda:0')\n",
      "tensor(2, device='cuda:0')\n",
      "tensor(16, device='cuda:0')\n",
      "tensor(1, device='cuda:0')\n"
     ]
    },
    {
     "name": "stderr",
     "output_type": "stream",
     "text": [
      " 66%|██████▌   | 66/100 [08:43<04:29,  7.93s/it]"
     ]
    },
    {
     "name": "stdout",
     "output_type": "stream",
     "text": [
      "Test loss : 0.0141134 --- Test acc : 77.35 %\n",
      "tensor(3, device='cuda:0')\n",
      "tensor(0, device='cuda:0')\n",
      "tensor(129, device='cuda:0')\n",
      "tensor(0, device='cuda:0')\n",
      "tensor(639, device='cuda:0')\n",
      "tensor(2, device='cuda:0')\n",
      "tensor(17, device='cuda:0')\n",
      "tensor(1, device='cuda:0')\n"
     ]
    },
    {
     "name": "stderr",
     "output_type": "stream",
     "text": [
      " 67%|██████▋   | 67/100 [08:51<04:21,  7.93s/it]"
     ]
    },
    {
     "name": "stdout",
     "output_type": "stream",
     "text": [
      "Test loss : 0.0161209 --- Test acc : 68.1 %\n",
      "tensor(3, device='cuda:0')\n",
      "tensor(0, device='cuda:0')\n",
      "tensor(84, device='cuda:0')\n",
      "tensor(0, device='cuda:0')\n",
      "tensor(681, device='cuda:0')\n",
      "tensor(1, device='cuda:0')\n",
      "tensor(18, device='cuda:0')\n",
      "tensor(0, device='cuda:0')\n"
     ]
    },
    {
     "name": "stderr",
     "output_type": "stream",
     "text": [
      " 68%|██████▊   | 68/100 [08:59<04:13,  7.93s/it]"
     ]
    },
    {
     "name": "stdout",
     "output_type": "stream",
     "text": [
      "Test loss : 0.0236194 --- Test acc : 51.48 %\n",
      "tensor(3, device='cuda:0')\n",
      "tensor(0, device='cuda:0')\n",
      "tensor(35, device='cuda:0')\n",
      "tensor(0, device='cuda:0')\n",
      "tensor(453, device='cuda:0')\n",
      "tensor(0, device='cuda:0')\n",
      "tensor(13, device='cuda:0')\n",
      "tensor(0, device='cuda:0')\n"
     ]
    },
    {
     "name": "stderr",
     "output_type": "stream",
     "text": [
      " 69%|██████▉   | 69/100 [09:07<04:05,  7.93s/it]"
     ]
    },
    {
     "name": "stdout",
     "output_type": "stream",
     "text": [
      "Test loss : 0.0178276 --- Test acc : 60.11 %\n",
      "tensor(4, device='cuda:0')\n",
      "tensor(0, device='cuda:0')\n",
      "tensor(93, device='cuda:0')\n",
      "tensor(0, device='cuda:0')\n",
      "tensor(391, device='cuda:0')\n",
      "tensor(1, device='cuda:0')\n",
      "tensor(12, device='cuda:0')\n",
      "tensor(0, device='cuda:0')\n"
     ]
    },
    {
     "name": "stderr",
     "output_type": "stream",
     "text": [
      " 70%|███████   | 70/100 [09:15<03:58,  7.94s/it]"
     ]
    },
    {
     "name": "stdout",
     "output_type": "stream",
     "text": [
      "Test loss : 0.018148 --- Test acc : 59 %\n",
      "tensor(1, device='cuda:0')\n",
      "tensor(0, device='cuda:0')\n",
      "tensor(74, device='cuda:0')\n",
      "tensor(0, device='cuda:0')\n",
      "tensor(345, device='cuda:0')\n",
      "tensor(1, device='cuda:0')\n",
      "tensor(12, device='cuda:0')\n",
      "tensor(1, device='cuda:0')\n"
     ]
    },
    {
     "name": "stderr",
     "output_type": "stream",
     "text": [
      " 71%|███████   | 71/100 [09:23<03:50,  7.94s/it]"
     ]
    },
    {
     "name": "stdout",
     "output_type": "stream",
     "text": [
      "Test loss : 0.0150989 --- Test acc : 70.98 %\n",
      "tensor(4, device='cuda:0')\n",
      "tensor(0, device='cuda:0')\n",
      "tensor(110, device='cuda:0')\n",
      "tensor(0, device='cuda:0')\n",
      "tensor(552, device='cuda:0')\n",
      "tensor(2, device='cuda:0')\n",
      "tensor(12, device='cuda:0')\n",
      "tensor(1, device='cuda:0')\n"
     ]
    },
    {
     "name": "stderr",
     "output_type": "stream",
     "text": [
      " 72%|███████▏  | 72/100 [09:31<03:42,  7.94s/it]"
     ]
    },
    {
     "name": "stdout",
     "output_type": "stream",
     "text": [
      "Test loss : 0.0148155 --- Test acc : 74.48 %\n",
      "tensor(3, device='cuda:0')\n",
      "tensor(0, device='cuda:0')\n",
      "tensor(111, device='cuda:0')\n",
      "tensor(1, device='cuda:0')\n",
      "tensor(421, device='cuda:0')\n",
      "tensor(1, device='cuda:0')\n",
      "tensor(10, device='cuda:0')\n",
      "tensor(0, device='cuda:0')\n"
     ]
    },
    {
     "name": "stderr",
     "output_type": "stream",
     "text": [
      " 73%|███████▎  | 73/100 [09:39<03:34,  7.93s/it]"
     ]
    },
    {
     "name": "stdout",
     "output_type": "stream",
     "text": [
      "Test loss : 0.0128945 --- Test acc : 78.81 %\n",
      "tensor(5, device='cuda:0')\n",
      "tensor(0, device='cuda:0')\n",
      "tensor(143, device='cuda:0')\n",
      "tensor(0, device='cuda:0')\n",
      "tensor(479, device='cuda:0')\n",
      "tensor(1, device='cuda:0')\n",
      "tensor(19, device='cuda:0')\n",
      "tensor(0, device='cuda:0')\n"
     ]
    },
    {
     "name": "stderr",
     "output_type": "stream",
     "text": [
      " 74%|███████▍  | 74/100 [09:47<03:26,  7.93s/it]"
     ]
    },
    {
     "name": "stdout",
     "output_type": "stream",
     "text": [
      "Test loss : 0.013281 --- Test acc : 76.56 %\n",
      "tensor(5, device='cuda:0')\n",
      "tensor(0, device='cuda:0')\n",
      "tensor(114, device='cuda:0')\n",
      "tensor(0, device='cuda:0')\n",
      "tensor(563, device='cuda:0')\n",
      "tensor(1, device='cuda:0')\n",
      "tensor(14, device='cuda:0')\n",
      "tensor(0, device='cuda:0')\n"
     ]
    },
    {
     "name": "stderr",
     "output_type": "stream",
     "text": [
      " 75%|███████▌  | 75/100 [09:55<03:18,  7.94s/it]"
     ]
    },
    {
     "name": "stdout",
     "output_type": "stream",
     "text": [
      "Test loss : 0.0146603 --- Test acc : 69.92 %\n",
      "tensor(5, device='cuda:0')\n",
      "tensor(0, device='cuda:0')\n",
      "tensor(91, device='cuda:0')\n",
      "tensor(1, device='cuda:0')\n",
      "tensor(408, device='cuda:0')\n",
      "tensor(1, device='cuda:0')\n",
      "tensor(16, device='cuda:0')\n",
      "tensor(1, device='cuda:0')\n"
     ]
    },
    {
     "name": "stderr",
     "output_type": "stream",
     "text": [
      " 76%|███████▌  | 76/100 [10:03<03:10,  7.94s/it]"
     ]
    },
    {
     "name": "stdout",
     "output_type": "stream",
     "text": [
      "Test loss : 0.0125729 --- Test acc : 76.93 %\n",
      "tensor(3, device='cuda:0')\n",
      "tensor(0, device='cuda:0')\n",
      "tensor(87, device='cuda:0')\n",
      "tensor(0, device='cuda:0')\n",
      "tensor(574, device='cuda:0')\n",
      "tensor(1, device='cuda:0')\n",
      "tensor(20, device='cuda:0')\n",
      "tensor(0, device='cuda:0')\n"
     ]
    },
    {
     "name": "stderr",
     "output_type": "stream",
     "text": [
      " 77%|███████▋  | 77/100 [10:10<03:02,  7.93s/it]"
     ]
    },
    {
     "name": "stdout",
     "output_type": "stream",
     "text": [
      "Test loss : 0.0125628 --- Test acc : 75.16 %\n",
      "tensor(2, device='cuda:0')\n",
      "tensor(0, device='cuda:0')\n",
      "tensor(98, device='cuda:0')\n",
      "tensor(0, device='cuda:0')\n",
      "tensor(723, device='cuda:0')\n",
      "tensor(1, device='cuda:0')\n",
      "tensor(15, device='cuda:0')\n",
      "tensor(0, device='cuda:0')\n"
     ]
    },
    {
     "name": "stderr",
     "output_type": "stream",
     "text": [
      " 78%|███████▊  | 78/100 [10:19<02:54,  7.94s/it]"
     ]
    },
    {
     "name": "stdout",
     "output_type": "stream",
     "text": [
      "Test loss : 0.0106852 --- Test acc : 81.07 %\n",
      "tensor(3, device='cuda:0')\n",
      "tensor(0, device='cuda:0')\n",
      "tensor(184, device='cuda:0')\n",
      "tensor(0, device='cuda:0')\n",
      "tensor(744, device='cuda:0')\n",
      "tensor(3, device='cuda:0')\n",
      "tensor(26, device='cuda:0')\n",
      "tensor(0, device='cuda:0')\n"
     ]
    },
    {
     "name": "stderr",
     "output_type": "stream",
     "text": [
      " 79%|███████▉  | 79/100 [10:27<02:46,  7.94s/it]"
     ]
    },
    {
     "name": "stdout",
     "output_type": "stream",
     "text": [
      "Test loss : 0.0117815 --- Test acc : 75.92 %\n",
      "tensor(5, device='cuda:0')\n",
      "tensor(0, device='cuda:0')\n",
      "tensor(147, device='cuda:0')\n",
      "tensor(1, device='cuda:0')\n",
      "tensor(635, device='cuda:0')\n",
      "tensor(0, device='cuda:0')\n",
      "tensor(25, device='cuda:0')\n",
      "tensor(0, device='cuda:0')\n"
     ]
    },
    {
     "name": "stderr",
     "output_type": "stream",
     "text": [
      " 80%|████████  | 80/100 [10:34<02:38,  7.93s/it]"
     ]
    },
    {
     "name": "stdout",
     "output_type": "stream",
     "text": [
      "Test loss : 0.0117337 --- Test acc : 77.91 %\n",
      "tensor(2, device='cuda:0')\n",
      "tensor(0, device='cuda:0')\n",
      "tensor(112, device='cuda:0')\n",
      "tensor(1, device='cuda:0')\n",
      "tensor(451, device='cuda:0')\n",
      "tensor(1, device='cuda:0')\n",
      "tensor(21, device='cuda:0')\n",
      "tensor(0, device='cuda:0')\n"
     ]
    },
    {
     "name": "stderr",
     "output_type": "stream",
     "text": [
      " 81%|████████  | 81/100 [10:42<02:30,  7.94s/it]"
     ]
    },
    {
     "name": "stdout",
     "output_type": "stream",
     "text": [
      "Test loss : 0.0103212 --- Test acc : 82.77 %\n",
      "tensor(5, device='cuda:0')\n",
      "tensor(0, device='cuda:0')\n",
      "tensor(157, device='cuda:0')\n",
      "tensor(0, device='cuda:0')\n",
      "tensor(703, device='cuda:0')\n",
      "tensor(2, device='cuda:0')\n",
      "tensor(30, device='cuda:0')\n",
      "tensor(1, device='cuda:0')\n"
     ]
    },
    {
     "name": "stderr",
     "output_type": "stream",
     "text": [
      " 82%|████████▏ | 82/100 [10:51<02:22,  7.94s/it]"
     ]
    },
    {
     "name": "stdout",
     "output_type": "stream",
     "text": [
      "Test loss : 0.0120266 --- Test acc : 79.19 %\n",
      "tensor(3, device='cuda:0')\n",
      "tensor(0, device='cuda:0')\n",
      "tensor(80, device='cuda:0')\n",
      "tensor(1, device='cuda:0')\n",
      "tensor(509, device='cuda:0')\n",
      "tensor(2, device='cuda:0')\n",
      "tensor(17, device='cuda:0')\n",
      "tensor(0, device='cuda:0')\n"
     ]
    },
    {
     "name": "stderr",
     "output_type": "stream",
     "text": [
      " 83%|████████▎ | 83/100 [10:58<02:14,  7.94s/it]"
     ]
    },
    {
     "name": "stdout",
     "output_type": "stream",
     "text": [
      "Test loss : 0.0119499 --- Test acc : 75.58 %\n",
      "tensor(6, device='cuda:0')\n",
      "tensor(0, device='cuda:0')\n",
      "tensor(89, device='cuda:0')\n",
      "tensor(0, device='cuda:0')\n",
      "tensor(698, device='cuda:0')\n",
      "tensor(2, device='cuda:0')\n",
      "tensor(21, device='cuda:0')\n",
      "tensor(0, device='cuda:0')\n"
     ]
    },
    {
     "name": "stderr",
     "output_type": "stream",
     "text": [
      " 84%|████████▍ | 84/100 [11:07<02:07,  7.94s/it]"
     ]
    },
    {
     "name": "stdout",
     "output_type": "stream",
     "text": [
      "Test loss : 0.0143491 --- Test acc : 67.4 %\n",
      "tensor(4, device='cuda:0')\n",
      "tensor(0, device='cuda:0')\n",
      "tensor(76, device='cuda:0')\n",
      "tensor(1, device='cuda:0')\n",
      "tensor(666, device='cuda:0')\n",
      "tensor(2, device='cuda:0')\n",
      "tensor(20, device='cuda:0')\n",
      "tensor(0, device='cuda:0')\n"
     ]
    },
    {
     "name": "stderr",
     "output_type": "stream",
     "text": [
      " 85%|████████▌ | 85/100 [11:15<01:59,  7.94s/it]"
     ]
    },
    {
     "name": "stdout",
     "output_type": "stream",
     "text": [
      "Test loss : 0.0132848 --- Test acc : 70.24 %\n",
      "tensor(8, device='cuda:0')\n",
      "tensor(1, device='cuda:0')\n",
      "tensor(84, device='cuda:0')\n",
      "tensor(0, device='cuda:0')\n",
      "tensor(596, device='cuda:0')\n",
      "tensor(1, device='cuda:0')\n",
      "tensor(14, device='cuda:0')\n",
      "tensor(0, device='cuda:0')\n"
     ]
    },
    {
     "name": "stderr",
     "output_type": "stream",
     "text": [
      " 86%|████████▌ | 86/100 [11:23<01:51,  7.95s/it]"
     ]
    },
    {
     "name": "stdout",
     "output_type": "stream",
     "text": [
      "Test loss : 0.0121374 --- Test acc : 72.59 %\n",
      "tensor(5, device='cuda:0')\n",
      "tensor(0, device='cuda:0')\n",
      "tensor(89, device='cuda:0')\n",
      "tensor(0, device='cuda:0')\n",
      "tensor(550, device='cuda:0')\n",
      "tensor(2, device='cuda:0')\n",
      "tensor(22, device='cuda:0')\n",
      "tensor(0, device='cuda:0')\n"
     ]
    },
    {
     "name": "stderr",
     "output_type": "stream",
     "text": [
      " 87%|████████▋ | 87/100 [11:31<01:43,  7.95s/it]"
     ]
    },
    {
     "name": "stdout",
     "output_type": "stream",
     "text": [
      "Test loss : 0.0134244 --- Test acc : 72.03 %\n",
      "tensor(4, device='cuda:0')\n",
      "tensor(0, device='cuda:0')\n",
      "tensor(56, device='cuda:0')\n",
      "tensor(0, device='cuda:0')\n",
      "tensor(571, device='cuda:0')\n",
      "tensor(2, device='cuda:0')\n",
      "tensor(28, device='cuda:0')\n",
      "tensor(1, device='cuda:0')\n"
     ]
    },
    {
     "name": "stderr",
     "output_type": "stream",
     "text": [
      " 88%|████████▊ | 88/100 [11:39<01:35,  7.95s/it]"
     ]
    },
    {
     "name": "stdout",
     "output_type": "stream",
     "text": [
      "Test loss : 0.01011 --- Test acc : 78.59 %\n",
      "tensor(1, device='cuda:0')\n",
      "tensor(0, device='cuda:0')\n",
      "tensor(97, device='cuda:0')\n",
      "tensor(0, device='cuda:0')\n",
      "tensor(809, device='cuda:0')\n",
      "tensor(3, device='cuda:0')\n",
      "tensor(24, device='cuda:0')\n",
      "tensor(0, device='cuda:0')\n"
     ]
    },
    {
     "name": "stderr",
     "output_type": "stream",
     "text": [
      " 89%|████████▉ | 89/100 [11:47<01:27,  7.95s/it]"
     ]
    },
    {
     "name": "stdout",
     "output_type": "stream",
     "text": [
      "Test loss : 0.00963775 --- Test acc : 82.66 %\n",
      "tensor(5, device='cuda:0')\n",
      "tensor(0, device='cuda:0')\n",
      "tensor(155, device='cuda:0')\n",
      "tensor(0, device='cuda:0')\n",
      "tensor(773, device='cuda:0')\n",
      "tensor(1, device='cuda:0')\n",
      "tensor(29, device='cuda:0')\n",
      "tensor(0, device='cuda:0')\n"
     ]
    },
    {
     "name": "stderr",
     "output_type": "stream",
     "text": [
      " 90%|█████████ | 90/100 [11:55<01:19,  7.95s/it]"
     ]
    },
    {
     "name": "stdout",
     "output_type": "stream",
     "text": [
      "Test loss : 0.0110275 --- Test acc : 77.37 %\n",
      "tensor(3, device='cuda:0')\n",
      "tensor(0, device='cuda:0')\n",
      "tensor(86, device='cuda:0')\n",
      "tensor(0, device='cuda:0')\n",
      "tensor(419, device='cuda:0')\n",
      "tensor(0, device='cuda:0')\n",
      "tensor(22, device='cuda:0')\n",
      "tensor(0, device='cuda:0')\n"
     ]
    },
    {
     "name": "stderr",
     "output_type": "stream",
     "text": [
      " 91%|█████████ | 91/100 [12:03<01:11,  7.95s/it]"
     ]
    },
    {
     "name": "stdout",
     "output_type": "stream",
     "text": [
      "Test loss : 0.0120083 --- Test acc : 73.93 %\n",
      "tensor(6, device='cuda:0')\n",
      "tensor(0, device='cuda:0')\n",
      "tensor(105, device='cuda:0')\n",
      "tensor(0, device='cuda:0')\n",
      "tensor(490, device='cuda:0')\n",
      "tensor(0, device='cuda:0')\n",
      "tensor(18, device='cuda:0')\n",
      "tensor(0, device='cuda:0')\n"
     ]
    },
    {
     "name": "stderr",
     "output_type": "stream",
     "text": [
      " 92%|█████████▏| 92/100 [12:11<01:03,  7.95s/it]"
     ]
    },
    {
     "name": "stdout",
     "output_type": "stream",
     "text": [
      "Test loss : 0.0115837 --- Test acc : 76.52 %\n",
      "tensor(1, device='cuda:0')\n",
      "tensor(0, device='cuda:0')\n",
      "tensor(110, device='cuda:0')\n",
      "tensor(1, device='cuda:0')\n",
      "tensor(820, device='cuda:0')\n",
      "tensor(4, device='cuda:0')\n",
      "tensor(16, device='cuda:0')\n",
      "tensor(0, device='cuda:0')\n"
     ]
    },
    {
     "name": "stderr",
     "output_type": "stream",
     "text": [
      " 93%|█████████▎| 93/100 [12:19<00:55,  7.95s/it]"
     ]
    },
    {
     "name": "stdout",
     "output_type": "stream",
     "text": [
      "Test loss : 0.0108923 --- Test acc : 75.48 %\n",
      "tensor(9, device='cuda:0')\n",
      "tensor(0, device='cuda:0')\n",
      "tensor(105, device='cuda:0')\n",
      "tensor(0, device='cuda:0')\n",
      "tensor(554, device='cuda:0')\n",
      "tensor(1, device='cuda:0')\n",
      "tensor(14, device='cuda:0')\n",
      "tensor(0, device='cuda:0')\n"
     ]
    },
    {
     "name": "stderr",
     "output_type": "stream",
     "text": [
      " 94%|█████████▍| 94/100 [12:27<00:47,  7.95s/it]"
     ]
    },
    {
     "name": "stdout",
     "output_type": "stream",
     "text": [
      "Test loss : 0.00891394 --- Test acc : 83.79 %\n",
      "tensor(3, device='cuda:0')\n",
      "tensor(0, device='cuda:0')\n",
      "tensor(216, device='cuda:0')\n",
      "tensor(0, device='cuda:0')\n",
      "tensor(887, device='cuda:0')\n",
      "tensor(4, device='cuda:0')\n",
      "tensor(25, device='cuda:0')\n",
      "tensor(0, device='cuda:0')\n"
     ]
    },
    {
     "name": "stderr",
     "output_type": "stream",
     "text": [
      " 95%|█████████▌| 95/100 [12:35<00:39,  7.96s/it]"
     ]
    },
    {
     "name": "stdout",
     "output_type": "stream",
     "text": [
      "Test loss : 0.00895576 --- Test acc : 85.22 %\n",
      "tensor(4, device='cuda:0')\n",
      "tensor(0, device='cuda:0')\n",
      "tensor(158, device='cuda:0')\n",
      "tensor(0, device='cuda:0')\n",
      "tensor(636, device='cuda:0')\n",
      "tensor(1, device='cuda:0')\n",
      "tensor(24, device='cuda:0')\n",
      "tensor(0, device='cuda:0')\n"
     ]
    },
    {
     "name": "stderr",
     "output_type": "stream",
     "text": [
      " 96%|█████████▌| 96/100 [12:43<00:31,  7.95s/it]"
     ]
    },
    {
     "name": "stdout",
     "output_type": "stream",
     "text": [
      "Test loss : 0.00948619 --- Test acc : 80.59 %\n",
      "tensor(3, device='cuda:0')\n",
      "tensor(0, device='cuda:0')\n",
      "tensor(96, device='cuda:0')\n",
      "tensor(0, device='cuda:0')\n",
      "tensor(655, device='cuda:0')\n",
      "tensor(3, device='cuda:0')\n",
      "tensor(23, device='cuda:0')\n",
      "tensor(0, device='cuda:0')\n"
     ]
    },
    {
     "name": "stderr",
     "output_type": "stream",
     "text": [
      " 97%|█████████▋| 97/100 [12:51<00:23,  7.96s/it]"
     ]
    },
    {
     "name": "stdout",
     "output_type": "stream",
     "text": [
      "Test loss : 0.0105274 --- Test acc : 77.83 %\n",
      "tensor(2, device='cuda:0')\n",
      "tensor(0, device='cuda:0')\n",
      "tensor(106, device='cuda:0')\n",
      "tensor(1, device='cuda:0')\n",
      "tensor(679, device='cuda:0')\n",
      "tensor(2, device='cuda:0')\n",
      "tensor(22, device='cuda:0')\n",
      "tensor(0, device='cuda:0')\n"
     ]
    },
    {
     "name": "stderr",
     "output_type": "stream",
     "text": [
      " 98%|█████████▊| 98/100 [13:00<00:15,  7.96s/it]"
     ]
    },
    {
     "name": "stdout",
     "output_type": "stream",
     "text": [
      "Test loss : 0.0085044 --- Test acc : 85.11 %\n",
      "tensor(2, device='cuda:0')\n",
      "tensor(0, device='cuda:0')\n",
      "tensor(143, device='cuda:0')\n",
      "tensor(0, device='cuda:0')\n",
      "tensor(740, device='cuda:0')\n",
      "tensor(0, device='cuda:0')\n",
      "tensor(20, device='cuda:0')\n",
      "tensor(0, device='cuda:0')\n"
     ]
    },
    {
     "name": "stderr",
     "output_type": "stream",
     "text": [
      " 99%|█████████▉| 99/100 [13:08<00:07,  7.96s/it]"
     ]
    },
    {
     "name": "stdout",
     "output_type": "stream",
     "text": [
      "Test loss : 0.0088198 --- Test acc : 83.56 %\n",
      "tensor(6, device='cuda:0')\n",
      "tensor(0, device='cuda:0')\n",
      "tensor(158, device='cuda:0')\n",
      "tensor(0, device='cuda:0')\n",
      "tensor(709, device='cuda:0')\n",
      "tensor(1, device='cuda:0')\n",
      "tensor(21, device='cuda:0')\n",
      "tensor(0, device='cuda:0')\n"
     ]
    },
    {
     "name": "stderr",
     "output_type": "stream",
     "text": [
      "100%|██████████| 100/100 [13:16<00:00,  7.96s/it]"
     ]
    },
    {
     "name": "stdout",
     "output_type": "stream",
     "text": [
      "Test loss : 0.0118166 --- Test acc : 73.11 %\n"
     ]
    },
    {
     "name": "stderr",
     "output_type": "stream",
     "text": [
      "\n"
     ]
    }
   ],
   "source": [
    "for epoch in tqdm(range(epochs)):\n",
    "    \n",
    "    # init auxiliary grad and grad2\n",
    "    auxgrad  = init_grad(model)\n",
    "    auxgrad2 = init_grad(model)\n",
    "    \n",
    "        \n",
    "    num_mb = 0\n",
    "    for i, data in enumerate(train_loader, 0):\n",
    "        \n",
    "        num_mb += 1\n",
    "        \n",
    "        # get the inputs\n",
    "        inputs, labels = data\n",
    "        inputs = inputs.to(device)\n",
    "        labels = labels.to(device)  \n",
    "        \n",
    "        # zero the parameter gradients\n",
    "        optimizer.zero_grad()\n",
    "\n",
    "        # forward + backward\n",
    "        outputs = model(inputs)\n",
    "        loss = criterion(outputs, labels)        \n",
    "        # compute the grad\n",
    "        loss.backward()\n",
    "                \n",
    "        # accumulate grad and grad2\n",
    "        auxgrad  = acc_grad(auxgrad,model)\n",
    "        auxgrad2 = acc_grad2(auxgrad2,model)\n",
    "        \n",
    "    \n",
    "    # compute the snr \n",
    "    snr = compute_snr(auxgrad, auxgrad2, num_mb) \n",
    "    \n",
    "    # temper the grad with the information on grad2\n",
    "    with torch.no_grad():\n",
    "        for param, s in zip(model.parameters(), snr): \n",
    "            param.grad[s < 1] = 0.0\n",
    "            print((s < 1 ).sum())\n",
    "       \n",
    "    # this is now outside (modify learning rate accordingly ???)\n",
    "    optimizer.step()\n",
    "        \n",
    "        \n",
    "    # save model\n",
    "    torch.save(model, os.path.join( RES, 'model_' + str(epoch) + '.pt') )\n",
    "        \n",
    "    # print statistics\n",
    "    loss = 0.0\n",
    "    total = 0    \n",
    "    with torch.no_grad():\n",
    "        for data in test_loader:\n",
    "            inputs, labels = data\n",
    "            inputs = inputs.to(device)\n",
    "            labels = labels.to(device)\n",
    "            outputs = model(inputs)\n",
    "            loss += criterion(outputs, labels)\n",
    "            total += labels.size(0)\n",
    "        l = loss/total\n",
    "        valid_loss.append(l)\n",
    "    \n",
    "    loss = 0.0\n",
    "    total = 0    \n",
    "    with torch.no_grad():\n",
    "        for data in train_loader:\n",
    "            inputs, labels = data\n",
    "            inputs = inputs.to(device)\n",
    "            labels = labels.to(device)\n",
    "            outputs = model(inputs)\n",
    "            loss += criterion(outputs, labels)\n",
    "            total += labels.size(0)\n",
    "        l = loss/total\n",
    "        train_loss.append(l)        \n",
    "    \n",
    "    correct = 0\n",
    "    total = 0\n",
    "    with torch.no_grad():\n",
    "        for data in test_loader:\n",
    "            inputs, labels = data\n",
    "            inputs = inputs.to(device)\n",
    "            labels = labels.to(device)\n",
    "            outputs = model(inputs)\n",
    "            _, predicted = torch.max(outputs.data, 1)\n",
    "            total += labels.size(0)\n",
    "            correct += (predicted == labels).sum().item()\n",
    "        acc = 100 * correct/total\n",
    "        valid_acc.append(acc)\n",
    "    \n",
    "    correct = 0\n",
    "    total = 0\n",
    "    with torch.no_grad():\n",
    "        for data in train_loader:\n",
    "            inputs, labels = data\n",
    "            inputs = inputs.to(device)\n",
    "            labels = labels.to(device)\n",
    "            outputs = model(inputs)\n",
    "            _, predicted = torch.max(outputs.data, 1)\n",
    "            total += labels.size(0)\n",
    "            correct += (predicted == labels).sum().item()\n",
    "        acc = 100 * correct/total\n",
    "        train_acc.append(acc)\n",
    "        \n",
    "    # print statistics\n",
    "    print('Test loss : %g --- Test acc : %g %%' % ( valid_loss[-1], valid_acc[-1] )) \n",
    "   "
   ]
  },
  {
   "cell_type": "code",
   "execution_count": 17,
   "metadata": {},
   "outputs": [
    {
     "name": "stdout",
     "output_type": "stream",
     "text": [
      "Finished training.\n"
     ]
    }
   ],
   "source": [
    "# save loss and accuracies in a dictionary\n",
    "tags = ['train_loss','valid_loss', 'train_acc', 'valid_acc' ]\n",
    "vals = [train_loss, valid_loss, train_acc, valid_acc]\n",
    "training_data = dict(zip(tags, vals))\n",
    "file = open( os.path.join( RES, \"training_data\" ) , 'wb' ) \n",
    "pickle.dump(training_data,file)\n",
    "print('Finished training.')"
   ]
  },
  {
   "cell_type": "code",
   "execution_count": 24,
   "metadata": {},
   "outputs": [
    {
     "data": {
      "image/png": "[encoded data removed]",
      "text/plain": [
       "<Figure size 1440x720 with 2 Axes>"
      ]
     },
     "metadata": {},
     "output_type": "display_data"
    }
   ],
   "source": [
    "fig = plt.figure(figsize=(20,10))\n",
    "plt.subplot(1,2,1)\n",
    "plt.plot(train_loss,'-o',label='training loss')\n",
    "plt.plot(valid_loss,'-o',label='test loss')\n",
    "plt.xlabel('epoch')\n",
    "plt.subplot(1,2,2)\n",
    "plt.plot(train_acc,'-o',label='training accuracy')\n",
    "plt.plot(valid_acc,'-o',label='test accuracy')\n",
    "plt.xlabel('epoch')\n",
    "plt.show()"
   ]
  },
  {
   "cell_type": "code",
   "execution_count": null,
   "metadata": {},
   "outputs": [],
   "source": []
  }
 ],
 "metadata": {
  "kernelspec": {
   "display_name": "PyTorch 0.4.0",
   "language": "python",
   "name": "pytorch"
  },
  "language_info": {
   "codemirror_mode": {
    "name": "ipython",
    "version": 3
   },
   "file_extension": ".py",
   "mimetype": "text/x-python",
   "name": "python",
   "nbconvert_exporter": "python",
   "pygments_lexer": "ipython3",
   "version": "3.5.2"
  }
 },
 "nbformat": 4,
 "nbformat_minor": 2
}
