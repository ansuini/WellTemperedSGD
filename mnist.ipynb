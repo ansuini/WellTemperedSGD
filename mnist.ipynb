{
 "cells": [
  {
   "cell_type": "code",
   "execution_count": 1,
   "metadata": {},
   "outputs": [],
   "source": [
    "%reload_ext autoreload\n",
    "%autoreload 2\n",
    "%matplotlib inline"
   ]
  },
  {
   "cell_type": "markdown",
   "metadata": {},
   "source": [
    "# Description \n",
    "\n",
    "We consider a variation on SGD that makes use of the second moment of the \n",
    "gradients as follows.\n",
    "\n",
    "The training loop has three levels :\n",
    "\n",
    "- over mini-batches\n",
    "  - we accumulate the gradients computed here and their squares without updating the parameters\n",
    "- over large batches\n",
    "  - after each large batch we do the parameters update with the modified SGD\n",
    "- over epochs\n",
    "\n",
    "Within mini-batches it is difficult to get the second moment of the gradients,\n",
    "this would require massive intervention on the nevralgic part of the automatic\n",
    "differentiation (AD) libraries. \n",
    "\n",
    "The large batches are composed of a reasonably large number of minibatches. Let us denote\n",
    "with $\\text{n}$ the number of minibatches that fit in a large batch (say n $\\approx 100$).\n",
    "\n",
    "For each mini-batch ($\\text{mb}\\approx 10$ images) in a large batch ($\\text{lb} \\approx 1000$ images) we will compute the gradient with respect to all the trainable parameters :\n",
    "\n",
    "$$\n",
    "\\nabla^{1}, \\dots, \\nabla^{\\text{n}}\n",
    "$$\n",
    "\n",
    "We accumulates these gradients and their squares (elementwise) within a large batch : \n",
    "\n",
    "$$\n",
    "\\bar{A} = \\frac{1}{n}  \\sum_{i=1}^{n} \\nabla^{i}\n",
    "$$\n",
    "\n",
    "$$\n",
    "\\bar{A^{2}} = \\frac{1}{n}  \\sum_{i=1}^{n}  \\left( \\nabla^{i} \\right)^2\n",
    "$$\n",
    "\n",
    "\n",
    "We then compute the variance of the gradient as $\\sigma^2 = \\bar{A^{2}} - \\left( \\bar{A} \\right)^2$ and define the\n",
    "\n",
    "error as \n",
    "\n",
    "$$\n",
    "\\varepsilon = \\sqrt{ \\frac{\\sigma^2}{n} } = \\frac{\\sigma}{\\sqrt{n}}\n",
    "$$\n",
    "\n",
    "The signal to noise ratio of the gradient is then\n",
    "\n",
    "$$\n",
    "\\eta = \\frac{\\bar{A}}{\\varepsilon}\n",
    "$$\n",
    "\n",
    "From the information in $\\eta$ we modify SGD as follows.\n",
    "\n",
    "At the end of the computation on a large batch we update the parameters with the \n",
    "rule \n",
    "\n",
    "$$\n",
    "w  =  w - \\lambda \\; f \\left(  \\eta \\right ) \\bar{A}\n",
    "$$\n",
    "where $\\lambda$ is the learning rate, $\\bar{A}$ is the average gradient computed on \n",
    "$\\text{n}$ mini-batches within the large batch, and $f$ is :\n",
    "\n",
    "\n",
    "\\begin{equation}\n",
    "\\text{f} =  \n",
    "\\begin{cases} \n",
    "1 \\;\\;\\;\\;\\; \\text{if} \\;  \\eta \\geq 1\n",
    "\\\\\n",
    "\\eta \\;\\;\\;\\;\\; \\text{if} \\; \\eta < 1\n",
    "\\end{cases}\n",
    "\\end{equation}\n",
    "\n",
    "so that when the gradient signal is reliable it is left unchanged while in the opposite case the gradient signal is suppressed by the prefactor $\\eta \\in [0,1)$.\n",
    "\n",
    "It is important than to monitor during the training what is the fraction of parameters\n",
    "for which the modification to the SGD applies, i.e. the fraction of weights such that $\\eta < 1$.\n",
    "\n",
    "We do that for each layer because we noticed that the signal to noise ratio can vary accross layers."
   ]
  },
  {
   "cell_type": "markdown",
   "metadata": {},
   "source": [
    "# Dataset and Settings"
   ]
  },
  {
   "cell_type": "code",
   "execution_count": 2,
   "metadata": {},
   "outputs": [],
   "source": [
    "ARCH = 'conv'\n",
    "MODIFIED_SGD = True\n",
    "SAVE = True"
   ]
  },
  {
   "cell_type": "code",
   "execution_count": 3,
   "metadata": {},
   "outputs": [],
   "source": [
    "DATASET = 'mnist'\n",
    "if DATASET     == 'mnist':\n",
    "    mb_size    = 10         # mini-batch size (default : 10)\n",
    "    n          = 100        # number of mini-batches in a large batch\n",
    "    lb_size    = n*mb_size  # large batch size (after this gradient update with modified SGD rule)  \n",
    "    n_lb       = int(60000.0/(lb_size)) # number of large batches in a epoch\n",
    "    epochs     = 100\n",
    "    lr         = 0.01\n",
    "    momentum   = 0.0    \n",
    "    mean_imgs  = 0.1307\n",
    "    std_imgs   = 0.3081\n",
    "    imgs_shape = (1,28,28)"
   ]
  },
  {
   "cell_type": "code",
   "execution_count": 4,
   "metadata": {},
   "outputs": [
    {
     "name": "stdout",
     "output_type": "stream",
     "text": [
      "Creating directory /home/ansuini/repos/WellTemperedSGD/figures/mnist/conv/modified/10_100\n"
     ]
    },
    {
     "ename": "FileNotFoundError",
     "evalue": "[Errno 2] No such file or directory: '/home/ansuini/repos/WellTemperedSGD/figures/mnist/conv/modified/10_100'",
     "output_type": "error",
     "traceback": [
      "\u001b[0;31m---------------------------------------------------------------------------\u001b[0m",
      "\u001b[0;31mFileNotFoundError\u001b[0m                         Traceback (most recent call last)",
      "\u001b[0;32m<ipython-input-4-b29d0dd76922>\u001b[0m in \u001b[0;36m<module>\u001b[0;34m()\u001b[0m\n\u001b[1;32m     12\u001b[0m     \u001b[0;32mif\u001b[0m \u001b[0;32mnot\u001b[0m \u001b[0mos\u001b[0m\u001b[0;34m.\u001b[0m\u001b[0mpath\u001b[0m\u001b[0;34m.\u001b[0m\u001b[0mexists\u001b[0m\u001b[0;34m(\u001b[0m\u001b[0mFIG\u001b[0m\u001b[0;34m)\u001b[0m\u001b[0;34m:\u001b[0m\u001b[0;34m\u001b[0m\u001b[0m\n\u001b[1;32m     13\u001b[0m         \u001b[0mprint\u001b[0m\u001b[0;34m(\u001b[0m\u001b[0;34m'Creating directory '\u001b[0m \u001b[0;34m+\u001b[0m \u001b[0mFIG\u001b[0m\u001b[0;34m)\u001b[0m\u001b[0;34m\u001b[0m\u001b[0m\n\u001b[0;32m---> 14\u001b[0;31m         \u001b[0mos\u001b[0m\u001b[0;34m.\u001b[0m\u001b[0mmkdir\u001b[0m\u001b[0;34m(\u001b[0m\u001b[0mFIG\u001b[0m\u001b[0;34m)\u001b[0m\u001b[0;34m\u001b[0m\u001b[0m\n\u001b[0m\u001b[1;32m     15\u001b[0m \u001b[0;32melse\u001b[0m\u001b[0;34m:\u001b[0m\u001b[0;34m\u001b[0m\u001b[0m\n\u001b[1;32m     16\u001b[0m     \u001b[0mRES\u001b[0m \u001b[0;34m=\u001b[0m \u001b[0mos\u001b[0m\u001b[0;34m.\u001b[0m\u001b[0mpath\u001b[0m\u001b[0;34m.\u001b[0m\u001b[0mjoin\u001b[0m\u001b[0;34m(\u001b[0m\u001b[0mROOT\u001b[0m\u001b[0;34m,\u001b[0m\u001b[0;34m'results'\u001b[0m\u001b[0;34m,\u001b[0m \u001b[0mDATASET\u001b[0m\u001b[0;34m,\u001b[0m \u001b[0mARCH\u001b[0m\u001b[0;34m,\u001b[0m \u001b[0;34m'original'\u001b[0m\u001b[0;34m,\u001b[0m \u001b[0mstr\u001b[0m\u001b[0;34m(\u001b[0m\u001b[0mmb_size\u001b[0m\u001b[0;34m)\u001b[0m \u001b[0;34m+\u001b[0m \u001b[0;34m'_'\u001b[0m \u001b[0;34m+\u001b[0m \u001b[0mstr\u001b[0m\u001b[0;34m(\u001b[0m\u001b[0mn\u001b[0m\u001b[0;34m)\u001b[0m  \u001b[0;34m)\u001b[0m\u001b[0;34m\u001b[0m\u001b[0m\n",
      "\u001b[0;31mFileNotFoundError\u001b[0m: [Errno 2] No such file or directory: '/home/ansuini/repos/WellTemperedSGD/figures/mnist/conv/modified/10_100'"
     ]
    }
   ],
   "source": [
    "import os\n",
    "ROOT = '/home/ansuini/repos/WellTemperedSGD/'\n",
    "os.chdir(ROOT)\n",
    "\n",
    "if MODIFIED_SGD:\n",
    "    RES = os.path.join(ROOT,'results', DATASET, ARCH, 'modified', str(mb_size) + '_' + str(n)  )\n",
    "    if not os.path.exists(RES):\n",
    "        print('Creating directory ' + RES)\n",
    "        os.mkdir(RES)\n",
    "        \n",
    "    FIG = os.path.join(ROOT,'figures', DATASET, ARCH, 'modified', str(mb_size) + '_' + str(n)  )\n",
    "    if not os.path.exists(FIG):\n",
    "        print('Creating directory ' + FIG)\n",
    "        os.mkdir(FIG)\n",
    "else:\n",
    "    RES = os.path.join(ROOT,'results', DATASET, ARCH, 'original', str(mb_size) + '_' + str(n)  )  \n",
    "    if not os.path.exists(RES):\n",
    "        print('Creating directory ' + RES)\n",
    "        os.mkdir(RES)\n",
    "        \n",
    "    FIG = os.path.join(ROOT,'figures', DATASET, ARCH, 'original', str(mb_size) + '_' + str(n)  )\n",
    "    if not os.path.exists(FIG):\n",
    "        print('Creating directory ' + FIG)\n",
    "        os.mkdir(FIG)"
   ]
  },
  {
   "cell_type": "code",
   "execution_count": 5,
   "metadata": {},
   "outputs": [],
   "source": [
    "from __future__ import print_function\n",
    "import argparse\n",
    "import torch\n",
    "import torch.nn as nn\n",
    "import torch.nn.functional as F\n",
    "import torch.optim as optim\n",
    "from torchvision import datasets, transforms\n",
    "from torch.autograd import Variable\n",
    "import torchvision\n",
    "from torchsummary import summary\n",
    "from tqdm import tqdm\n",
    "import pandas as pd\n",
    "\n",
    "from mnist_archs import LeNet\n",
    "from wtsgd import *\n",
    "\n",
    "import pickle\n",
    "from time import time\n",
    "import numpy as np\n",
    "np.seed = 1101\n",
    "from matplotlib import pyplot as plt\n",
    "plt.style.use('ggplot')"
   ]
  },
  {
   "cell_type": "code",
   "execution_count": 6,
   "metadata": {},
   "outputs": [
    {
     "name": "stdout",
     "output_type": "stream",
     "text": [
      "Device : cuda:0\n"
     ]
    }
   ],
   "source": [
    "device = torch.device(\"cuda:0\" if torch.cuda.is_available() else \"cpu\")\n",
    "kwargs = {'num_workers': 2, 'pin_memory': True} if device.type == 'cuda' else {}\n",
    "print('Device : {}'.format( device ) )"
   ]
  },
  {
   "cell_type": "code",
   "execution_count": 7,
   "metadata": {},
   "outputs": [],
   "source": [
    "train_loader = torch.utils.data.DataLoader(\n",
    "    datasets.MNIST(ROOT +  '/data/' + DATASET, train=True, download=True,\n",
    "                   transform=transforms.Compose([\n",
    "                       transforms.ToTensor(),\n",
    "                       transforms.Normalize((mean_imgs,), (std_imgs,))                                           \n",
    "                   ])),\n",
    "    batch_size=mb_size, shuffle=True, **kwargs)\n",
    "\n",
    "test_loader = torch.utils.data.DataLoader(\n",
    "    \n",
    "    datasets.MNIST(ROOT + '/data/' + DATASET, train=False, transform=transforms.Compose([\n",
    "                       transforms.ToTensor(),\n",
    "                       transforms.Normalize((mean_imgs,), (std_imgs,))                       \n",
    "                   ])),\n",
    "    batch_size=mb_size, shuffle=True, **kwargs)"
   ]
  },
  {
   "cell_type": "code",
   "execution_count": 8,
   "metadata": {},
   "outputs": [],
   "source": [
    "def imshow(img):\n",
    "    npimg = img.numpy()    \n",
    "    plt.imshow(np.transpose(npimg, (1, 2, 0)))\n",
    "    plt.xticks([])\n",
    "    plt.yticks([])"
   ]
  },
  {
   "cell_type": "code",
   "execution_count": 9,
   "metadata": {},
   "outputs": [
    {
     "name": "stderr",
     "output_type": "stream",
     "text": [
      "Clipping input data to the valid range for imshow with RGB data ([0..1] for floats or [0..255] for integers).\n"
     ]
    },
    {
     "name": "stdout",
     "output_type": "stream",
     "text": [
      "torch.Size([10, 1, 28, 28])\n"
     ]
    },
    {
     "data": {
      "image/png": "[encoded data removed]",
      "text/plain": [
       "<Figure size 432x288 with 1 Axes>"
      ]
     },
     "metadata": {},
     "output_type": "display_data"
    }
   ],
   "source": [
    "dataiter = iter(train_loader)\n",
    "images, labels = dataiter.next()\n",
    "imshow(torchvision.utils.make_grid(images))\n",
    "print(images.shape)"
   ]
  },
  {
   "cell_type": "markdown",
   "metadata": {},
   "source": [
    "### Check labelling\n",
    "\n",
    "Useful in case of random shuffling of labels"
   ]
  },
  {
   "cell_type": "code",
   "execution_count": 10,
   "metadata": {},
   "outputs": [
    {
     "data": {
      "image/png": "[encoded data removed]",
      "text/plain": [
       "<Figure size 432x288 with 9 Axes>"
      ]
     },
     "metadata": {},
     "output_type": "display_data"
    }
   ],
   "source": [
    "for i in range(9):\n",
    "    plt.subplot(3,3,i+1)\n",
    "    plt.imshow(images[i,0,:,:])\n",
    "    plt.xticks([])\n",
    "    plt.yticks([])\n",
    "    plt.title(labels[i].item())"
   ]
  },
  {
   "cell_type": "code",
   "execution_count": 11,
   "metadata": {},
   "outputs": [],
   "source": [
    "def get_stats(loader):   \n",
    "    '''\n",
    "    Compute training statistics (loss and accuracy) on loader data\n",
    "    '''\n",
    "    loss = 0.0\n",
    "    correct = 0\n",
    "    total = 0       \n",
    "    with torch.no_grad():\n",
    "        for data in loader:\n",
    "            inputs, labels = data\n",
    "            inputs = inputs.to(device)\n",
    "            labels = labels.to(device)\n",
    "            outputs = model(inputs)\n",
    "            loss += criterion(outputs, labels)\n",
    "            _, predicted = torch.max(outputs.data, 1)\n",
    "            correct += (predicted == labels).sum().item()\n",
    "            total += labels.size(0)\n",
    "        l = loss.to('cpu').item()/total\n",
    "        acc = 100 * correct/total\n",
    "        return [l,acc]"
   ]
  },
  {
   "cell_type": "markdown",
   "metadata": {},
   "source": [
    "# Initialize network, optimizer and loss"
   ]
  },
  {
   "cell_type": "code",
   "execution_count": 12,
   "metadata": {},
   "outputs": [],
   "source": [
    "model = LeNet()\n",
    "model.to(device)\n",
    "optimizer = optim.SGD(model.parameters(), lr=lr, momentum=momentum)\n",
    "criterion = F.nll_loss"
   ]
  },
  {
   "cell_type": "code",
   "execution_count": 13,
   "metadata": {},
   "outputs": [
    {
     "name": "stdout",
     "output_type": "stream",
     "text": [
      "LeNet(\n",
      "  (conv1): Conv2d(1, 10, kernel_size=(5, 5), stride=(1, 1))\n",
      "  (conv2): Conv2d(10, 20, kernel_size=(5, 5), stride=(1, 1))\n",
      "  (fc1): Linear(in_features=320, out_features=50, bias=True)\n",
      "  (fc2): Linear(in_features=50, out_features=10, bias=True)\n",
      ")\n",
      "----------------------------------------------------------------\n",
      "        Layer (type)               Output Shape         Param #\n",
      "================================================================\n",
      "            Conv2d-1           [-1, 10, 24, 24]             260\n",
      "            Conv2d-2             [-1, 20, 8, 8]            5020\n",
      "            Linear-3                   [-1, 50]           16050\n",
      "            Linear-4                   [-1, 10]             510\n",
      "================================================================\n",
      "Total params: tensor(21840)\n",
      "Trainable params: tensor(21840)\n",
      "Non-trainable params: tensor(0)\n",
      "----------------------------------------------------------------\n",
      "None\n"
     ]
    }
   ],
   "source": [
    "print(model)\n",
    "print( summary(model, imgs_shape) )"
   ]
  },
  {
   "cell_type": "code",
   "execution_count": 14,
   "metadata": {},
   "outputs": [
    {
     "name": "stderr",
     "output_type": "stream",
     "text": [
      "  1%|          | 1/100 [00:12<20:59, 12.72s/it]"
     ]
    },
    {
     "name": "stdout",
     "output_type": "stream",
     "text": [
      "Train loss : 0.225008 --- Train acc : 24.01 %\n",
      "Test  loss : 0.224821 --- Test  acc : 24.93 %\n"
     ]
    },
    {
     "name": "stderr",
     "output_type": "stream",
     "text": [
      "  2%|▏         | 2/100 [00:25<20:55, 12.81s/it]"
     ]
    },
    {
     "name": "stdout",
     "output_type": "stream",
     "text": [
      "Train loss : 0.210264 --- Train acc : 41.4467 %\n",
      "Test  loss : 0.209606 --- Test  acc : 42.82 %\n"
     ]
    },
    {
     "name": "stderr",
     "output_type": "stream",
     "text": [
      "  3%|▎         | 3/100 [00:38<20:45, 12.84s/it]"
     ]
    },
    {
     "name": "stdout",
     "output_type": "stream",
     "text": [
      "Train loss : 0.144588 --- Train acc : 69.6467 %\n",
      "Test  loss : 0.142169 --- Test  acc : 71.45 %\n"
     ]
    },
    {
     "name": "stderr",
     "output_type": "stream",
     "text": [
      "  4%|▍         | 4/100 [00:51<20:30, 12.81s/it]"
     ]
    },
    {
     "name": "stdout",
     "output_type": "stream",
     "text": [
      "Train loss : 0.0716623 --- Train acc : 80.2533 %\n",
      "Test  loss : 0.0689989 --- Test  acc : 81.21 %\n"
     ]
    },
    {
     "name": "stderr",
     "output_type": "stream",
     "text": [
      "  5%|▌         | 5/100 [01:04<20:29, 12.94s/it]"
     ]
    },
    {
     "name": "stdout",
     "output_type": "stream",
     "text": [
      "Train loss : 0.0531841 --- Train acc : 84.2 %\n",
      "Test  loss : 0.0507606 --- Test  acc : 84.83 %\n"
     ]
    },
    {
     "name": "stderr",
     "output_type": "stream",
     "text": [
      "  6%|▌         | 6/100 [01:18<20:28, 13.07s/it]"
     ]
    },
    {
     "name": "stdout",
     "output_type": "stream",
     "text": [
      "Train loss : 0.0443708 --- Train acc : 87.175 %\n",
      "Test  loss : 0.0420112 --- Test  acc : 87.77 %\n"
     ]
    },
    {
     "name": "stderr",
     "output_type": "stream",
     "text": [
      "  7%|▋         | 7/100 [01:31<20:15, 13.07s/it]"
     ]
    },
    {
     "name": "stdout",
     "output_type": "stream",
     "text": [
      "Train loss : 0.0401248 --- Train acc : 88.1 %\n",
      "Test  loss : 0.0378903 --- Test  acc : 88.7 %\n"
     ]
    },
    {
     "name": "stderr",
     "output_type": "stream",
     "text": [
      "  8%|▊         | 8/100 [01:45<20:11, 13.17s/it]"
     ]
    },
    {
     "name": "stdout",
     "output_type": "stream",
     "text": [
      "Train loss : 0.0374794 --- Train acc : 88.8583 %\n",
      "Test  loss : 0.0351047 --- Test  acc : 89.46 %\n"
     ]
    },
    {
     "name": "stderr",
     "output_type": "stream",
     "text": [
      "  9%|▉         | 9/100 [01:59<20:10, 13.30s/it]"
     ]
    },
    {
     "name": "stdout",
     "output_type": "stream",
     "text": [
      "Train loss : 0.0346518 --- Train acc : 89.6533 %\n",
      "Test  loss : 0.032539 --- Test  acc : 90 %\n"
     ]
    },
    {
     "name": "stderr",
     "output_type": "stream",
     "text": [
      " 10%|█         | 10/100 [02:12<19:52, 13.25s/it]"
     ]
    },
    {
     "name": "stdout",
     "output_type": "stream",
     "text": [
      "Train loss : 0.0314364 --- Train acc : 90.705 %\n",
      "Test  loss : 0.0293072 --- Test  acc : 91.52 %\n"
     ]
    },
    {
     "name": "stderr",
     "output_type": "stream",
     "text": [
      " 11%|█         | 11/100 [02:26<19:46, 13.34s/it]"
     ]
    },
    {
     "name": "stdout",
     "output_type": "stream",
     "text": [
      "Train loss : 0.0292258 --- Train acc : 91.3833 %\n",
      "Test  loss : 0.0272671 --- Test  acc : 91.84 %\n"
     ]
    },
    {
     "name": "stderr",
     "output_type": "stream",
     "text": [
      " 12%|█▏        | 12/100 [02:39<19:29, 13.29s/it]"
     ]
    },
    {
     "name": "stdout",
     "output_type": "stream",
     "text": [
      "Train loss : 0.0277287 --- Train acc : 91.78 %\n",
      "Test  loss : 0.0257047 --- Test  acc : 92.38 %\n"
     ]
    },
    {
     "name": "stderr",
     "output_type": "stream",
     "text": [
      " 13%|█▎        | 13/100 [02:55<19:34, 13.50s/it]"
     ]
    },
    {
     "name": "stdout",
     "output_type": "stream",
     "text": [
      "Train loss : 0.0263553 --- Train acc : 92.1933 %\n",
      "Test  loss : 0.0244383 --- Test  acc : 92.73 %\n"
     ]
    },
    {
     "name": "stderr",
     "output_type": "stream",
     "text": [
      " 14%|█▍        | 14/100 [03:09<19:26, 13.57s/it]"
     ]
    },
    {
     "name": "stdout",
     "output_type": "stream",
     "text": [
      "Train loss : 0.0255093 --- Train acc : 92.4767 %\n",
      "Test  loss : 0.0234379 --- Test  acc : 93.33 %\n"
     ]
    },
    {
     "name": "stderr",
     "output_type": "stream",
     "text": [
      " 15%|█▌        | 15/100 [03:23<19:14, 13.58s/it]"
     ]
    },
    {
     "name": "stdout",
     "output_type": "stream",
     "text": [
      "Train loss : 0.0237588 --- Train acc : 93.0633 %\n",
      "Test  loss : 0.0219877 --- Test  acc : 93.69 %\n"
     ]
    },
    {
     "name": "stderr",
     "output_type": "stream",
     "text": [
      " 16%|█▌        | 16/100 [03:38<19:04, 13.63s/it]"
     ]
    },
    {
     "name": "stdout",
     "output_type": "stream",
     "text": [
      "Train loss : 0.0237779 --- Train acc : 92.8583 %\n",
      "Test  loss : 0.0219056 --- Test  acc : 93.39 %\n"
     ]
    },
    {
     "name": "stderr",
     "output_type": "stream",
     "text": [
      " 17%|█▋        | 17/100 [03:51<18:50, 13.63s/it]"
     ]
    },
    {
     "name": "stdout",
     "output_type": "stream",
     "text": [
      "Train loss : 0.0218811 --- Train acc : 93.5317 %\n",
      "Test  loss : 0.0200087 --- Test  acc : 94.2 %\n"
     ]
    },
    {
     "name": "stderr",
     "output_type": "stream",
     "text": [
      " 18%|█▊        | 18/100 [04:05<18:38, 13.64s/it]"
     ]
    },
    {
     "name": "stdout",
     "output_type": "stream",
     "text": [
      "Train loss : 0.020778 --- Train acc : 93.8483 %\n",
      "Test  loss : 0.0191203 --- Test  acc : 94.43 %\n"
     ]
    },
    {
     "name": "stderr",
     "output_type": "stream",
     "text": [
      " 19%|█▉        | 19/100 [04:19<18:24, 13.64s/it]"
     ]
    },
    {
     "name": "stdout",
     "output_type": "stream",
     "text": [
      "Train loss : 0.0206883 --- Train acc : 93.8233 %\n",
      "Test  loss : 0.0187343 --- Test  acc : 94.5 %\n"
     ]
    },
    {
     "name": "stderr",
     "output_type": "stream",
     "text": [
      " 20%|██        | 20/100 [04:33<18:14, 13.68s/it]"
     ]
    },
    {
     "name": "stdout",
     "output_type": "stream",
     "text": [
      "Train loss : 0.0195531 --- Train acc : 94.2617 %\n",
      "Test  loss : 0.0178776 --- Test  acc : 94.69 %\n"
     ]
    },
    {
     "name": "stderr",
     "output_type": "stream",
     "text": [
      " 21%|██        | 21/100 [04:47<18:02, 13.71s/it]"
     ]
    },
    {
     "name": "stdout",
     "output_type": "stream",
     "text": [
      "Train loss : 0.0184368 --- Train acc : 94.5683 %\n",
      "Test  loss : 0.0167508 --- Test  acc : 95.25 %\n"
     ]
    },
    {
     "name": "stderr",
     "output_type": "stream",
     "text": [
      " 22%|██▏       | 22/100 [05:02<17:52, 13.74s/it]"
     ]
    },
    {
     "name": "stdout",
     "output_type": "stream",
     "text": [
      "Train loss : 0.0176664 --- Train acc : 94.8067 %\n",
      "Test  loss : 0.0162033 --- Test  acc : 95.32 %\n"
     ]
    },
    {
     "name": "stderr",
     "output_type": "stream",
     "text": [
      " 23%|██▎       | 23/100 [05:16<17:39, 13.76s/it]"
     ]
    },
    {
     "name": "stdout",
     "output_type": "stream",
     "text": [
      "Train loss : 0.0167701 --- Train acc : 95.1267 %\n",
      "Test  loss : 0.0154348 --- Test  acc : 95.66 %\n"
     ]
    },
    {
     "name": "stderr",
     "output_type": "stream",
     "text": [
      " 24%|██▍       | 24/100 [05:31<17:29, 13.80s/it]"
     ]
    },
    {
     "name": "stdout",
     "output_type": "stream",
     "text": [
      "Train loss : 0.0166967 --- Train acc : 95.08 %\n",
      "Test  loss : 0.0152782 --- Test  acc : 95.42 %\n"
     ]
    },
    {
     "name": "stderr",
     "output_type": "stream",
     "text": [
      " 25%|██▌       | 25/100 [05:45<17:16, 13.82s/it]"
     ]
    },
    {
     "name": "stdout",
     "output_type": "stream",
     "text": [
      "Train loss : 0.0160071 --- Train acc : 95.2967 %\n",
      "Test  loss : 0.014661 --- Test  acc : 95.84 %\n"
     ]
    },
    {
     "name": "stderr",
     "output_type": "stream",
     "text": [
      " 26%|██▌       | 26/100 [05:59<17:02, 13.82s/it]"
     ]
    },
    {
     "name": "stdout",
     "output_type": "stream",
     "text": [
      "Train loss : 0.0152831 --- Train acc : 95.4983 %\n",
      "Test  loss : 0.0137862 --- Test  acc : 96.17 %\n"
     ]
    },
    {
     "name": "stderr",
     "output_type": "stream",
     "text": [
      " 27%|██▋       | 27/100 [06:12<16:48, 13.81s/it]"
     ]
    },
    {
     "name": "stdout",
     "output_type": "stream",
     "text": [
      "Train loss : 0.014798 --- Train acc : 95.7183 %\n",
      "Test  loss : 0.0136565 --- Test  acc : 96.02 %\n"
     ]
    },
    {
     "name": "stderr",
     "output_type": "stream",
     "text": [
      " 28%|██▊       | 28/100 [06:26<16:34, 13.81s/it]"
     ]
    },
    {
     "name": "stdout",
     "output_type": "stream",
     "text": [
      "Train loss : 0.0146565 --- Train acc : 95.6633 %\n",
      "Test  loss : 0.01322 --- Test  acc : 96.19 %\n"
     ]
    },
    {
     "name": "stderr",
     "output_type": "stream",
     "text": [
      " 29%|██▉       | 29/100 [06:40<16:20, 13.81s/it]"
     ]
    },
    {
     "name": "stdout",
     "output_type": "stream",
     "text": [
      "Train loss : 0.0136552 --- Train acc : 96.0283 %\n",
      "Test  loss : 0.0124184 --- Test  acc : 96.51 %\n"
     ]
    },
    {
     "name": "stderr",
     "output_type": "stream",
     "text": [
      " 30%|███       | 30/100 [06:54<16:06, 13.81s/it]"
     ]
    },
    {
     "name": "stdout",
     "output_type": "stream",
     "text": [
      "Train loss : 0.0132466 --- Train acc : 96.1783 %\n",
      "Test  loss : 0.0120536 --- Test  acc : 96.63 %\n"
     ]
    },
    {
     "name": "stderr",
     "output_type": "stream",
     "text": [
      " 31%|███       | 31/100 [07:08<15:52, 13.81s/it]"
     ]
    },
    {
     "name": "stdout",
     "output_type": "stream",
     "text": [
      "Train loss : 0.0128882 --- Train acc : 96.22 %\n",
      "Test  loss : 0.0116947 --- Test  acc : 96.67 %\n"
     ]
    },
    {
     "name": "stderr",
     "output_type": "stream",
     "text": [
      " 32%|███▏      | 32/100 [07:21<15:38, 13.80s/it]"
     ]
    },
    {
     "name": "stdout",
     "output_type": "stream",
     "text": [
      "Train loss : 0.0129541 --- Train acc : 96.2933 %\n",
      "Test  loss : 0.0118449 --- Test  acc : 96.67 %\n"
     ]
    },
    {
     "name": "stderr",
     "output_type": "stream",
     "text": [
      " 33%|███▎      | 33/100 [07:35<15:24, 13.80s/it]"
     ]
    },
    {
     "name": "stdout",
     "output_type": "stream",
     "text": [
      "Train loss : 0.0124652 --- Train acc : 96.345 %\n",
      "Test  loss : 0.0111889 --- Test  acc : 96.77 %\n"
     ]
    },
    {
     "name": "stderr",
     "output_type": "stream",
     "text": [
      " 34%|███▍      | 34/100 [07:50<15:12, 13.82s/it]"
     ]
    },
    {
     "name": "stdout",
     "output_type": "stream",
     "text": [
      "Train loss : 0.011919 --- Train acc : 96.465 %\n",
      "Test  loss : 0.0106156 --- Test  acc : 97.04 %\n"
     ]
    },
    {
     "name": "stderr",
     "output_type": "stream",
     "text": [
      " 35%|███▌      | 35/100 [08:03<14:58, 13.83s/it]"
     ]
    },
    {
     "name": "stdout",
     "output_type": "stream",
     "text": [
      "Train loss : 0.0115522 --- Train acc : 96.5833 %\n",
      "Test  loss : 0.0103704 --- Test  acc : 96.96 %\n"
     ]
    },
    {
     "name": "stderr",
     "output_type": "stream",
     "text": [
      " 36%|███▌      | 36/100 [08:17<14:45, 13.83s/it]"
     ]
    },
    {
     "name": "stdout",
     "output_type": "stream",
     "text": [
      "Train loss : 0.0113622 --- Train acc : 96.6267 %\n",
      "Test  loss : 0.0103862 --- Test  acc : 97.05 %\n"
     ]
    },
    {
     "name": "stderr",
     "output_type": "stream",
     "text": [
      " 37%|███▋      | 37/100 [08:31<14:31, 13.83s/it]"
     ]
    },
    {
     "name": "stdout",
     "output_type": "stream",
     "text": [
      "Train loss : 0.01156 --- Train acc : 96.5933 %\n",
      "Test  loss : 0.0103616 --- Test  acc : 96.87 %\n"
     ]
    },
    {
     "name": "stderr",
     "output_type": "stream",
     "text": [
      " 38%|███▊      | 38/100 [08:46<14:18, 13.85s/it]"
     ]
    },
    {
     "name": "stdout",
     "output_type": "stream",
     "text": [
      "Train loss : 0.0111497 --- Train acc : 96.655 %\n",
      "Test  loss : 0.00991554 --- Test  acc : 97.22 %\n"
     ]
    },
    {
     "name": "stderr",
     "output_type": "stream",
     "text": [
      " 39%|███▉      | 39/100 [09:00<14:04, 13.85s/it]"
     ]
    },
    {
     "name": "stdout",
     "output_type": "stream",
     "text": [
      "Train loss : 0.0105702 --- Train acc : 96.8783 %\n",
      "Test  loss : 0.0094519 --- Test  acc : 97.26 %\n"
     ]
    },
    {
     "name": "stderr",
     "output_type": "stream",
     "text": [
      " 40%|████      | 40/100 [09:13<13:50, 13.85s/it]"
     ]
    },
    {
     "name": "stdout",
     "output_type": "stream",
     "text": [
      "Train loss : 0.0105305 --- Train acc : 96.8633 %\n",
      "Test  loss : 0.00941322 --- Test  acc : 97.34 %\n"
     ]
    },
    {
     "name": "stderr",
     "output_type": "stream",
     "text": [
      " 41%|████      | 41/100 [09:27<13:37, 13.85s/it]"
     ]
    },
    {
     "name": "stdout",
     "output_type": "stream",
     "text": [
      "Train loss : 0.0101835 --- Train acc : 96.9283 %\n",
      "Test  loss : 0.00921208 --- Test  acc : 97.33 %\n"
     ]
    },
    {
     "name": "stderr",
     "output_type": "stream",
     "text": [
      " 42%|████▏     | 42/100 [09:42<13:24, 13.86s/it]"
     ]
    },
    {
     "name": "stdout",
     "output_type": "stream",
     "text": [
      "Train loss : 0.0103703 --- Train acc : 96.885 %\n",
      "Test  loss : 0.00927977 --- Test  acc : 97.16 %\n"
     ]
    },
    {
     "name": "stderr",
     "output_type": "stream",
     "text": [
      " 43%|████▎     | 43/100 [09:56<13:10, 13.86s/it]"
     ]
    },
    {
     "name": "stdout",
     "output_type": "stream",
     "text": [
      "Train loss : 0.0097925 --- Train acc : 97.1017 %\n",
      "Test  loss : 0.00867335 --- Test  acc : 97.47 %\n"
     ]
    },
    {
     "name": "stderr",
     "output_type": "stream",
     "text": [
      " 44%|████▍     | 44/100 [10:10<12:57, 13.89s/it]"
     ]
    },
    {
     "name": "stdout",
     "output_type": "stream",
     "text": [
      "Train loss : 0.00966892 --- Train acc : 97.185 %\n",
      "Test  loss : 0.00871672 --- Test  acc : 97.38 %\n"
     ]
    },
    {
     "name": "stderr",
     "output_type": "stream",
     "text": [
      " 45%|████▌     | 45/100 [10:25<12:44, 13.90s/it]"
     ]
    },
    {
     "name": "stdout",
     "output_type": "stream",
     "text": [
      "Train loss : 0.00967581 --- Train acc : 97.0983 %\n",
      "Test  loss : 0.00865074 --- Test  acc : 97.53 %\n"
     ]
    },
    {
     "name": "stderr",
     "output_type": "stream",
     "text": [
      " 46%|████▌     | 46/100 [10:38<12:29, 13.89s/it]"
     ]
    },
    {
     "name": "stdout",
     "output_type": "stream",
     "text": [
      "Train loss : 0.00933438 --- Train acc : 97.29 %\n",
      "Test  loss : 0.00833522 --- Test  acc : 97.58 %\n"
     ]
    },
    {
     "name": "stderr",
     "output_type": "stream",
     "text": [
      " 47%|████▋     | 47/100 [10:52<12:16, 13.89s/it]"
     ]
    },
    {
     "name": "stdout",
     "output_type": "stream",
     "text": [
      "Train loss : 0.00931665 --- Train acc : 97.225 %\n",
      "Test  loss : 0.00834515 --- Test  acc : 97.35 %\n"
     ]
    },
    {
     "name": "stderr",
     "output_type": "stream",
     "text": [
      " 48%|████▊     | 48/100 [11:06<12:01, 13.88s/it]"
     ]
    },
    {
     "name": "stdout",
     "output_type": "stream",
     "text": [
      "Train loss : 0.00903258 --- Train acc : 97.3067 %\n",
      "Test  loss : 0.00811913 --- Test  acc : 97.71 %\n"
     ]
    },
    {
     "name": "stderr",
     "output_type": "stream",
     "text": [
      " 49%|████▉     | 49/100 [11:21<11:48, 13.90s/it]"
     ]
    },
    {
     "name": "stdout",
     "output_type": "stream",
     "text": [
      "Train loss : 0.00896108 --- Train acc : 97.345 %\n",
      "Test  loss : 0.00797318 --- Test  acc : 97.65 %\n"
     ]
    },
    {
     "name": "stderr",
     "output_type": "stream",
     "text": [
      " 50%|█████     | 50/100 [11:35<11:35, 13.90s/it]"
     ]
    },
    {
     "name": "stdout",
     "output_type": "stream",
     "text": [
      "Train loss : 0.00889843 --- Train acc : 97.3567 %\n",
      "Test  loss : 0.00817507 --- Test  acc : 97.51 %\n"
     ]
    },
    {
     "name": "stderr",
     "output_type": "stream",
     "text": [
      " 51%|█████     | 51/100 [11:48<11:21, 13.90s/it]"
     ]
    },
    {
     "name": "stdout",
     "output_type": "stream",
     "text": [
      "Train loss : 0.00874091 --- Train acc : 97.3567 %\n",
      "Test  loss : 0.00803888 --- Test  acc : 97.48 %\n"
     ]
    },
    {
     "name": "stderr",
     "output_type": "stream",
     "text": [
      " 52%|█████▏    | 52/100 [12:02<11:07, 13.90s/it]"
     ]
    },
    {
     "name": "stdout",
     "output_type": "stream",
     "text": [
      "Train loss : 0.00854363 --- Train acc : 97.44 %\n",
      "Test  loss : 0.00780175 --- Test  acc : 97.65 %\n"
     ]
    },
    {
     "name": "stderr",
     "output_type": "stream",
     "text": [
      " 53%|█████▎    | 53/100 [12:16<10:53, 13.90s/it]"
     ]
    },
    {
     "name": "stdout",
     "output_type": "stream",
     "text": [
      "Train loss : 0.00842229 --- Train acc : 97.4683 %\n",
      "Test  loss : 0.00783606 --- Test  acc : 97.59 %\n"
     ]
    },
    {
     "name": "stderr",
     "output_type": "stream",
     "text": [
      " 54%|█████▍    | 54/100 [12:30<10:39, 13.90s/it]"
     ]
    },
    {
     "name": "stdout",
     "output_type": "stream",
     "text": [
      "Train loss : 0.00835525 --- Train acc : 97.4567 %\n",
      "Test  loss : 0.00766613 --- Test  acc : 97.7 %\n"
     ]
    },
    {
     "name": "stderr",
     "output_type": "stream",
     "text": [
      " 55%|█████▌    | 55/100 [12:44<10:25, 13.90s/it]"
     ]
    },
    {
     "name": "stdout",
     "output_type": "stream",
     "text": [
      "Train loss : 0.00820533 --- Train acc : 97.5533 %\n",
      "Test  loss : 0.00736327 --- Test  acc : 97.79 %\n"
     ]
    },
    {
     "name": "stderr",
     "output_type": "stream",
     "text": [
      " 56%|█████▌    | 56/100 [12:58<10:12, 13.91s/it]"
     ]
    },
    {
     "name": "stdout",
     "output_type": "stream",
     "text": [
      "Train loss : 0.00817126 --- Train acc : 97.5533 %\n",
      "Test  loss : 0.0075083 --- Test  acc : 97.78 %\n"
     ]
    },
    {
     "name": "stderr",
     "output_type": "stream",
     "text": [
      " 57%|█████▋    | 57/100 [13:12<09:57, 13.91s/it]"
     ]
    },
    {
     "name": "stdout",
     "output_type": "stream",
     "text": [
      "Train loss : 0.00812893 --- Train acc : 97.5717 %\n",
      "Test  loss : 0.00736528 --- Test  acc : 97.8 %\n"
     ]
    },
    {
     "name": "stderr",
     "output_type": "stream",
     "text": [
      " 58%|█████▊    | 58/100 [13:27<09:44, 13.92s/it]"
     ]
    },
    {
     "name": "stdout",
     "output_type": "stream",
     "text": [
      "Train loss : 0.00824752 --- Train acc : 97.4933 %\n",
      "Test  loss : 0.007533 --- Test  acc : 97.75 %\n"
     ]
    },
    {
     "name": "stderr",
     "output_type": "stream",
     "text": [
      " 59%|█████▉    | 59/100 [13:41<09:31, 13.93s/it]"
     ]
    },
    {
     "name": "stdout",
     "output_type": "stream",
     "text": [
      "Train loss : 0.00799168 --- Train acc : 97.5883 %\n",
      "Test  loss : 0.00721423 --- Test  acc : 97.72 %\n"
     ]
    },
    {
     "name": "stderr",
     "output_type": "stream",
     "text": [
      " 60%|██████    | 60/100 [13:56<09:17, 13.94s/it]"
     ]
    },
    {
     "name": "stdout",
     "output_type": "stream",
     "text": [
      "Train loss : 0.00806766 --- Train acc : 97.61 %\n",
      "Test  loss : 0.00733892 --- Test  acc : 97.68 %\n"
     ]
    },
    {
     "name": "stderr",
     "output_type": "stream",
     "text": [
      " 61%|██████    | 61/100 [14:09<09:03, 13.93s/it]"
     ]
    },
    {
     "name": "stdout",
     "output_type": "stream",
     "text": [
      "Train loss : 0.00759235 --- Train acc : 97.755 %\n",
      "Test  loss : 0.00696937 --- Test  acc : 97.9 %\n"
     ]
    },
    {
     "name": "stderr",
     "output_type": "stream",
     "text": [
      " 62%|██████▏   | 62/100 [14:23<08:49, 13.92s/it]"
     ]
    },
    {
     "name": "stdout",
     "output_type": "stream",
     "text": [
      "Train loss : 0.00756587 --- Train acc : 97.7817 %\n",
      "Test  loss : 0.00711745 --- Test  acc : 97.82 %\n"
     ]
    },
    {
     "name": "stderr",
     "output_type": "stream",
     "text": [
      " 63%|██████▎   | 63/100 [14:37<08:35, 13.93s/it]"
     ]
    },
    {
     "name": "stdout",
     "output_type": "stream",
     "text": [
      "Train loss : 0.00751328 --- Train acc : 97.745 %\n",
      "Test  loss : 0.00703609 --- Test  acc : 97.79 %\n"
     ]
    },
    {
     "name": "stderr",
     "output_type": "stream",
     "text": [
      " 64%|██████▍   | 64/100 [14:51<08:21, 13.94s/it]"
     ]
    },
    {
     "name": "stdout",
     "output_type": "stream",
     "text": [
      "Train loss : 0.00750633 --- Train acc : 97.775 %\n",
      "Test  loss : 0.00709999 --- Test  acc : 97.76 %\n"
     ]
    },
    {
     "name": "stderr",
     "output_type": "stream",
     "text": [
      " 65%|██████▌   | 65/100 [15:05<08:07, 13.93s/it]"
     ]
    },
    {
     "name": "stdout",
     "output_type": "stream",
     "text": [
      "Train loss : 0.00724898 --- Train acc : 97.835 %\n",
      "Test  loss : 0.00669527 --- Test  acc : 97.98 %\n"
     ]
    },
    {
     "name": "stderr",
     "output_type": "stream",
     "text": [
      " 66%|██████▌   | 66/100 [15:20<07:54, 13.94s/it]"
     ]
    },
    {
     "name": "stdout",
     "output_type": "stream",
     "text": [
      "Train loss : 0.00724212 --- Train acc : 97.8483 %\n",
      "Test  loss : 0.00649601 --- Test  acc : 97.95 %\n"
     ]
    },
    {
     "name": "stderr",
     "output_type": "stream",
     "text": [
      " 67%|██████▋   | 67/100 [15:34<07:40, 13.94s/it]"
     ]
    },
    {
     "name": "stdout",
     "output_type": "stream",
     "text": [
      "Train loss : 0.00726133 --- Train acc : 97.8683 %\n",
      "Test  loss : 0.006845 --- Test  acc : 97.88 %\n"
     ]
    },
    {
     "name": "stderr",
     "output_type": "stream",
     "text": [
      " 68%|██████▊   | 68/100 [15:48<07:26, 13.94s/it]"
     ]
    },
    {
     "name": "stdout",
     "output_type": "stream",
     "text": [
      "Train loss : 0.0070656 --- Train acc : 97.9 %\n",
      "Test  loss : 0.00651347 --- Test  acc : 98.02 %\n"
     ]
    },
    {
     "name": "stderr",
     "output_type": "stream",
     "text": [
      " 69%|██████▉   | 69/100 [16:02<07:12, 13.95s/it]"
     ]
    },
    {
     "name": "stdout",
     "output_type": "stream",
     "text": [
      "Train loss : 0.00711424 --- Train acc : 97.865 %\n",
      "Test  loss : 0.00644611 --- Test  acc : 98.04 %\n"
     ]
    },
    {
     "name": "stderr",
     "output_type": "stream",
     "text": [
      " 70%|███████   | 70/100 [16:15<06:58, 13.94s/it]"
     ]
    },
    {
     "name": "stdout",
     "output_type": "stream",
     "text": [
      "Train loss : 0.00710935 --- Train acc : 97.8783 %\n",
      "Test  loss : 0.00683695 --- Test  acc : 97.94 %\n"
     ]
    },
    {
     "name": "stderr",
     "output_type": "stream",
     "text": [
      " 71%|███████   | 71/100 [16:29<06:44, 13.94s/it]"
     ]
    },
    {
     "name": "stdout",
     "output_type": "stream",
     "text": [
      "Train loss : 0.0068493 --- Train acc : 97.9667 %\n",
      "Test  loss : 0.00642484 --- Test  acc : 98.02 %\n"
     ]
    },
    {
     "name": "stderr",
     "output_type": "stream",
     "text": [
      " 72%|███████▏  | 72/100 [16:44<06:30, 13.95s/it]"
     ]
    },
    {
     "name": "stdout",
     "output_type": "stream",
     "text": [
      "Train loss : 0.00698797 --- Train acc : 97.8817 %\n",
      "Test  loss : 0.00662734 --- Test  acc : 97.95 %\n"
     ]
    },
    {
     "name": "stderr",
     "output_type": "stream",
     "text": [
      " 73%|███████▎  | 73/100 [16:58<06:16, 13.95s/it]"
     ]
    },
    {
     "name": "stdout",
     "output_type": "stream",
     "text": [
      "Train loss : 0.00687068 --- Train acc : 97.9383 %\n",
      "Test  loss : 0.00643091 --- Test  acc : 97.97 %\n"
     ]
    },
    {
     "name": "stderr",
     "output_type": "stream",
     "text": [
      " 74%|███████▍  | 74/100 [17:13<06:02, 13.96s/it]"
     ]
    },
    {
     "name": "stdout",
     "output_type": "stream",
     "text": [
      "Train loss : 0.00672804 --- Train acc : 98.035 %\n",
      "Test  loss : 0.00635689 --- Test  acc : 98.03 %\n"
     ]
    },
    {
     "name": "stderr",
     "output_type": "stream",
     "text": [
      " 75%|███████▌  | 75/100 [17:26<05:48, 13.95s/it]"
     ]
    },
    {
     "name": "stdout",
     "output_type": "stream",
     "text": [
      "Train loss : 0.00662073 --- Train acc : 98.0367 %\n",
      "Test  loss : 0.00632222 --- Test  acc : 98.12 %\n"
     ]
    },
    {
     "name": "stderr",
     "output_type": "stream",
     "text": [
      " 76%|███████▌  | 76/100 [17:40<05:34, 13.95s/it]"
     ]
    },
    {
     "name": "stdout",
     "output_type": "stream",
     "text": [
      "Train loss : 0.00651667 --- Train acc : 98.0833 %\n",
      "Test  loss : 0.00604867 --- Test  acc : 98.19 %\n"
     ]
    },
    {
     "name": "stderr",
     "output_type": "stream",
     "text": [
      " 77%|███████▋  | 77/100 [17:54<05:20, 13.95s/it]"
     ]
    },
    {
     "name": "stdout",
     "output_type": "stream",
     "text": [
      "Train loss : 0.00649083 --- Train acc : 98.09 %\n",
      "Test  loss : 0.00609653 --- Test  acc : 98.14 %\n"
     ]
    },
    {
     "name": "stderr",
     "output_type": "stream",
     "text": [
      " 78%|███████▊  | 78/100 [18:08<05:07, 13.96s/it]"
     ]
    },
    {
     "name": "stdout",
     "output_type": "stream",
     "text": [
      "Train loss : 0.00640533 --- Train acc : 98.0883 %\n",
      "Test  loss : 0.00587922 --- Test  acc : 98.2 %\n"
     ]
    },
    {
     "name": "stderr",
     "output_type": "stream",
     "text": [
      " 79%|███████▉  | 79/100 [18:22<04:52, 13.95s/it]"
     ]
    },
    {
     "name": "stdout",
     "output_type": "stream",
     "text": [
      "Train loss : 0.00635894 --- Train acc : 98.1267 %\n",
      "Test  loss : 0.00614437 --- Test  acc : 98.11 %\n"
     ]
    },
    {
     "name": "stderr",
     "output_type": "stream",
     "text": [
      " 80%|████████  | 80/100 [18:36<04:39, 13.96s/it]"
     ]
    },
    {
     "name": "stdout",
     "output_type": "stream",
     "text": [
      "Train loss : 0.00636938 --- Train acc : 98.0983 %\n",
      "Test  loss : 0.00608433 --- Test  acc : 98.11 %\n"
     ]
    },
    {
     "name": "stderr",
     "output_type": "stream",
     "text": [
      " 81%|████████  | 81/100 [18:50<04:25, 13.95s/it]"
     ]
    },
    {
     "name": "stdout",
     "output_type": "stream",
     "text": [
      "Train loss : 0.00660095 --- Train acc : 97.985 %\n",
      "Test  loss : 0.00605106 --- Test  acc : 98.14 %\n"
     ]
    },
    {
     "name": "stderr",
     "output_type": "stream",
     "text": [
      " 82%|████████▏ | 82/100 [19:04<04:11, 13.96s/it]"
     ]
    },
    {
     "name": "stdout",
     "output_type": "stream",
     "text": [
      "Train loss : 0.00634333 --- Train acc : 98.0983 %\n",
      "Test  loss : 0.00580294 --- Test  acc : 98.21 %\n"
     ]
    },
    {
     "name": "stderr",
     "output_type": "stream",
     "text": [
      " 83%|████████▎ | 83/100 [19:17<03:57, 13.95s/it]"
     ]
    },
    {
     "name": "stdout",
     "output_type": "stream",
     "text": [
      "Train loss : 0.0062723 --- Train acc : 98.13 %\n",
      "Test  loss : 0.00596466 --- Test  acc : 98.14 %\n"
     ]
    },
    {
     "name": "stderr",
     "output_type": "stream",
     "text": [
      " 84%|████████▍ | 84/100 [19:31<03:43, 13.95s/it]"
     ]
    },
    {
     "name": "stdout",
     "output_type": "stream",
     "text": [
      "Train loss : 0.00625913 --- Train acc : 98.15 %\n",
      "Test  loss : 0.00616059 --- Test  acc : 98.08 %\n"
     ]
    },
    {
     "name": "stderr",
     "output_type": "stream",
     "text": [
      " 85%|████████▌ | 85/100 [19:45<03:29, 13.95s/it]"
     ]
    },
    {
     "name": "stdout",
     "output_type": "stream",
     "text": [
      "Train loss : 0.00626801 --- Train acc : 98.1367 %\n",
      "Test  loss : 0.00613732 --- Test  acc : 98.09 %\n"
     ]
    },
    {
     "name": "stderr",
     "output_type": "stream",
     "text": [
      " 86%|████████▌ | 86/100 [19:59<03:15, 13.94s/it]"
     ]
    },
    {
     "name": "stdout",
     "output_type": "stream",
     "text": [
      "Train loss : 0.00600602 --- Train acc : 98.2533 %\n",
      "Test  loss : 0.00580146 --- Test  acc : 98.28 %\n"
     ]
    },
    {
     "name": "stderr",
     "output_type": "stream",
     "text": [
      " 87%|████████▋ | 87/100 [20:13<03:01, 13.95s/it]"
     ]
    },
    {
     "name": "stdout",
     "output_type": "stream",
     "text": [
      "Train loss : 0.00599403 --- Train acc : 98.235 %\n",
      "Test  loss : 0.0056806 --- Test  acc : 98.24 %\n"
     ]
    },
    {
     "name": "stderr",
     "output_type": "stream",
     "text": [
      " 88%|████████▊ | 88/100 [20:27<02:47, 13.94s/it]"
     ]
    },
    {
     "name": "stdout",
     "output_type": "stream",
     "text": [
      "Train loss : 0.00595565 --- Train acc : 98.2483 %\n",
      "Test  loss : 0.00574638 --- Test  acc : 98.27 %\n"
     ]
    },
    {
     "name": "stderr",
     "output_type": "stream",
     "text": [
      " 89%|████████▉ | 89/100 [20:40<02:33, 13.94s/it]"
     ]
    },
    {
     "name": "stdout",
     "output_type": "stream",
     "text": [
      "Train loss : 0.00611964 --- Train acc : 98.1883 %\n",
      "Test  loss : 0.00593473 --- Test  acc : 98.16 %\n"
     ]
    },
    {
     "name": "stderr",
     "output_type": "stream",
     "text": [
      " 90%|█████████ | 90/100 [20:54<02:19, 13.94s/it]"
     ]
    },
    {
     "name": "stdout",
     "output_type": "stream",
     "text": [
      "Train loss : 0.00588401 --- Train acc : 98.2883 %\n",
      "Test  loss : 0.00577542 --- Test  acc : 98.24 %\n"
     ]
    },
    {
     "name": "stderr",
     "output_type": "stream",
     "text": [
      " 91%|█████████ | 91/100 [21:08<02:05, 13.94s/it]"
     ]
    },
    {
     "name": "stdout",
     "output_type": "stream",
     "text": [
      "Train loss : 0.00578709 --- Train acc : 98.3 %\n",
      "Test  loss : 0.00563289 --- Test  acc : 98.22 %\n"
     ]
    },
    {
     "name": "stderr",
     "output_type": "stream",
     "text": [
      " 92%|█████████▏| 92/100 [21:22<01:51, 13.94s/it]"
     ]
    },
    {
     "name": "stdout",
     "output_type": "stream",
     "text": [
      "Train loss : 0.00593536 --- Train acc : 98.26 %\n",
      "Test  loss : 0.00566107 --- Test  acc : 98.23 %\n"
     ]
    },
    {
     "name": "stderr",
     "output_type": "stream",
     "text": [
      " 93%|█████████▎| 93/100 [21:37<01:37, 13.95s/it]"
     ]
    },
    {
     "name": "stdout",
     "output_type": "stream",
     "text": [
      "Train loss : 0.00573473 --- Train acc : 98.315 %\n",
      "Test  loss : 0.00534665 --- Test  acc : 98.44 %\n"
     ]
    },
    {
     "name": "stderr",
     "output_type": "stream",
     "text": [
      " 94%|█████████▍| 94/100 [21:51<01:23, 13.95s/it]"
     ]
    },
    {
     "name": "stdout",
     "output_type": "stream",
     "text": [
      "Train loss : 0.0057873 --- Train acc : 98.2983 %\n",
      "Test  loss : 0.00571687 --- Test  acc : 98.26 %\n"
     ]
    },
    {
     "name": "stderr",
     "output_type": "stream",
     "text": [
      " 95%|█████████▌| 95/100 [22:05<01:09, 13.95s/it]"
     ]
    },
    {
     "name": "stdout",
     "output_type": "stream",
     "text": [
      "Train loss : 0.00561109 --- Train acc : 98.3483 %\n",
      "Test  loss : 0.00543435 --- Test  acc : 98.33 %\n"
     ]
    },
    {
     "name": "stderr",
     "output_type": "stream",
     "text": [
      " 96%|█████████▌| 96/100 [22:19<00:55, 13.95s/it]"
     ]
    },
    {
     "name": "stdout",
     "output_type": "stream",
     "text": [
      "Train loss : 0.00562823 --- Train acc : 98.3233 %\n",
      "Test  loss : 0.00546747 --- Test  acc : 98.44 %\n"
     ]
    },
    {
     "name": "stderr",
     "output_type": "stream",
     "text": [
      " 97%|█████████▋| 97/100 [22:33<00:41, 13.95s/it]"
     ]
    },
    {
     "name": "stdout",
     "output_type": "stream",
     "text": [
      "Train loss : 0.00558194 --- Train acc : 98.3767 %\n",
      "Test  loss : 0.0053248 --- Test  acc : 98.35 %\n"
     ]
    },
    {
     "name": "stderr",
     "output_type": "stream",
     "text": [
      " 98%|█████████▊| 98/100 [22:47<00:27, 13.96s/it]"
     ]
    },
    {
     "name": "stdout",
     "output_type": "stream",
     "text": [
      "Train loss : 0.00558033 --- Train acc : 98.3383 %\n",
      "Test  loss : 0.0055348 --- Test  acc : 98.29 %\n"
     ]
    },
    {
     "name": "stderr",
     "output_type": "stream",
     "text": [
      " 99%|█████████▉| 99/100 [23:01<00:13, 13.96s/it]"
     ]
    },
    {
     "name": "stdout",
     "output_type": "stream",
     "text": [
      "Train loss : 0.00553815 --- Train acc : 98.355 %\n",
      "Test  loss : 0.00526762 --- Test  acc : 98.43 %\n"
     ]
    },
    {
     "name": "stderr",
     "output_type": "stream",
     "text": [
      "100%|██████████| 100/100 [23:16<00:00, 13.96s/it]"
     ]
    },
    {
     "name": "stdout",
     "output_type": "stream",
     "text": [
      "Train loss : 0.00551596 --- Train acc : 98.3717 %\n",
      "Test  loss : 0.00537643 --- Test  acc : 98.32 %\n"
     ]
    },
    {
     "name": "stderr",
     "output_type": "stream",
     "text": [
      "\n"
     ]
    }
   ],
   "source": [
    "train_stats = []\n",
    "test_stats  = []\n",
    "fractions   = []\n",
    "grad_stats  = []\n",
    "grad2_stats = []\n",
    "snr_stats   = []\n",
    "\n",
    "for epoch in tqdm(range(epochs)):\n",
    "    \n",
    "    # init accumulators grad and grad2\n",
    "    grad  = init_grad(model)\n",
    "    grad2 = init_grad(model)  \n",
    "    \n",
    "    for i, data in enumerate(train_loader, 0):\n",
    "                       \n",
    "        # get the inputs\n",
    "        inputs, labels = data\n",
    "        inputs = inputs.to(device)\n",
    "        labels = labels.to(device)  \n",
    "       \n",
    "        # zero the parameter gradients\n",
    "        optimizer.zero_grad()\n",
    "        \n",
    "        # forward + backward\n",
    "        outputs = model(inputs)\n",
    "        loss = criterion(outputs, labels)        \n",
    "        # compute the grad\n",
    "        loss.backward()\n",
    "                \n",
    "        # accumulate grad and grad2\n",
    "        grad  = acc_grad(grad,model)\n",
    "        grad2 = acc_grad2(grad2,model)\n",
    "        \n",
    "        if (i + 1) % n == 0 : \n",
    "            \n",
    "            # compute the snr \n",
    "            snr = compute_snr(grad, grad2, n)\n",
    "            \n",
    "            # temper the grad with the information on grad2\n",
    "            fr = []\n",
    "            with torch.no_grad():\n",
    "                for p, g, s in zip(model.parameters(), grad, snr): \n",
    "                    \n",
    "                    \n",
    "                    # this is the only line where the true gradient is touched\n",
    "                    if MODIFIED_SGD:\n",
    "                        p.grad = torch.where(s > 1, g/n, s * g/n)          \n",
    "                    else:\n",
    "                        p.grad = g/n\n",
    "                        \n",
    "                    fr.append(  ( s < 1).sum().item() / \n",
    "                             torch.prod(torch.tensor( s.size() ) ).item()  )       \n",
    "            fractions.append(fr)\n",
    "    \n",
    "            # store statistics about grad, grad2 and snr    \n",
    "            grad_stats.append(  [ [x.mean().item(), x.std().item()]  for x in grad] )\n",
    "            grad2_stats.append( [ [x.mean().item(), x.std().item()]  for x in grad2] )\n",
    "            snr_stats.append(   [ [x.mean().item(), x.std().item()]  for x in snr] )\n",
    "        \n",
    "            # this is called after the large batch of n mini-batches\n",
    "            optimizer.step()\n",
    "            \n",
    "            # set to zero accumulators for grad and grad2\n",
    "            grad  = init_grad(model)\n",
    "            grad2 = init_grad(model)\n",
    "            \n",
    "                          \n",
    "    # save model\n",
    "    if SAVE:\n",
    "        #model.save_state_dict(model, os.path.join( RES, 'model_' + str(epoch) + '.pt') )\n",
    "        torch.save(model, os.path.join( RES, 'model_' + str(epoch) + '.pt') )\n",
    "        \n",
    "    # get statistics\n",
    "    train_stats.append(get_stats(train_loader))\n",
    "    test_stats.append(get_stats(test_loader))\n",
    "        \n",
    "    # print statistics\n",
    "    print('Train loss : %g --- Train acc : %g %%' % ( train_stats[-1][0], train_stats[-1][1] )) \n",
    "    print('Test  loss : %g --- Test  acc : %g %%' % ( test_stats[-1][0],  test_stats[-1][1] ))         "
   ]
  },
  {
   "cell_type": "code",
   "execution_count": 15,
   "metadata": {},
   "outputs": [],
   "source": [
    "# save loss and accuracies in a dictionary\n",
    "train_stats = np.asarray(train_stats)\n",
    "test_stats  = np.asarray(test_stats)\n",
    "fractions   = np.asarray(fractions)\n",
    "grad_stats  = np.asarray(grad_stats)\n",
    "grad2_stats = np.asarray(grad2_stats)\n",
    "snr_stats   = np.asarray(snr_stats)\n",
    "\n",
    "tags = ['train_stats', 'test_stats', 'fractions' ]\n",
    "vals = [train_stats, test_stats, fractions]\n",
    "training_data = dict(zip(tags, vals))\n",
    "if SAVE:\n",
    "    file = open( os.path.join( RES, 'training_data.pt') , 'wb' ) \n",
    "    pickle.dump(training_data,file)"
   ]
  },
  {
   "cell_type": "code",
   "execution_count": 16,
   "metadata": {},
   "outputs": [
    {
     "name": "stderr",
     "output_type": "stream",
     "text": [
      "/home/ansuini/.local/envs/pytorch/lib/python3.5/site-packages/ipykernel_launcher.py:22: FutureWarning: pd.rolling_mean is deprecated for ndarrays and will be removed in a future version\n",
      "/home/ansuini/.local/envs/pytorch/lib/python3.5/site-packages/ipykernel_launcher.py:31: FutureWarning: pd.rolling_mean is deprecated for ndarrays and will be removed in a future version\n",
      "/home/ansuini/.local/envs/pytorch/lib/python3.5/site-packages/ipykernel_launcher.py:38: FutureWarning: pd.rolling_mean is deprecated for ndarrays and will be removed in a future version\n",
      "/home/ansuini/.local/envs/pytorch/lib/python3.5/site-packages/ipykernel_launcher.py:45: FutureWarning: pd.rolling_mean is deprecated for ndarrays and will be removed in a future version\n",
      "/home/ansuini/.local/envs/pytorch/lib/python3.5/site-packages/ipykernel_launcher.py:52: FutureWarning: pd.rolling_mean is deprecated for ndarrays and will be removed in a future version\n",
      "/home/ansuini/.local/envs/pytorch/lib/python3.5/site-packages/ipykernel_launcher.py:60: FutureWarning: pd.rolling_mean is deprecated for ndarrays and will be removed in a future version\n",
      "/home/ansuini/.local/envs/pytorch/lib/python3.5/site-packages/ipykernel_launcher.py:67: FutureWarning: pd.rolling_mean is deprecated for ndarrays and will be removed in a future version\n"
     ]
    },
    {
     "data": {
      "image/png": "[encoded data removed]",
      "text/plain": [
       "<Figure size 1440x1440 with 9 Axes>"
      ]
     },
     "metadata": {},
     "output_type": "display_data"
    }
   ],
   "source": [
    "win = 30\n",
    "layer_names = [m[0] for idx,m in enumerate(model.named_modules()) ][1:]\n",
    "\n",
    "fig = plt.figure(figsize=(20,20))\n",
    "\n",
    "plt.subplot(3,3,1)\n",
    "plt.plot(train_stats[:,0],'-o',label='training loss')\n",
    "plt.plot(test_stats[:,0],'-o',label='test loss')\n",
    "plt.xlabel('epoch')\n",
    "plt.title('loss')\n",
    "\n",
    "\n",
    "plt.subplot(3,3,2)\n",
    "plt.plot(train_stats[:,1],'-o',label='training accuracy')\n",
    "plt.plot(test_stats[:,1],'-o',label='test accuracy')\n",
    "plt.xlabel('epoch')\n",
    "plt.title('accuracy')\n",
    "\n",
    "\n",
    "plt.subplot(3,3,3)\n",
    "for i in range(len(layer_names)):\n",
    "    plt.plot(np.arange(n_lb*epochs), pd.rolling_mean(fractions[:,i*2], win*2 ),label=layer_names[i])\n",
    "\n",
    "plt.legend()\n",
    "plt.xlabel('epoch')\n",
    "plt.title('fractions')\n",
    "\n",
    "\n",
    "plt.subplot(3,3,4)\n",
    "for i in range(len(layer_names)):\n",
    "    plt.plot(pd.rolling_mean( grad_stats[:,i*2,0], win ),label=layer_names[i])\n",
    "plt.legend()\n",
    "plt.xlabel('epoch')\n",
    "plt.title('grad mean')\n",
    "\n",
    "plt.subplot(3,3,5)\n",
    "for i in range(len(layer_names)):\n",
    "    plt.plot(pd.rolling_mean( grad_stats[:,i*2,1], win ),label=layer_names[i])\n",
    "plt.legend()\n",
    "plt.xlabel('epoch')\n",
    "plt.title('grad std')\n",
    "\n",
    "plt.subplot(3,3,6)\n",
    "for i in range(len(layer_names)):\n",
    "    plt.plot(pd.rolling_mean( grad2_stats[:,i*2,0], win),label=layer_names[i])\n",
    "plt.legend()\n",
    "plt.xlabel('epoch')\n",
    "plt.title('grad2 mean')\n",
    "\n",
    "plt.subplot(3,3,7)\n",
    "for i in range(len(layer_names)):\n",
    "    plt.plot(pd.rolling_mean( grad2_stats[:,i*2,1], win),label=layer_names[i])\n",
    "plt.legend()\n",
    "plt.xlabel('epoch')\n",
    "plt.title('grad2 std')\n",
    "\n",
    "\n",
    "plt.subplot(3,3,8)\n",
    "for i in range(len(layer_names)):\n",
    "    plt.plot(pd.rolling_mean( snr_stats[:,i*2,0], win),label=layer_names[i])\n",
    "plt.legend()\n",
    "plt.xlabel('epoch')\n",
    "plt.title('snr mean')\n",
    "\n",
    "plt.subplot(3,3,9)\n",
    "for i in range(len(layer_names)):\n",
    "    plt.plot(pd.rolling_mean( snr_stats[:,i*2,1], win),label=layer_names[i])\n",
    "plt.legend()\n",
    "plt.xlabel('epoch')\n",
    "plt.title('snr std')\n",
    "\n",
    "\n",
    "plt.savefig(os.path.join(FIG, 'mnist.png'))\n",
    "\n",
    "    \n",
    "plt.show()"
   ]
  },
  {
   "cell_type": "code",
   "execution_count": null,
   "metadata": {},
   "outputs": [],
   "source": []
  }
 ],
 "metadata": {
  "kernelspec": {
   "display_name": "PyTorch 0.4.0",
   "language": "python",
   "name": "pytorch"
  },
  "language_info": {
   "codemirror_mode": {
    "name": "ipython",
    "version": 3
   },
   "file_extension": ".py",
   "mimetype": "text/x-python",
   "name": "python",
   "nbconvert_exporter": "python",
   "pygments_lexer": "ipython3",
   "version": "3.5.2"
  }
 },
 "nbformat": 4,
 "nbformat_minor": 2
}
