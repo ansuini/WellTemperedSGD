{
 "cells": [
  {
   "cell_type": "code",
   "execution_count": 18,
   "metadata": {},
   "outputs": [],
   "source": [
    "%reload_ext autoreload\n",
    "%autoreload 2\n",
    "%matplotlib inline"
   ]
  },
  {
   "cell_type": "markdown",
   "metadata": {},
   "source": [
    "# Description \n",
    "\n",
    "We consider a variation on SGD that makes use of the second moment of the \n",
    "gradients as follows.\n",
    "\n",
    "The training loop has three levels :\n",
    "\n",
    "- over mini-batches\n",
    "  - we accumulate the gradients computed here and their squares without updating the parameters\n",
    "- over large batches\n",
    "  - after each large batch we do the parameters update with the modified SGD\n",
    "- over epochs\n",
    "\n",
    "Within mini-batches it is difficult to get the second moment of the gradients,\n",
    "this would require massive intervention on the nevralgic part of the automatic\n",
    "differentiation (AD) libraries. \n",
    "\n",
    "The large batches are composed of a reasonably large number of minibatches. Let us denote\n",
    "with $\\text{n}$ the number of minibatches that fit in a large batch (say n $\\approx 100$).\n",
    "\n",
    "For each mini-batch ($\\text{mb}\\approx 10$ images) in a large batch ($\\text{lb} \\approx 1000$ images) we will compute the gradient with respect to all the trainable parameters :\n",
    "\n",
    "$$\n",
    "\\nabla^{1}, \\dots, \\nabla^{\\text{n}}\n",
    "$$\n",
    "\n",
    "We accumulates these gradients and their squares (elementwise) within a large batch : \n",
    "\n",
    "$$\n",
    "\\bar{A} = \\frac{1}{n}  \\sum_{i=1}^{n} \\nabla^{i}\n",
    "$$\n",
    "\n",
    "$$\n",
    "\\bar{A^{2}} = \\frac{1}{n}  \\sum_{i=1}^{n}  \\left( \\nabla^{i} \\right)^2\n",
    "$$\n",
    "\n",
    "\n",
    "We then compute the variance of the gradient as $\\sigma^2 = \\bar{A^{2}} - \\left( \\bar{A} \\right)^2$ and define the\n",
    "\n",
    "error as \n",
    "\n",
    "$$\n",
    "\\varepsilon = \\sqrt{ \\frac{\\sigma^2}{n} } = \\frac{\\sigma}{\\sqrt{n}}\n",
    "$$\n",
    "\n",
    "The signal to noise ratio of the gradient is then\n",
    "\n",
    "$$\n",
    "\\eta = \\frac{\\bar{A}}{\\varepsilon}\n",
    "$$\n",
    "\n",
    "From the information in $\\eta$ we modify SGD as follows.\n",
    "\n",
    "At the end of the computation on a large batch we update the parameters with the \n",
    "rule \n",
    "\n",
    "$$\n",
    "w  =  w - \\lambda \\; f \\left(  \\eta \\right ) \\bar{A}\n",
    "$$\n",
    "where $\\lambda$ is the learning rate, $\\bar{A}$ is the average gradient computed on \n",
    "$\\text{n}$ mini-batches within the large batch, and $f$ is :\n",
    "\n",
    "\n",
    "\\begin{equation}\n",
    "\\text{f} =  \n",
    "\\begin{cases} \n",
    "1 \\;\\;\\;\\;\\; \\text{if} \\;  \\eta \\geq 1\n",
    "\\\\\n",
    "\\eta \\;\\;\\;\\;\\; \\text{if} \\; \\eta < 1\n",
    "\\end{cases}\n",
    "\\end{equation}\n",
    "\n",
    "so that when the gradient signal is reliable it is left unchanged while in the opposite case the gradient signal is suppressed by the prefactor $\\eta \\in [0,1)$.\n",
    "\n",
    "It is important than to monitor during the training what is the fraction of parameters\n",
    "for which the modification to the SGD applies, i.e. the fraction of weights such that $\\eta < 1$.\n",
    "\n",
    "We do that for each layer because we noticed that the signal to noise ratio can vary accross layers."
   ]
  },
  {
   "cell_type": "markdown",
   "metadata": {},
   "source": [
    "# Dataset and Settings"
   ]
  },
  {
   "cell_type": "code",
   "execution_count": 19,
   "metadata": {},
   "outputs": [],
   "source": [
    "MODIFIED_SGD = True\n",
    "SAVE = True"
   ]
  },
  {
   "cell_type": "code",
   "execution_count": 20,
   "metadata": {},
   "outputs": [],
   "source": [
    "DATASET = 'mnist'\n",
    "if DATASET     == 'mnist':\n",
    "    mb_size    = 10         # mini-batch size (default : 10)\n",
    "    n          = 300        # number of mini-batches in a large batch\n",
    "    lb_size    = n*mb_size  # large batch size (after this gradient update with modified SGD rule)  \n",
    "    n_lb       = int(60000.0/(lb_size)) # number of large batches in a epoch\n",
    "    epochs     = 100\n",
    "    lr         = 0.01\n",
    "    momentum   = 0.0    \n",
    "    mean_imgs  = 0.1307\n",
    "    std_imgs   = 0.3081\n",
    "    imgs_shape = (1,28,28)"
   ]
  },
  {
   "cell_type": "code",
   "execution_count": 22,
   "metadata": {},
   "outputs": [],
   "source": [
    "import os\n",
    "ROOT = '/home/ansuini/repos/WellTemperedSGD/'\n",
    "os.chdir(ROOT)\n",
    "\n",
    "if MODIFIED_SGD:\n",
    "    RES = os.path.join(ROOT,'results', DATASET, 'modified', str(mb_size) + '_' + str(n)  )\n",
    "    if not os.path.exists(RES):\n",
    "        print('Creating directory ' + RES)\n",
    "        os.mkdir(RES)\n",
    "        \n",
    "    FIG = os.path.join(ROOT,'figures', DATASET, 'modified', str(mb_size) + '_' + str(n)  )\n",
    "    if not os.path.exists(FIG):\n",
    "        print('Creating directory ' + FIG)\n",
    "        os.mkdir(FIG)\n",
    "else:\n",
    "    RES = os.path.join(ROOT,'results', DATASET,'original', str(mb_size) + '_' + str(n)  )  \n",
    "    if not os.path.exists(RES):\n",
    "        print('Creating directory ' + RES)\n",
    "        os.mkdir(RES)\n",
    "        \n",
    "    FIG = os.path.join(ROOT,'figures', DATASET,'original', str(mb_size) + '_' + str(n)  )\n",
    "    if not os.path.exists(FIG):\n",
    "        print('Creating directory ' + FIG)\n",
    "        os.mkdir(FIG)"
   ]
  },
  {
   "cell_type": "code",
   "execution_count": 5,
   "metadata": {},
   "outputs": [],
   "source": [
    "from __future__ import print_function\n",
    "import argparse\n",
    "import torch\n",
    "import torch.nn as nn\n",
    "import torch.nn.functional as F\n",
    "import torch.optim as optim\n",
    "from torchvision import datasets, transforms\n",
    "from torch.autograd import Variable\n",
    "import torchvision\n",
    "from torchsummary import summary\n",
    "from tqdm import tqdm\n",
    "import pandas as pd\n",
    "\n",
    "from mnist_archs import LeNet\n",
    "from wtsgd import *\n",
    "\n",
    "import pickle\n",
    "from time import time\n",
    "import numpy as np\n",
    "np.seed = 1101\n",
    "from matplotlib import pyplot as plt\n",
    "plt.style.use('ggplot')"
   ]
  },
  {
   "cell_type": "code",
   "execution_count": 6,
   "metadata": {},
   "outputs": [
    {
     "name": "stdout",
     "output_type": "stream",
     "text": [
      "Device : cuda:0\n"
     ]
    }
   ],
   "source": [
    "device = torch.device(\"cuda:0\" if torch.cuda.is_available() else \"cpu\")\n",
    "kwargs = {'num_workers': 2, 'pin_memory': True} if device.type == 'cuda' else {}\n",
    "print('Device : {}'.format( device ) )"
   ]
  },
  {
   "cell_type": "code",
   "execution_count": 7,
   "metadata": {},
   "outputs": [],
   "source": [
    "train_loader = torch.utils.data.DataLoader(\n",
    "    datasets.MNIST(ROOT +  '/data/' + DATASET, train=True, download=True,\n",
    "                   transform=transforms.Compose([\n",
    "                       transforms.ToTensor(),\n",
    "                       transforms.Normalize((mean_imgs,), (std_imgs,))                                           \n",
    "                   ])),\n",
    "    batch_size=mb_size, shuffle=True, **kwargs)\n",
    "\n",
    "test_loader = torch.utils.data.DataLoader(\n",
    "    \n",
    "    datasets.MNIST(ROOT + '/data/' + DATASET, train=False, transform=transforms.Compose([\n",
    "                       transforms.ToTensor(),\n",
    "                       transforms.Normalize((mean_imgs,), (std_imgs,))                       \n",
    "                   ])),\n",
    "    batch_size=mb_size, shuffle=True, **kwargs)"
   ]
  },
  {
   "cell_type": "code",
   "execution_count": 8,
   "metadata": {},
   "outputs": [],
   "source": [
    "def imshow(img):\n",
    "    npimg = img.numpy()    \n",
    "    plt.imshow(np.transpose(npimg, (1, 2, 0)))\n",
    "    plt.xticks([])\n",
    "    plt.yticks([])"
   ]
  },
  {
   "cell_type": "code",
   "execution_count": 9,
   "metadata": {},
   "outputs": [
    {
     "name": "stderr",
     "output_type": "stream",
     "text": [
      "Clipping input data to the valid range for imshow with RGB data ([0..1] for floats or [0..255] for integers).\n"
     ]
    },
    {
     "name": "stdout",
     "output_type": "stream",
     "text": [
      "torch.Size([10, 1, 28, 28])\n"
     ]
    },
    {
     "data": {
      "image/png": "[encoded data removed]",
      "text/plain": [
       "<Figure size 432x288 with 1 Axes>"
      ]
     },
     "metadata": {},
     "output_type": "display_data"
    }
   ],
   "source": [
    "dataiter = iter(train_loader)\n",
    "images, labels = dataiter.next()\n",
    "imshow(torchvision.utils.make_grid(images))\n",
    "print(images.shape)"
   ]
  },
  {
   "cell_type": "markdown",
   "metadata": {},
   "source": [
    "### Check labelling\n",
    "\n",
    "Useful in case of random shuffling of labels"
   ]
  },
  {
   "cell_type": "code",
   "execution_count": 10,
   "metadata": {},
   "outputs": [
    {
     "data": {
      "image/png": "[encoded data removed]",
      "text/plain": [
       "<Figure size 432x288 with 9 Axes>"
      ]
     },
     "metadata": {},
     "output_type": "display_data"
    }
   ],
   "source": [
    "for i in range(9):\n",
    "    plt.subplot(3,3,i+1)\n",
    "    plt.imshow(images[i,0,:,:])\n",
    "    plt.xticks([])\n",
    "    plt.yticks([])\n",
    "    plt.title(labels[i].item())"
   ]
  },
  {
   "cell_type": "code",
   "execution_count": 11,
   "metadata": {},
   "outputs": [],
   "source": [
    "def get_stats(loader):   \n",
    "    '''\n",
    "    Compute training statistics (loss and accuracy) on loader data\n",
    "    '''\n",
    "    loss = 0.0\n",
    "    correct = 0\n",
    "    total = 0       \n",
    "    with torch.no_grad():\n",
    "        for data in loader:\n",
    "            inputs, labels = data\n",
    "            inputs = inputs.to(device)\n",
    "            labels = labels.to(device)\n",
    "            outputs = model(inputs)\n",
    "            loss += criterion(outputs, labels)\n",
    "            _, predicted = torch.max(outputs.data, 1)\n",
    "            correct += (predicted == labels).sum().item()\n",
    "            total += labels.size(0)\n",
    "        l = loss.to('cpu').item()/total\n",
    "        acc = 100 * correct/total\n",
    "        return [l,acc]"
   ]
  },
  {
   "cell_type": "markdown",
   "metadata": {},
   "source": [
    "# Initialize network, optimizer and loss"
   ]
  },
  {
   "cell_type": "code",
   "execution_count": 12,
   "metadata": {},
   "outputs": [],
   "source": [
    "model = LeNet()\n",
    "model.to(device)\n",
    "optimizer = optim.SGD(model.parameters(), lr=lr, momentum=momentum)\n",
    "criterion = F.nll_loss"
   ]
  },
  {
   "cell_type": "code",
   "execution_count": 13,
   "metadata": {},
   "outputs": [
    {
     "name": "stdout",
     "output_type": "stream",
     "text": [
      "LeNet(\n",
      "  (conv1): Conv2d(1, 10, kernel_size=(5, 5), stride=(1, 1))\n",
      "  (conv2): Conv2d(10, 20, kernel_size=(5, 5), stride=(1, 1))\n",
      "  (fc1): Linear(in_features=320, out_features=50, bias=True)\n",
      "  (fc2): Linear(in_features=50, out_features=10, bias=True)\n",
      ")\n",
      "----------------------------------------------------------------\n",
      "        Layer (type)               Output Shape         Param #\n",
      "================================================================\n",
      "            Conv2d-1           [-1, 10, 24, 24]             260\n",
      "            Conv2d-2             [-1, 20, 8, 8]            5020\n",
      "            Linear-3                   [-1, 50]           16050\n",
      "            Linear-4                   [-1, 10]             510\n",
      "================================================================\n",
      "Total params: tensor(21840)\n",
      "Trainable params: tensor(21840)\n",
      "Non-trainable params: tensor(0)\n",
      "----------------------------------------------------------------\n",
      "None\n"
     ]
    }
   ],
   "source": [
    "print(model)\n",
    "print( summary(model, imgs_shape) )"
   ]
  },
  {
   "cell_type": "code",
   "execution_count": 14,
   "metadata": {},
   "outputs": [
    {
     "name": "stderr",
     "output_type": "stream",
     "text": [
      "  1%|          | 1/100 [00:12<20:10, 12.23s/it]"
     ]
    },
    {
     "name": "stdout",
     "output_type": "stream",
     "text": [
      "Train loss : 0.227792 --- Train acc : 13.2233 %\n",
      "Test  loss : 0.227704 --- Test  acc : 12.72 %\n"
     ]
    },
    {
     "name": "stderr",
     "output_type": "stream",
     "text": [
      "  2%|▏         | 2/100 [00:24<20:16, 12.41s/it]"
     ]
    },
    {
     "name": "stdout",
     "output_type": "stream",
     "text": [
      "Train loss : 0.223979 --- Train acc : 24.7533 %\n",
      "Test  loss : 0.223842 --- Test  acc : 24.32 %\n"
     ]
    },
    {
     "name": "stderr",
     "output_type": "stream",
     "text": [
      "  3%|▎         | 3/100 [00:37<20:02, 12.40s/it]"
     ]
    },
    {
     "name": "stdout",
     "output_type": "stream",
     "text": [
      "Train loss : 0.218613 --- Train acc : 31.17 %\n",
      "Test  loss : 0.218391 --- Test  acc : 30.93 %\n"
     ]
    },
    {
     "name": "stderr",
     "output_type": "stream",
     "text": [
      "  4%|▍         | 4/100 [00:49<19:50, 12.40s/it]"
     ]
    },
    {
     "name": "stdout",
     "output_type": "stream",
     "text": [
      "Train loss : 0.209586 --- Train acc : 35.735 %\n",
      "Test  loss : 0.209227 --- Test  acc : 35.91 %\n"
     ]
    },
    {
     "name": "stderr",
     "output_type": "stream",
     "text": [
      "  5%|▌         | 5/100 [01:02<19:39, 12.41s/it]"
     ]
    },
    {
     "name": "stdout",
     "output_type": "stream",
     "text": [
      "Train loss : 0.192934 --- Train acc : 55.6333 %\n",
      "Test  loss : 0.192368 --- Test  acc : 56.28 %\n"
     ]
    },
    {
     "name": "stderr",
     "output_type": "stream",
     "text": [
      "  6%|▌         | 6/100 [01:14<19:26, 12.41s/it]"
     ]
    },
    {
     "name": "stdout",
     "output_type": "stream",
     "text": [
      "Train loss : 0.165035 --- Train acc : 66.1933 %\n",
      "Test  loss : 0.164128 --- Test  acc : 67.04 %\n"
     ]
    },
    {
     "name": "stderr",
     "output_type": "stream",
     "text": [
      "  7%|▋         | 7/100 [01:27<19:17, 12.44s/it]"
     ]
    },
    {
     "name": "stdout",
     "output_type": "stream",
     "text": [
      "Train loss : 0.129311 --- Train acc : 72.22 %\n",
      "Test  loss : 0.127956 --- Test  acc : 72.99 %\n"
     ]
    },
    {
     "name": "stderr",
     "output_type": "stream",
     "text": [
      "  8%|▊         | 8/100 [01:39<19:03, 12.43s/it]"
     ]
    },
    {
     "name": "stdout",
     "output_type": "stream",
     "text": [
      "Train loss : 0.0983373 --- Train acc : 76.4433 %\n",
      "Test  loss : 0.0965743 --- Test  acc : 77.18 %\n"
     ]
    },
    {
     "name": "stderr",
     "output_type": "stream",
     "text": [
      "  9%|▉         | 9/100 [01:52<18:56, 12.49s/it]"
     ]
    },
    {
     "name": "stdout",
     "output_type": "stream",
     "text": [
      "Train loss : 0.0779829 --- Train acc : 79.78 %\n",
      "Test  loss : 0.0760728 --- Test  acc : 80.55 %\n"
     ]
    },
    {
     "name": "stderr",
     "output_type": "stream",
     "text": [
      " 10%|█         | 10/100 [02:06<18:55, 12.61s/it]"
     ]
    },
    {
     "name": "stdout",
     "output_type": "stream",
     "text": [
      "Train loss : 0.0666782 --- Train acc : 82.0683 %\n",
      "Test  loss : 0.0644541 --- Test  acc : 82.96 %\n"
     ]
    },
    {
     "name": "stderr",
     "output_type": "stream",
     "text": [
      " 11%|█         | 11/100 [02:19<18:46, 12.66s/it]"
     ]
    },
    {
     "name": "stdout",
     "output_type": "stream",
     "text": [
      "Train loss : 0.0627319 --- Train acc : 81.8017 %\n",
      "Test  loss : 0.0602266 --- Test  acc : 82.49 %\n"
     ]
    },
    {
     "name": "stderr",
     "output_type": "stream",
     "text": [
      " 12%|█▏        | 12/100 [02:32<18:40, 12.73s/it]"
     ]
    },
    {
     "name": "stdout",
     "output_type": "stream",
     "text": [
      "Train loss : 0.0555365 --- Train acc : 83.98 %\n",
      "Test  loss : 0.0531279 --- Test  acc : 84.68 %\n"
     ]
    },
    {
     "name": "stderr",
     "output_type": "stream",
     "text": [
      " 13%|█▎        | 13/100 [02:46<18:31, 12.78s/it]"
     ]
    },
    {
     "name": "stdout",
     "output_type": "stream",
     "text": [
      "Train loss : 0.0493434 --- Train acc : 86.045 %\n",
      "Test  loss : 0.0471001 --- Test  acc : 86.63 %\n"
     ]
    },
    {
     "name": "stderr",
     "output_type": "stream",
     "text": [
      " 14%|█▍        | 14/100 [02:59<18:20, 12.80s/it]"
     ]
    },
    {
     "name": "stdout",
     "output_type": "stream",
     "text": [
      "Train loss : 0.0456296 --- Train acc : 87.165 %\n",
      "Test  loss : 0.0436083 --- Test  acc : 87.59 %\n"
     ]
    },
    {
     "name": "stderr",
     "output_type": "stream",
     "text": [
      " 15%|█▌        | 15/100 [03:12<18:11, 12.84s/it]"
     ]
    },
    {
     "name": "stdout",
     "output_type": "stream",
     "text": [
      "Train loss : 0.0444067 --- Train acc : 86.77 %\n",
      "Test  loss : 0.0426253 --- Test  acc : 87.57 %\n"
     ]
    },
    {
     "name": "stderr",
     "output_type": "stream",
     "text": [
      " 16%|█▌        | 16/100 [03:25<17:58, 12.84s/it]"
     ]
    },
    {
     "name": "stdout",
     "output_type": "stream",
     "text": [
      "Train loss : 0.0429493 --- Train acc : 86.9783 %\n",
      "Test  loss : 0.0413027 --- Test  acc : 87.63 %\n"
     ]
    },
    {
     "name": "stderr",
     "output_type": "stream",
     "text": [
      " 17%|█▋        | 17/100 [03:38<17:44, 12.83s/it]"
     ]
    },
    {
     "name": "stdout",
     "output_type": "stream",
     "text": [
      "Train loss : 0.0397402 --- Train acc : 88.5133 %\n",
      "Test  loss : 0.037933 --- Test  acc : 89.02 %\n"
     ]
    },
    {
     "name": "stderr",
     "output_type": "stream",
     "text": [
      " 18%|█▊        | 18/100 [03:51<17:33, 12.85s/it]"
     ]
    },
    {
     "name": "stdout",
     "output_type": "stream",
     "text": [
      "Train loss : 0.0391058 --- Train acc : 88.3883 %\n",
      "Test  loss : 0.0374389 --- Test  acc : 88.77 %\n"
     ]
    },
    {
     "name": "stderr",
     "output_type": "stream",
     "text": [
      " 19%|█▉        | 19/100 [04:04<17:23, 12.88s/it]"
     ]
    },
    {
     "name": "stdout",
     "output_type": "stream",
     "text": [
      "Train loss : 0.0382276 --- Train acc : 88.58 %\n",
      "Test  loss : 0.0365637 --- Test  acc : 88.95 %\n"
     ]
    },
    {
     "name": "stderr",
     "output_type": "stream",
     "text": [
      " 20%|██        | 20/100 [04:17<17:11, 12.89s/it]"
     ]
    },
    {
     "name": "stdout",
     "output_type": "stream",
     "text": [
      "Train loss : 0.0361731 --- Train acc : 89.495 %\n",
      "Test  loss : 0.0341194 --- Test  acc : 89.97 %\n"
     ]
    },
    {
     "name": "stderr",
     "output_type": "stream",
     "text": [
      " 21%|██        | 21/100 [04:31<17:00, 12.92s/it]"
     ]
    },
    {
     "name": "stdout",
     "output_type": "stream",
     "text": [
      "Train loss : 0.0365214 --- Train acc : 88.9783 %\n",
      "Test  loss : 0.0350108 --- Test  acc : 89.46 %\n"
     ]
    },
    {
     "name": "stderr",
     "output_type": "stream",
     "text": [
      " 22%|██▏       | 22/100 [04:44<16:49, 12.94s/it]"
     ]
    },
    {
     "name": "stdout",
     "output_type": "stream",
     "text": [
      "Train loss : 0.0338641 --- Train acc : 90.2483 %\n",
      "Test  loss : 0.0320172 --- Test  acc : 90.64 %\n"
     ]
    },
    {
     "name": "stderr",
     "output_type": "stream",
     "text": [
      " 23%|██▎       | 23/100 [04:58<16:38, 12.97s/it]"
     ]
    },
    {
     "name": "stdout",
     "output_type": "stream",
     "text": [
      "Train loss : 0.0331615 --- Train acc : 90.3933 %\n",
      "Test  loss : 0.0314649 --- Test  acc : 90.78 %\n"
     ]
    },
    {
     "name": "stderr",
     "output_type": "stream",
     "text": [
      " 24%|██▍       | 24/100 [05:11<16:26, 12.99s/it]"
     ]
    },
    {
     "name": "stdout",
     "output_type": "stream",
     "text": [
      "Train loss : 0.0323723 --- Train acc : 90.57 %\n",
      "Test  loss : 0.0307568 --- Test  acc : 91.16 %\n"
     ]
    },
    {
     "name": "stderr",
     "output_type": "stream",
     "text": [
      " 25%|██▌       | 25/100 [05:24<16:13, 12.98s/it]"
     ]
    },
    {
     "name": "stdout",
     "output_type": "stream",
     "text": [
      "Train loss : 0.0329798 --- Train acc : 90.16 %\n",
      "Test  loss : 0.0314956 --- Test  acc : 90.75 %\n"
     ]
    },
    {
     "name": "stderr",
     "output_type": "stream",
     "text": [
      " 26%|██▌       | 26/100 [05:38<16:02, 13.00s/it]"
     ]
    },
    {
     "name": "stdout",
     "output_type": "stream",
     "text": [
      "Train loss : 0.0306506 --- Train acc : 91.1683 %\n",
      "Test  loss : 0.0288913 --- Test  acc : 91.62 %\n"
     ]
    },
    {
     "name": "stderr",
     "output_type": "stream",
     "text": [
      " 27%|██▋       | 27/100 [05:51<15:50, 13.03s/it]"
     ]
    },
    {
     "name": "stdout",
     "output_type": "stream",
     "text": [
      "Train loss : 0.0300574 --- Train acc : 91.315 %\n",
      "Test  loss : 0.0283266 --- Test  acc : 91.84 %\n"
     ]
    },
    {
     "name": "stderr",
     "output_type": "stream",
     "text": [
      " 28%|██▊       | 28/100 [06:04<15:38, 13.03s/it]"
     ]
    },
    {
     "name": "stdout",
     "output_type": "stream",
     "text": [
      "Train loss : 0.0293241 --- Train acc : 91.5283 %\n",
      "Test  loss : 0.0275099 --- Test  acc : 91.98 %\n"
     ]
    },
    {
     "name": "stderr",
     "output_type": "stream",
     "text": [
      " 29%|██▉       | 29/100 [06:17<15:24, 13.03s/it]"
     ]
    },
    {
     "name": "stdout",
     "output_type": "stream",
     "text": [
      "Train loss : 0.0291951 --- Train acc : 91.4433 %\n",
      "Test  loss : 0.0276594 --- Test  acc : 91.84 %\n"
     ]
    },
    {
     "name": "stderr",
     "output_type": "stream",
     "text": [
      " 30%|███       | 30/100 [06:31<15:13, 13.04s/it]"
     ]
    },
    {
     "name": "stdout",
     "output_type": "stream",
     "text": [
      "Train loss : 0.0294346 --- Train acc : 91.2617 %\n",
      "Test  loss : 0.027868 --- Test  acc : 91.9 %\n"
     ]
    },
    {
     "name": "stderr",
     "output_type": "stream",
     "text": [
      " 31%|███       | 31/100 [06:44<15:00, 13.06s/it]"
     ]
    },
    {
     "name": "stdout",
     "output_type": "stream",
     "text": [
      "Train loss : 0.027901 --- Train acc : 91.8833 %\n",
      "Test  loss : 0.0261238 --- Test  acc : 92.34 %\n"
     ]
    },
    {
     "name": "stderr",
     "output_type": "stream",
     "text": [
      " 32%|███▏      | 32/100 [06:57<14:47, 13.06s/it]"
     ]
    },
    {
     "name": "stdout",
     "output_type": "stream",
     "text": [
      "Train loss : 0.0282685 --- Train acc : 91.5067 %\n",
      "Test  loss : 0.0264065 --- Test  acc : 91.94 %\n"
     ]
    },
    {
     "name": "stderr",
     "output_type": "stream",
     "text": [
      " 33%|███▎      | 33/100 [07:11<14:35, 13.07s/it]"
     ]
    },
    {
     "name": "stdout",
     "output_type": "stream",
     "text": [
      "Train loss : 0.0268554 --- Train acc : 92.165 %\n",
      "Test  loss : 0.0253921 --- Test  acc : 92.59 %\n"
     ]
    },
    {
     "name": "stderr",
     "output_type": "stream",
     "text": [
      " 34%|███▍      | 34/100 [07:25<14:24, 13.09s/it]"
     ]
    },
    {
     "name": "stdout",
     "output_type": "stream",
     "text": [
      "Train loss : 0.0259986 --- Train acc : 92.4283 %\n",
      "Test  loss : 0.024286 --- Test  acc : 92.89 %\n"
     ]
    },
    {
     "name": "stderr",
     "output_type": "stream",
     "text": [
      " 35%|███▌      | 35/100 [07:39<14:12, 13.12s/it]"
     ]
    },
    {
     "name": "stdout",
     "output_type": "stream",
     "text": [
      "Train loss : 0.0256389 --- Train acc : 92.58 %\n",
      "Test  loss : 0.0241474 --- Test  acc : 92.97 %\n"
     ]
    },
    {
     "name": "stderr",
     "output_type": "stream",
     "text": [
      " 36%|███▌      | 36/100 [07:53<14:01, 13.15s/it]"
     ]
    },
    {
     "name": "stdout",
     "output_type": "stream",
     "text": [
      "Train loss : 0.0252732 --- Train acc : 92.6833 %\n",
      "Test  loss : 0.0237521 --- Test  acc : 93.18 %\n"
     ]
    },
    {
     "name": "stderr",
     "output_type": "stream",
     "text": [
      " 37%|███▋      | 37/100 [08:06<13:48, 13.15s/it]"
     ]
    },
    {
     "name": "stdout",
     "output_type": "stream",
     "text": [
      "Train loss : 0.0245501 --- Train acc : 92.9167 %\n",
      "Test  loss : 0.0229618 --- Test  acc : 93.32 %\n"
     ]
    },
    {
     "name": "stderr",
     "output_type": "stream",
     "text": [
      " 38%|███▊      | 38/100 [08:19<13:35, 13.15s/it]"
     ]
    },
    {
     "name": "stdout",
     "output_type": "stream",
     "text": [
      "Train loss : 0.0242971 --- Train acc : 92.9717 %\n",
      "Test  loss : 0.0227532 --- Test  acc : 93.31 %\n"
     ]
    },
    {
     "name": "stderr",
     "output_type": "stream",
     "text": [
      " 39%|███▉      | 39/100 [08:32<13:22, 13.15s/it]"
     ]
    },
    {
     "name": "stdout",
     "output_type": "stream",
     "text": [
      "Train loss : 0.0237213 --- Train acc : 93.095 %\n",
      "Test  loss : 0.02208 --- Test  acc : 93.54 %\n"
     ]
    },
    {
     "name": "stderr",
     "output_type": "stream",
     "text": [
      " 40%|████      | 40/100 [08:45<13:08, 13.15s/it]"
     ]
    },
    {
     "name": "stdout",
     "output_type": "stream",
     "text": [
      "Train loss : 0.0234339 --- Train acc : 93.1583 %\n",
      "Test  loss : 0.021846 --- Test  acc : 93.59 %\n"
     ]
    },
    {
     "name": "stderr",
     "output_type": "stream",
     "text": [
      " 41%|████      | 41/100 [08:58<12:55, 13.14s/it]"
     ]
    },
    {
     "name": "stdout",
     "output_type": "stream",
     "text": [
      "Train loss : 0.0229454 --- Train acc : 93.335 %\n",
      "Test  loss : 0.0213752 --- Test  acc : 93.75 %\n"
     ]
    },
    {
     "name": "stderr",
     "output_type": "stream",
     "text": [
      " 42%|████▏     | 42/100 [09:12<12:43, 13.16s/it]"
     ]
    },
    {
     "name": "stdout",
     "output_type": "stream",
     "text": [
      "Train loss : 0.0225062 --- Train acc : 93.4383 %\n",
      "Test  loss : 0.0210034 --- Test  acc : 93.78 %\n"
     ]
    },
    {
     "name": "stderr",
     "output_type": "stream",
     "text": [
      " 43%|████▎     | 43/100 [09:25<12:30, 13.16s/it]"
     ]
    },
    {
     "name": "stdout",
     "output_type": "stream",
     "text": [
      "Train loss : 0.0220969 --- Train acc : 93.58 %\n",
      "Test  loss : 0.0206008 --- Test  acc : 93.88 %\n"
     ]
    },
    {
     "name": "stderr",
     "output_type": "stream",
     "text": [
      " 44%|████▍     | 44/100 [09:39<12:17, 13.17s/it]"
     ]
    },
    {
     "name": "stdout",
     "output_type": "stream",
     "text": [
      "Train loss : 0.0217403 --- Train acc : 93.6933 %\n",
      "Test  loss : 0.0202383 --- Test  acc : 94.01 %\n"
     ]
    },
    {
     "name": "stderr",
     "output_type": "stream",
     "text": [
      " 45%|████▌     | 45/100 [09:52<12:04, 13.17s/it]"
     ]
    },
    {
     "name": "stdout",
     "output_type": "stream",
     "text": [
      "Train loss : 0.0214169 --- Train acc : 93.77 %\n",
      "Test  loss : 0.0198697 --- Test  acc : 94.19 %\n"
     ]
    },
    {
     "name": "stderr",
     "output_type": "stream",
     "text": [
      " 46%|████▌     | 46/100 [10:06<11:51, 13.18s/it]"
     ]
    },
    {
     "name": "stdout",
     "output_type": "stream",
     "text": [
      "Train loss : 0.0212453 --- Train acc : 93.8367 %\n",
      "Test  loss : 0.0199034 --- Test  acc : 94.1 %\n"
     ]
    },
    {
     "name": "stderr",
     "output_type": "stream",
     "text": [
      " 47%|████▋     | 47/100 [10:20<11:39, 13.19s/it]"
     ]
    },
    {
     "name": "stdout",
     "output_type": "stream",
     "text": [
      "Train loss : 0.0208617 --- Train acc : 93.9133 %\n",
      "Test  loss : 0.0193229 --- Test  acc : 94.38 %\n"
     ]
    },
    {
     "name": "stderr",
     "output_type": "stream",
     "text": [
      " 48%|████▊     | 48/100 [10:33<11:26, 13.19s/it]"
     ]
    },
    {
     "name": "stdout",
     "output_type": "stream",
     "text": [
      "Train loss : 0.0204587 --- Train acc : 94.035 %\n",
      "Test  loss : 0.0190622 --- Test  acc : 94.29 %\n"
     ]
    },
    {
     "name": "stderr",
     "output_type": "stream",
     "text": [
      " 49%|████▉     | 49/100 [10:46<11:13, 13.20s/it]"
     ]
    },
    {
     "name": "stdout",
     "output_type": "stream",
     "text": [
      "Train loss : 0.0201674 --- Train acc : 94.1017 %\n",
      "Test  loss : 0.0187259 --- Test  acc : 94.56 %\n"
     ]
    },
    {
     "name": "stderr",
     "output_type": "stream",
     "text": [
      " 50%|█████     | 50/100 [11:01<11:01, 13.22s/it]"
     ]
    },
    {
     "name": "stdout",
     "output_type": "stream",
     "text": [
      "Train loss : 0.0197424 --- Train acc : 94.195 %\n",
      "Test  loss : 0.0183345 --- Test  acc : 94.6 %\n"
     ]
    },
    {
     "name": "stderr",
     "output_type": "stream",
     "text": [
      " 51%|█████     | 51/100 [11:15<10:48, 13.24s/it]"
     ]
    },
    {
     "name": "stdout",
     "output_type": "stream",
     "text": [
      "Train loss : 0.0196084 --- Train acc : 94.2833 %\n",
      "Test  loss : 0.0183132 --- Test  acc : 94.68 %\n"
     ]
    },
    {
     "name": "stderr",
     "output_type": "stream",
     "text": [
      " 52%|█████▏    | 52/100 [11:29<10:36, 13.26s/it]"
     ]
    },
    {
     "name": "stdout",
     "output_type": "stream",
     "text": [
      "Train loss : 0.0191839 --- Train acc : 94.3583 %\n",
      "Test  loss : 0.0178545 --- Test  acc : 94.79 %\n"
     ]
    },
    {
     "name": "stderr",
     "output_type": "stream",
     "text": [
      " 53%|█████▎    | 53/100 [11:43<10:23, 13.27s/it]"
     ]
    },
    {
     "name": "stdout",
     "output_type": "stream",
     "text": [
      "Train loss : 0.0189698 --- Train acc : 94.4867 %\n",
      "Test  loss : 0.017642 --- Test  acc : 94.92 %\n"
     ]
    },
    {
     "name": "stderr",
     "output_type": "stream",
     "text": [
      " 54%|█████▍    | 54/100 [11:56<10:10, 13.27s/it]"
     ]
    },
    {
     "name": "stdout",
     "output_type": "stream",
     "text": [
      "Train loss : 0.0185841 --- Train acc : 94.56 %\n",
      "Test  loss : 0.0172248 --- Test  acc : 95 %\n"
     ]
    },
    {
     "name": "stderr",
     "output_type": "stream",
     "text": [
      " 55%|█████▌    | 55/100 [12:09<09:56, 13.26s/it]"
     ]
    },
    {
     "name": "stdout",
     "output_type": "stream",
     "text": [
      "Train loss : 0.0183735 --- Train acc : 94.63 %\n",
      "Test  loss : 0.0170363 --- Test  acc : 94.99 %\n"
     ]
    },
    {
     "name": "stderr",
     "output_type": "stream",
     "text": [
      " 56%|█████▌    | 56/100 [12:23<09:43, 13.27s/it]"
     ]
    },
    {
     "name": "stdout",
     "output_type": "stream",
     "text": [
      "Train loss : 0.018282 --- Train acc : 94.665 %\n",
      "Test  loss : 0.0171267 --- Test  acc : 95.12 %\n"
     ]
    },
    {
     "name": "stderr",
     "output_type": "stream",
     "text": [
      " 57%|█████▋    | 57/100 [12:36<09:30, 13.27s/it]"
     ]
    },
    {
     "name": "stdout",
     "output_type": "stream",
     "text": [
      "Train loss : 0.0179225 --- Train acc : 94.7383 %\n",
      "Test  loss : 0.0165995 --- Test  acc : 95.12 %\n"
     ]
    },
    {
     "name": "stderr",
     "output_type": "stream",
     "text": [
      " 58%|█████▊    | 58/100 [12:49<09:17, 13.27s/it]"
     ]
    },
    {
     "name": "stdout",
     "output_type": "stream",
     "text": [
      "Train loss : 0.0176721 --- Train acc : 94.8667 %\n",
      "Test  loss : 0.0164027 --- Test  acc : 95.15 %\n"
     ]
    },
    {
     "name": "stderr",
     "output_type": "stream",
     "text": [
      " 59%|█████▉    | 59/100 [13:02<09:04, 13.27s/it]"
     ]
    },
    {
     "name": "stdout",
     "output_type": "stream",
     "text": [
      "Train loss : 0.01726 --- Train acc : 94.9633 %\n",
      "Test  loss : 0.0159557 --- Test  acc : 95.32 %\n"
     ]
    },
    {
     "name": "stderr",
     "output_type": "stream",
     "text": [
      " 60%|██████    | 60/100 [13:16<08:50, 13.27s/it]"
     ]
    },
    {
     "name": "stdout",
     "output_type": "stream",
     "text": [
      "Train loss : 0.0171961 --- Train acc : 94.9383 %\n",
      "Test  loss : 0.0159399 --- Test  acc : 95.31 %\n"
     ]
    },
    {
     "name": "stderr",
     "output_type": "stream",
     "text": [
      " 61%|██████    | 61/100 [13:29<08:37, 13.27s/it]"
     ]
    },
    {
     "name": "stdout",
     "output_type": "stream",
     "text": [
      "Train loss : 0.0168076 --- Train acc : 95.11 %\n",
      "Test  loss : 0.0156252 --- Test  acc : 95.39 %\n"
     ]
    },
    {
     "name": "stderr",
     "output_type": "stream",
     "text": [
      " 62%|██████▏   | 62/100 [13:43<08:24, 13.28s/it]"
     ]
    },
    {
     "name": "stdout",
     "output_type": "stream",
     "text": [
      "Train loss : 0.016699 --- Train acc : 95.2017 %\n",
      "Test  loss : 0.0154476 --- Test  acc : 95.53 %\n"
     ]
    },
    {
     "name": "stderr",
     "output_type": "stream",
     "text": [
      " 63%|██████▎   | 63/100 [13:57<08:11, 13.30s/it]"
     ]
    },
    {
     "name": "stdout",
     "output_type": "stream",
     "text": [
      "Train loss : 0.0165085 --- Train acc : 95.1717 %\n",
      "Test  loss : 0.0153227 --- Test  acc : 95.51 %\n"
     ]
    },
    {
     "name": "stderr",
     "output_type": "stream",
     "text": [
      " 64%|██████▍   | 64/100 [14:11<07:58, 13.30s/it]"
     ]
    },
    {
     "name": "stdout",
     "output_type": "stream",
     "text": [
      "Train loss : 0.0161431 --- Train acc : 95.2783 %\n",
      "Test  loss : 0.014972 --- Test  acc : 95.64 %\n"
     ]
    },
    {
     "name": "stderr",
     "output_type": "stream",
     "text": [
      " 65%|██████▌   | 65/100 [14:25<07:45, 13.31s/it]"
     ]
    },
    {
     "name": "stdout",
     "output_type": "stream",
     "text": [
      "Train loss : 0.0159965 --- Train acc : 95.3133 %\n",
      "Test  loss : 0.0147906 --- Test  acc : 95.72 %\n"
     ]
    },
    {
     "name": "stderr",
     "output_type": "stream",
     "text": [
      " 66%|██████▌   | 66/100 [14:38<07:32, 13.31s/it]"
     ]
    },
    {
     "name": "stdout",
     "output_type": "stream",
     "text": [
      "Train loss : 0.0157588 --- Train acc : 95.375 %\n",
      "Test  loss : 0.0145452 --- Test  acc : 95.72 %\n"
     ]
    },
    {
     "name": "stderr",
     "output_type": "stream",
     "text": [
      " 67%|██████▋   | 67/100 [14:52<07:19, 13.32s/it]"
     ]
    },
    {
     "name": "stdout",
     "output_type": "stream",
     "text": [
      "Train loss : 0.0156169 --- Train acc : 95.4517 %\n",
      "Test  loss : 0.0145061 --- Test  acc : 95.8 %\n"
     ]
    },
    {
     "name": "stderr",
     "output_type": "stream",
     "text": [
      " 68%|██████▊   | 68/100 [15:05<07:06, 13.32s/it]"
     ]
    },
    {
     "name": "stdout",
     "output_type": "stream",
     "text": [
      "Train loss : 0.0153366 --- Train acc : 95.56 %\n",
      "Test  loss : 0.0141884 --- Test  acc : 95.88 %\n"
     ]
    },
    {
     "name": "stderr",
     "output_type": "stream",
     "text": [
      " 69%|██████▉   | 69/100 [15:19<06:53, 13.33s/it]"
     ]
    },
    {
     "name": "stdout",
     "output_type": "stream",
     "text": [
      "Train loss : 0.0151676 --- Train acc : 95.61 %\n",
      "Test  loss : 0.0139583 --- Test  acc : 95.99 %\n"
     ]
    },
    {
     "name": "stderr",
     "output_type": "stream",
     "text": [
      " 70%|███████   | 70/100 [15:32<06:39, 13.33s/it]"
     ]
    },
    {
     "name": "stdout",
     "output_type": "stream",
     "text": [
      "Train loss : 0.0150009 --- Train acc : 95.615 %\n",
      "Test  loss : 0.013862 --- Test  acc : 96.09 %\n"
     ]
    },
    {
     "name": "stderr",
     "output_type": "stream",
     "text": [
      " 71%|███████   | 71/100 [15:47<06:26, 13.34s/it]"
     ]
    },
    {
     "name": "stdout",
     "output_type": "stream",
     "text": [
      "Train loss : 0.0148264 --- Train acc : 95.64 %\n",
      "Test  loss : 0.0136842 --- Test  acc : 95.92 %\n"
     ]
    },
    {
     "name": "stderr",
     "output_type": "stream",
     "text": [
      " 72%|███████▏  | 72/100 [16:01<06:13, 13.35s/it]"
     ]
    },
    {
     "name": "stdout",
     "output_type": "stream",
     "text": [
      "Train loss : 0.0146641 --- Train acc : 95.7017 %\n",
      "Test  loss : 0.0135009 --- Test  acc : 96.04 %\n"
     ]
    },
    {
     "name": "stderr",
     "output_type": "stream",
     "text": [
      " 73%|███████▎  | 73/100 [16:14<06:00, 13.35s/it]"
     ]
    },
    {
     "name": "stdout",
     "output_type": "stream",
     "text": [
      "Train loss : 0.0144923 --- Train acc : 95.785 %\n",
      "Test  loss : 0.013384 --- Test  acc : 96.16 %\n"
     ]
    },
    {
     "name": "stderr",
     "output_type": "stream",
     "text": [
      " 74%|███████▍  | 74/100 [16:28<05:47, 13.36s/it]"
     ]
    },
    {
     "name": "stdout",
     "output_type": "stream",
     "text": [
      "Train loss : 0.014352 --- Train acc : 95.785 %\n",
      "Test  loss : 0.0133143 --- Test  acc : 96.11 %\n"
     ]
    },
    {
     "name": "stderr",
     "output_type": "stream",
     "text": [
      " 75%|███████▌  | 75/100 [16:41<05:33, 13.36s/it]"
     ]
    },
    {
     "name": "stdout",
     "output_type": "stream",
     "text": [
      "Train loss : 0.0141668 --- Train acc : 95.855 %\n",
      "Test  loss : 0.0130887 --- Test  acc : 96.3 %\n"
     ]
    },
    {
     "name": "stderr",
     "output_type": "stream",
     "text": [
      " 76%|███████▌  | 76/100 [16:56<05:20, 13.37s/it]"
     ]
    },
    {
     "name": "stdout",
     "output_type": "stream",
     "text": [
      "Train loss : 0.0139876 --- Train acc : 95.8867 %\n",
      "Test  loss : 0.0128963 --- Test  acc : 96.29 %\n"
     ]
    },
    {
     "name": "stderr",
     "output_type": "stream",
     "text": [
      " 77%|███████▋  | 77/100 [17:09<05:07, 13.38s/it]"
     ]
    },
    {
     "name": "stdout",
     "output_type": "stream",
     "text": [
      "Train loss : 0.0139473 --- Train acc : 95.9217 %\n",
      "Test  loss : 0.0128616 --- Test  acc : 96.23 %\n"
     ]
    },
    {
     "name": "stderr",
     "output_type": "stream",
     "text": [
      " 78%|███████▊  | 78/100 [17:24<04:54, 13.39s/it]"
     ]
    },
    {
     "name": "stdout",
     "output_type": "stream",
     "text": [
      "Train loss : 0.0137007 --- Train acc : 95.9917 %\n",
      "Test  loss : 0.0125766 --- Test  acc : 96.39 %\n"
     ]
    },
    {
     "name": "stderr",
     "output_type": "stream",
     "text": [
      " 79%|███████▉  | 79/100 [17:38<04:41, 13.39s/it]"
     ]
    },
    {
     "name": "stdout",
     "output_type": "stream",
     "text": [
      "Train loss : 0.0137456 --- Train acc : 95.975 %\n",
      "Test  loss : 0.0126823 --- Test  acc : 96.3 %\n"
     ]
    },
    {
     "name": "stderr",
     "output_type": "stream",
     "text": [
      " 80%|████████  | 80/100 [17:51<04:27, 13.39s/it]"
     ]
    },
    {
     "name": "stdout",
     "output_type": "stream",
     "text": [
      "Train loss : 0.0134162 --- Train acc : 96.085 %\n",
      "Test  loss : 0.0123601 --- Test  acc : 96.44 %\n"
     ]
    },
    {
     "name": "stderr",
     "output_type": "stream",
     "text": [
      " 81%|████████  | 81/100 [18:05<04:14, 13.40s/it]"
     ]
    },
    {
     "name": "stdout",
     "output_type": "stream",
     "text": [
      "Train loss : 0.0133043 --- Train acc : 96.115 %\n",
      "Test  loss : 0.0121721 --- Test  acc : 96.55 %\n"
     ]
    },
    {
     "name": "stderr",
     "output_type": "stream",
     "text": [
      " 82%|████████▏ | 82/100 [18:18<04:01, 13.40s/it]"
     ]
    },
    {
     "name": "stdout",
     "output_type": "stream",
     "text": [
      "Train loss : 0.0131691 --- Train acc : 96.1233 %\n",
      "Test  loss : 0.0121411 --- Test  acc : 96.58 %\n"
     ]
    },
    {
     "name": "stderr",
     "output_type": "stream",
     "text": [
      " 83%|████████▎ | 83/100 [18:33<03:47, 13.41s/it]"
     ]
    },
    {
     "name": "stdout",
     "output_type": "stream",
     "text": [
      "Train loss : 0.0129993 --- Train acc : 96.2067 %\n",
      "Test  loss : 0.0119821 --- Test  acc : 96.58 %\n"
     ]
    },
    {
     "name": "stderr",
     "output_type": "stream",
     "text": [
      " 84%|████████▍ | 84/100 [18:46<03:34, 13.41s/it]"
     ]
    },
    {
     "name": "stdout",
     "output_type": "stream",
     "text": [
      "Train loss : 0.0128921 --- Train acc : 96.21 %\n",
      "Test  loss : 0.0118428 --- Test  acc : 96.49 %\n"
     ]
    },
    {
     "name": "stderr",
     "output_type": "stream",
     "text": [
      " 85%|████████▌ | 85/100 [19:00<03:21, 13.41s/it]"
     ]
    },
    {
     "name": "stdout",
     "output_type": "stream",
     "text": [
      "Train loss : 0.0128294 --- Train acc : 96.2317 %\n",
      "Test  loss : 0.0117523 --- Test  acc : 96.63 %\n"
     ]
    },
    {
     "name": "stderr",
     "output_type": "stream",
     "text": [
      " 86%|████████▌ | 86/100 [19:14<03:07, 13.42s/it]"
     ]
    },
    {
     "name": "stdout",
     "output_type": "stream",
     "text": [
      "Train loss : 0.01263 --- Train acc : 96.3 %\n",
      "Test  loss : 0.0115861 --- Test  acc : 96.7 %\n"
     ]
    },
    {
     "name": "stderr",
     "output_type": "stream",
     "text": [
      " 87%|████████▋ | 87/100 [19:27<02:54, 13.42s/it]"
     ]
    },
    {
     "name": "stdout",
     "output_type": "stream",
     "text": [
      "Train loss : 0.0125521 --- Train acc : 96.2967 %\n",
      "Test  loss : 0.011499 --- Test  acc : 96.59 %\n"
     ]
    },
    {
     "name": "stderr",
     "output_type": "stream",
     "text": [
      " 88%|████████▊ | 88/100 [19:42<02:41, 13.43s/it]"
     ]
    },
    {
     "name": "stdout",
     "output_type": "stream",
     "text": [
      "Train loss : 0.0124598 --- Train acc : 96.3867 %\n",
      "Test  loss : 0.0114543 --- Test  acc : 96.75 %\n"
     ]
    },
    {
     "name": "stderr",
     "output_type": "stream",
     "text": [
      " 89%|████████▉ | 89/100 [19:55<02:27, 13.44s/it]"
     ]
    },
    {
     "name": "stdout",
     "output_type": "stream",
     "text": [
      "Train loss : 0.0122999 --- Train acc : 96.36 %\n",
      "Test  loss : 0.0112456 --- Test  acc : 96.69 %\n"
     ]
    },
    {
     "name": "stderr",
     "output_type": "stream",
     "text": [
      " 90%|█████████ | 90/100 [20:09<02:14, 13.43s/it]"
     ]
    },
    {
     "name": "stdout",
     "output_type": "stream",
     "text": [
      "Train loss : 0.0122979 --- Train acc : 96.3333 %\n",
      "Test  loss : 0.0112093 --- Test  acc : 96.77 %\n"
     ]
    },
    {
     "name": "stderr",
     "output_type": "stream",
     "text": [
      " 91%|█████████ | 91/100 [20:22<02:00, 13.44s/it]"
     ]
    },
    {
     "name": "stdout",
     "output_type": "stream",
     "text": [
      "Train loss : 0.0121346 --- Train acc : 96.4433 %\n",
      "Test  loss : 0.0111554 --- Test  acc : 96.79 %\n"
     ]
    },
    {
     "name": "stderr",
     "output_type": "stream",
     "text": [
      " 92%|█████████▏| 92/100 [20:35<01:47, 13.43s/it]"
     ]
    },
    {
     "name": "stdout",
     "output_type": "stream",
     "text": [
      "Train loss : 0.0119955 --- Train acc : 96.485 %\n",
      "Test  loss : 0.0110093 --- Test  acc : 96.8 %\n"
     ]
    },
    {
     "name": "stderr",
     "output_type": "stream",
     "text": [
      " 93%|█████████▎| 93/100 [20:49<01:34, 13.43s/it]"
     ]
    },
    {
     "name": "stdout",
     "output_type": "stream",
     "text": [
      "Train loss : 0.011904 --- Train acc : 96.4717 %\n",
      "Test  loss : 0.0109027 --- Test  acc : 96.84 %\n"
     ]
    },
    {
     "name": "stderr",
     "output_type": "stream",
     "text": [
      " 94%|█████████▍| 94/100 [21:02<01:20, 13.43s/it]"
     ]
    },
    {
     "name": "stdout",
     "output_type": "stream",
     "text": [
      "Train loss : 0.0117799 --- Train acc : 96.5783 %\n",
      "Test  loss : 0.0108218 --- Test  acc : 96.97 %\n"
     ]
    },
    {
     "name": "stderr",
     "output_type": "stream",
     "text": [
      " 95%|█████████▌| 95/100 [21:16<01:07, 13.43s/it]"
     ]
    },
    {
     "name": "stdout",
     "output_type": "stream",
     "text": [
      "Train loss : 0.0117055 --- Train acc : 96.5383 %\n",
      "Test  loss : 0.0106999 --- Test  acc : 96.8 %\n"
     ]
    },
    {
     "name": "stderr",
     "output_type": "stream",
     "text": [
      " 96%|█████████▌| 96/100 [21:29<00:53, 13.43s/it]"
     ]
    },
    {
     "name": "stdout",
     "output_type": "stream",
     "text": [
      "Train loss : 0.0116079 --- Train acc : 96.56 %\n",
      "Test  loss : 0.0106022 --- Test  acc : 96.79 %\n"
     ]
    },
    {
     "name": "stderr",
     "output_type": "stream",
     "text": [
      " 97%|█████████▋| 97/100 [21:43<00:40, 13.44s/it]"
     ]
    },
    {
     "name": "stdout",
     "output_type": "stream",
     "text": [
      "Train loss : 0.0114922 --- Train acc : 96.605 %\n",
      "Test  loss : 0.0104901 --- Test  acc : 96.98 %\n"
     ]
    },
    {
     "name": "stderr",
     "output_type": "stream",
     "text": [
      " 98%|█████████▊| 98/100 [21:57<00:26, 13.44s/it]"
     ]
    },
    {
     "name": "stdout",
     "output_type": "stream",
     "text": [
      "Train loss : 0.0114686 --- Train acc : 96.6433 %\n",
      "Test  loss : 0.0104588 --- Test  acc : 97.01 %\n"
     ]
    },
    {
     "name": "stderr",
     "output_type": "stream",
     "text": [
      " 99%|█████████▉| 99/100 [22:10<00:13, 13.44s/it]"
     ]
    },
    {
     "name": "stdout",
     "output_type": "stream",
     "text": [
      "Train loss : 0.0113241 --- Train acc : 96.6633 %\n",
      "Test  loss : 0.0103496 --- Test  acc : 97 %\n"
     ]
    },
    {
     "name": "stderr",
     "output_type": "stream",
     "text": [
      "100%|██████████| 100/100 [22:24<00:00, 13.45s/it]"
     ]
    },
    {
     "name": "stdout",
     "output_type": "stream",
     "text": [
      "Train loss : 0.0112927 --- Train acc : 96.7333 %\n",
      "Test  loss : 0.0102694 --- Test  acc : 96.97 %\n"
     ]
    },
    {
     "name": "stderr",
     "output_type": "stream",
     "text": [
      "\n"
     ]
    }
   ],
   "source": [
    "train_stats = []\n",
    "test_stats  = []\n",
    "fractions   = []\n",
    "grad_stats  = []\n",
    "grad2_stats = []\n",
    "snr_stats   = []\n",
    "\n",
    "for epoch in tqdm(range(epochs)):\n",
    "    \n",
    "    # init accumulators grad and grad2\n",
    "    grad  = init_grad(model)\n",
    "    grad2 = init_grad(model)  \n",
    "    \n",
    "    for i, data in enumerate(train_loader, 0):\n",
    "                       \n",
    "        # get the inputs\n",
    "        inputs, labels = data\n",
    "        inputs = inputs.to(device)\n",
    "        labels = labels.to(device)  \n",
    "       \n",
    "        # zero the parameter gradients\n",
    "        optimizer.zero_grad()\n",
    "        \n",
    "        # forward + backward\n",
    "        outputs = model(inputs)\n",
    "        loss = criterion(outputs, labels)        \n",
    "        # compute the grad\n",
    "        loss.backward()\n",
    "                \n",
    "        # accumulate grad and grad2\n",
    "        grad  = acc_grad(grad,model)\n",
    "        grad2 = acc_grad2(grad2,model)\n",
    "        \n",
    "        if (i + 1) % n == 0 : \n",
    "            \n",
    "            # compute the snr \n",
    "            snr = compute_snr(grad, grad2, n)\n",
    "            \n",
    "            # temper the grad with the information on grad2\n",
    "            fr = []\n",
    "            with torch.no_grad():\n",
    "                for p, g, s in zip(model.parameters(), grad, snr): \n",
    "                    \n",
    "                    # average the grad            \n",
    "                    g = g/n\n",
    "                    \n",
    "                    # this is the only line where the true gradient is touched\n",
    "                    if MODIFIED_SGD:\n",
    "                        p.grad = torch.where(s > 1, g, s * g)          \n",
    "                    else:\n",
    "                        p.grad = g\n",
    "                        \n",
    "                    fr.append(  ( s < 1).sum().item() / \n",
    "                             torch.prod(torch.tensor( s.size() ) ).item()  )       \n",
    "            fractions.append(fr)\n",
    "    \n",
    "            # store statistics about grad, grad2 and snr    \n",
    "            grad_stats.append(  [ [x.mean().item(), x.std().item()]  for x in grad] )\n",
    "            grad2_stats.append( [ [x.mean().item(), x.std().item()]  for x in grad2] )\n",
    "            snr_stats.append(   [ [x.mean().item(), x.std().item()]  for x in snr] )\n",
    "        \n",
    "            # this is called after the large batch of n mini-batches\n",
    "            optimizer.step()\n",
    "            \n",
    "            # set to zero accumulators for grad and grad2\n",
    "            grad  = init_grad(model)\n",
    "            grad2 = init_grad(model)\n",
    "            \n",
    "                          \n",
    "    # save model\n",
    "    if SAVE:\n",
    "        #model.save_state_dict(model, os.path.join( RES, 'model_' + str(epoch) + '.pt') )\n",
    "        torch.save(model, os.path.join( RES, 'model_' + str(epoch) + '.pt') )\n",
    "        \n",
    "    # get statistics\n",
    "    train_stats.append(get_stats(train_loader))\n",
    "    test_stats.append(get_stats(test_loader))\n",
    "        \n",
    "    # print statistics\n",
    "    print('Train loss : %g --- Train acc : %g %%' % ( train_stats[-1][0], train_stats[-1][1] )) \n",
    "    print('Test  loss : %g --- Test  acc : %g %%' % ( test_stats[-1][0],  test_stats[-1][1] ))         "
   ]
  },
  {
   "cell_type": "code",
   "execution_count": 15,
   "metadata": {},
   "outputs": [],
   "source": [
    "# save loss and accuracies in a dictionary\n",
    "train_stats = np.asarray(train_stats)\n",
    "test_stats  = np.asarray(test_stats)\n",
    "fractions   = np.asarray(fractions)\n",
    "grad_stats  = np.asarray(grad_stats)\n",
    "grad2_stats = np.asarray(grad2_stats)\n",
    "snr_stats   = np.asarray(snr_stats)\n",
    "\n",
    "tags = ['train_stats', 'test_stats', 'fractions' ]\n",
    "vals = [train_stats, test_stats, fractions]\n",
    "training_data = dict(zip(tags, vals))\n",
    "if SAVE:\n",
    "    file = open( os.path.join( RES, 'training_data.pt') , 'wb' ) \n",
    "    pickle.dump(training_data,file)"
   ]
  },
  {
   "cell_type": "code",
   "execution_count": 16,
   "metadata": {},
   "outputs": [
    {
     "name": "stderr",
     "output_type": "stream",
     "text": [
      "/home/ansuini/.local/envs/pytorch/lib/python3.5/site-packages/ipykernel_launcher.py:22: FutureWarning: pd.rolling_mean is deprecated for ndarrays and will be removed in a future version\n",
      "/home/ansuini/.local/envs/pytorch/lib/python3.5/site-packages/ipykernel_launcher.py:31: FutureWarning: pd.rolling_mean is deprecated for ndarrays and will be removed in a future version\n",
      "/home/ansuini/.local/envs/pytorch/lib/python3.5/site-packages/ipykernel_launcher.py:38: FutureWarning: pd.rolling_mean is deprecated for ndarrays and will be removed in a future version\n",
      "/home/ansuini/.local/envs/pytorch/lib/python3.5/site-packages/ipykernel_launcher.py:45: FutureWarning: pd.rolling_mean is deprecated for ndarrays and will be removed in a future version\n",
      "/home/ansuini/.local/envs/pytorch/lib/python3.5/site-packages/ipykernel_launcher.py:52: FutureWarning: pd.rolling_mean is deprecated for ndarrays and will be removed in a future version\n",
      "/home/ansuini/.local/envs/pytorch/lib/python3.5/site-packages/ipykernel_launcher.py:60: FutureWarning: pd.rolling_mean is deprecated for ndarrays and will be removed in a future version\n",
      "/home/ansuini/.local/envs/pytorch/lib/python3.5/site-packages/ipykernel_launcher.py:67: FutureWarning: pd.rolling_mean is deprecated for ndarrays and will be removed in a future version\n"
     ]
    },
    {
     "data": {
      "image/png": "[encoded data removed]",
      "text/plain": [
       "<Figure size 1440x1440 with 9 Axes>"
      ]
     },
     "metadata": {},
     "output_type": "display_data"
    }
   ],
   "source": [
    "win = 30\n",
    "layer_names = [m[0] for idx,m in enumerate(model.named_modules()) ][1:]\n",
    "\n",
    "fig = plt.figure(figsize=(20,20))\n",
    "\n",
    "plt.subplot(3,3,1)\n",
    "plt.plot(train_stats[:,0],'-o',label='training loss')\n",
    "plt.plot(test_stats[:,0],'-o',label='test loss')\n",
    "plt.xlabel('epoch')\n",
    "plt.title('loss')\n",
    "\n",
    "\n",
    "plt.subplot(3,3,2)\n",
    "plt.plot(train_stats[:,1],'-o',label='training accuracy')\n",
    "plt.plot(test_stats[:,1],'-o',label='test accuracy')\n",
    "plt.xlabel('epoch')\n",
    "plt.title('accuracy')\n",
    "\n",
    "\n",
    "plt.subplot(3,3,3)\n",
    "for i in range(len(layer_names)):\n",
    "    plt.plot(np.arange(n_lb*epochs), pd.rolling_mean(fractions[:,i*2], win*2 ),label=layer_names[i])\n",
    "\n",
    "plt.legend()\n",
    "plt.xlabel('epoch')\n",
    "plt.title('fractions')\n",
    "\n",
    "\n",
    "plt.subplot(3,3,4)\n",
    "for i in range(len(layer_names)):\n",
    "    plt.plot(pd.rolling_mean( grad_stats[:,i*2,0], win ),label=layer_names[i])\n",
    "plt.legend()\n",
    "plt.xlabel('epoch')\n",
    "plt.title('grad mean')\n",
    "\n",
    "plt.subplot(3,3,5)\n",
    "for i in range(len(layer_names)):\n",
    "    plt.plot(pd.rolling_mean( grad_stats[:,i*2,1], win ),label=layer_names[i])\n",
    "plt.legend()\n",
    "plt.xlabel('epoch')\n",
    "plt.title('grad std')\n",
    "\n",
    "plt.subplot(3,3,6)\n",
    "for i in range(len(layer_names)):\n",
    "    plt.plot(pd.rolling_mean( grad2_stats[:,i*2,0], win),label=layer_names[i])\n",
    "plt.legend()\n",
    "plt.xlabel('epoch')\n",
    "plt.title('grad2 mean')\n",
    "\n",
    "plt.subplot(3,3,7)\n",
    "for i in range(len(layer_names)):\n",
    "    plt.plot(pd.rolling_mean( grad2_stats[:,i*2,1], win),label=layer_names[i])\n",
    "plt.legend()\n",
    "plt.xlabel('epoch')\n",
    "plt.title('grad2 std')\n",
    "\n",
    "\n",
    "plt.subplot(3,3,8)\n",
    "for i in range(len(layer_names)):\n",
    "    plt.plot(pd.rolling_mean( snr_stats[:,i*2,0], win),label=layer_names[i])\n",
    "plt.legend()\n",
    "plt.xlabel('epoch')\n",
    "plt.title('snr mean')\n",
    "\n",
    "plt.subplot(3,3,9)\n",
    "for i in range(len(layer_names)):\n",
    "    plt.plot(pd.rolling_mean( snr_stats[:,i*2,1], win),label=layer_names[i])\n",
    "plt.legend()\n",
    "plt.xlabel('epoch')\n",
    "plt.title('snr std')\n",
    "\n",
    "\n",
    "plt.savefig(os.path.join(FIG, 'mnist.png'))\n",
    "\n",
    "    \n",
    "plt.show()"
   ]
  },
  {
   "cell_type": "code",
   "execution_count": null,
   "metadata": {},
   "outputs": [],
   "source": []
  }
 ],
 "metadata": {
  "kernelspec": {
   "display_name": "PyTorch 0.4.0",
   "language": "python",
   "name": "pytorch"
  },
  "language_info": {
   "codemirror_mode": {
    "name": "ipython",
    "version": 3
   },
   "file_extension": ".py",
   "mimetype": "text/x-python",
   "name": "python",
   "nbconvert_exporter": "python",
   "pygments_lexer": "ipython3",
   "version": "3.5.2"
  }
 },
 "nbformat": 4,
 "nbformat_minor": 2
}
